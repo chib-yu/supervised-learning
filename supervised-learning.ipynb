{
 "cells": [
  {
   "cell_type": "markdown",
   "id": "61f47d29",
   "metadata": {},
   "source": [
    "# Исследование: Отток клиентов"
   ]
  },
  {
   "cell_type": "markdown",
   "id": "92eb75dc",
   "metadata": {},
   "source": [
    "**Задача:** Спрогнозировать, уйдёт клиент из банка в ближайшее время или нет. \n",
    "\n",
    "**Данные:** Исторические данные о поведении клиентов и расторжении договоров с банком. Источник данных: [https://www.kaggle.com/barelydedicated/bank-customer-churn-modeling](https://www.kaggle.com/barelydedicated/bank-customer-churn-modeling)\n",
    "\n",
    "**Цель:** Построить модель с предельно большим значением *F1*-меры. Довести метрику до 0.59. Проверить *F1*-меру на тестовой выборке, дополнительно измерить *AUC-ROC*, сравнить её значение с *F1*-мерой."
   ]
  },
  {
   "cell_type": "markdown",
   "id": "10d0faf5",
   "metadata": {},
   "source": [
    "## Чек-лист готовности проекта"
   ]
  },
  {
   "cell_type": "markdown",
   "id": "d42a400f",
   "metadata": {},
   "source": [
    "Поставьте 'x' в выполненных пунктах. Далее нажмите Shift+Enter."
   ]
  },
  {
   "cell_type": "markdown",
   "id": "9aede21b",
   "metadata": {},
   "source": [
    "- [ ]  Jupyter Notebook открыт\n",
    "- [ ]  Весь код выполняется без ошибок\n",
    "- [ ]  Ячейки с кодом расположены в порядке исполнения\n",
    "- [ ]  Выполнен шаг 1: данные подготовлены\n",
    "- [ ]  Выполнен шаг 2: задача исследована\n",
    "    - [ ]  Исследован баланс классов\n",
    "    - [ ]  Изучены модели без учёта дисбаланса\n",
    "    - [ ]  Написаны выводы по результатам исследования\n",
    "- [ ]  Выполнен шаг 3: учтён дисбаланс\n",
    "    - [ ]  Применено несколько способов борьбы с дисбалансом\n",
    "    - [ ]  Написаны выводы по результатам исследования\n",
    "- [ ]  Выполнен шаг 4: проведено тестирование\n",
    "- [ ]  Удалось достичь *F1*-меры не менее 0.59\n",
    "- [ ]  Исследована метрика *AUC-ROC*"
   ]
  }
 ],
 "metadata": {
  "ExecuteTimeLog": [
   {
    "duration": 1471,
    "start_time": "2022-03-27T12:31:36.322Z"
   },
   {
    "duration": 4,
    "start_time": "2022-03-27T12:33:08.089Z"
   },
   {
    "duration": 44,
    "start_time": "2022-03-27T12:33:09.984Z"
   },
   {
    "duration": 152,
    "start_time": "2022-03-27T12:33:25.209Z"
   },
   {
    "duration": 29,
    "start_time": "2022-03-27T12:34:42.319Z"
   },
   {
    "duration": 15,
    "start_time": "2022-03-27T12:35:03.807Z"
   },
   {
    "duration": 20,
    "start_time": "2022-03-27T12:36:04.351Z"
   },
   {
    "duration": 30,
    "start_time": "2022-03-27T12:36:08.326Z"
   },
   {
    "duration": 18,
    "start_time": "2022-03-27T12:36:24.228Z"
   },
   {
    "duration": 7,
    "start_time": "2022-03-27T12:37:12.590Z"
   },
   {
    "duration": 8,
    "start_time": "2022-03-27T12:37:21.355Z"
   },
   {
    "duration": 8,
    "start_time": "2022-03-27T12:37:36.291Z"
   },
   {
    "duration": 8,
    "start_time": "2022-03-27T12:38:49.322Z"
   },
   {
    "duration": 8,
    "start_time": "2022-03-27T12:39:33.224Z"
   },
   {
    "duration": 7,
    "start_time": "2022-03-27T12:39:49.808Z"
   },
   {
    "duration": 8,
    "start_time": "2022-03-27T12:45:37.193Z"
   },
   {
    "duration": 6,
    "start_time": "2022-03-27T12:45:46.816Z"
   },
   {
    "duration": 25,
    "start_time": "2022-03-27T12:46:15.248Z"
   },
   {
    "duration": 18,
    "start_time": "2022-03-27T12:46:29.311Z"
   },
   {
    "duration": 14,
    "start_time": "2022-03-27T12:49:32.853Z"
   },
   {
    "duration": 14,
    "start_time": "2022-03-27T12:54:04.999Z"
   },
   {
    "duration": 19,
    "start_time": "2022-03-27T12:54:11.140Z"
   },
   {
    "duration": 1492,
    "start_time": "2022-03-27T12:54:45.774Z"
   },
   {
    "duration": 47,
    "start_time": "2022-03-27T12:54:47.268Z"
   },
   {
    "duration": 29,
    "start_time": "2022-03-27T12:54:47.317Z"
   },
   {
    "duration": 24,
    "start_time": "2022-03-27T12:54:47.348Z"
   },
   {
    "duration": 55,
    "start_time": "2022-03-27T12:54:47.375Z"
   },
   {
    "duration": 28,
    "start_time": "2022-03-27T12:54:47.432Z"
   },
   {
    "duration": 33,
    "start_time": "2022-03-27T12:54:47.463Z"
   },
   {
    "duration": 1566,
    "start_time": "2022-03-27T12:55:21.989Z"
   },
   {
    "duration": 47,
    "start_time": "2022-03-27T12:55:23.557Z"
   },
   {
    "duration": 29,
    "start_time": "2022-03-27T12:55:23.607Z"
   },
   {
    "duration": 6,
    "start_time": "2022-03-27T12:55:23.638Z"
   },
   {
    "duration": 41,
    "start_time": "2022-03-27T12:55:23.647Z"
   },
   {
    "duration": 16,
    "start_time": "2022-03-27T12:55:23.690Z"
   },
   {
    "duration": 8,
    "start_time": "2022-03-27T12:55:23.708Z"
   },
   {
    "duration": 17,
    "start_time": "2022-03-27T13:02:38.460Z"
   },
   {
    "duration": 154,
    "start_time": "2022-03-27T13:07:52.255Z"
   },
   {
    "duration": 163,
    "start_time": "2022-03-27T13:31:51.070Z"
   },
   {
    "duration": 6,
    "start_time": "2022-03-27T13:32:01.552Z"
   },
   {
    "duration": 9,
    "start_time": "2022-03-27T13:33:11.164Z"
   },
   {
    "duration": 9,
    "start_time": "2022-03-27T13:35:20.978Z"
   },
   {
    "duration": 2364,
    "start_time": "2022-03-27T13:36:56.320Z"
   },
   {
    "duration": 1584,
    "start_time": "2022-03-27T13:37:14.262Z"
   },
   {
    "duration": 46,
    "start_time": "2022-03-27T13:37:15.849Z"
   },
   {
    "duration": 14,
    "start_time": "2022-03-27T13:37:15.897Z"
   },
   {
    "duration": 20,
    "start_time": "2022-03-27T13:37:15.914Z"
   },
   {
    "duration": 7,
    "start_time": "2022-03-27T13:37:15.937Z"
   },
   {
    "duration": 39,
    "start_time": "2022-03-27T13:37:15.947Z"
   },
   {
    "duration": 9,
    "start_time": "2022-03-27T13:37:15.989Z"
   },
   {
    "duration": 37,
    "start_time": "2022-03-27T13:37:16.001Z"
   },
   {
    "duration": 42,
    "start_time": "2022-03-27T13:37:16.041Z"
   },
   {
    "duration": 3,
    "start_time": "2022-03-27T13:37:16.087Z"
   },
   {
    "duration": 627,
    "start_time": "2022-03-27T13:37:16.092Z"
   },
   {
    "duration": 128,
    "start_time": "2022-03-27T13:37:16.722Z"
   },
   {
    "duration": 0,
    "start_time": "2022-03-27T13:37:16.852Z"
   },
   {
    "duration": 0,
    "start_time": "2022-03-27T13:37:16.854Z"
   },
   {
    "duration": 7,
    "start_time": "2022-03-27T13:37:48.484Z"
   },
   {
    "duration": 1497,
    "start_time": "2022-03-27T13:37:55.590Z"
   },
   {
    "duration": 46,
    "start_time": "2022-03-27T13:37:57.090Z"
   },
   {
    "duration": 14,
    "start_time": "2022-03-27T13:37:57.138Z"
   },
   {
    "duration": 43,
    "start_time": "2022-03-27T13:37:57.154Z"
   },
   {
    "duration": 13,
    "start_time": "2022-03-27T13:37:57.201Z"
   },
   {
    "duration": 5,
    "start_time": "2022-03-27T13:37:57.216Z"
   },
   {
    "duration": 8,
    "start_time": "2022-03-27T13:37:57.224Z"
   },
   {
    "duration": 50,
    "start_time": "2022-03-27T13:37:57.234Z"
   },
   {
    "duration": 17,
    "start_time": "2022-03-27T13:37:57.286Z"
   },
   {
    "duration": 3,
    "start_time": "2022-03-27T13:37:57.305Z"
   },
   {
    "duration": 660,
    "start_time": "2022-03-27T13:37:57.310Z"
   },
   {
    "duration": 130,
    "start_time": "2022-03-27T13:37:57.972Z"
   },
   {
    "duration": 0,
    "start_time": "2022-03-27T13:37:58.105Z"
   },
   {
    "duration": 0,
    "start_time": "2022-03-27T13:37:58.107Z"
   },
   {
    "duration": 1428,
    "start_time": "2022-03-27T13:40:45.519Z"
   },
   {
    "duration": 47,
    "start_time": "2022-03-27T13:40:46.950Z"
   },
   {
    "duration": 28,
    "start_time": "2022-03-27T13:40:46.999Z"
   },
   {
    "duration": 6,
    "start_time": "2022-03-27T13:40:47.029Z"
   },
   {
    "duration": 8,
    "start_time": "2022-03-27T13:40:47.038Z"
   },
   {
    "duration": 38,
    "start_time": "2022-03-27T13:40:47.048Z"
   },
   {
    "duration": 10,
    "start_time": "2022-03-27T13:40:47.088Z"
   },
   {
    "duration": 26,
    "start_time": "2022-03-27T13:40:47.100Z"
   },
   {
    "duration": 17,
    "start_time": "2022-03-27T13:40:47.128Z"
   },
   {
    "duration": 3,
    "start_time": "2022-03-27T13:40:47.147Z"
   },
   {
    "duration": 603,
    "start_time": "2022-03-27T13:40:47.183Z"
   },
   {
    "duration": 149,
    "start_time": "2022-03-27T13:40:47.788Z"
   },
   {
    "duration": 0,
    "start_time": "2022-03-27T13:40:47.939Z"
   },
   {
    "duration": 0,
    "start_time": "2022-03-27T13:40:47.941Z"
   },
   {
    "duration": 1508,
    "start_time": "2022-03-27T13:42:20.427Z"
   },
   {
    "duration": 51,
    "start_time": "2022-03-27T13:42:21.938Z"
   },
   {
    "duration": 32,
    "start_time": "2022-03-27T13:42:21.992Z"
   },
   {
    "duration": 17,
    "start_time": "2022-03-27T13:42:22.027Z"
   },
   {
    "duration": 40,
    "start_time": "2022-03-27T13:42:22.046Z"
   },
   {
    "duration": 46,
    "start_time": "2022-03-27T13:42:22.088Z"
   },
   {
    "duration": 35,
    "start_time": "2022-03-27T13:42:22.137Z"
   },
   {
    "duration": 61,
    "start_time": "2022-03-27T13:42:22.175Z"
   },
   {
    "duration": 43,
    "start_time": "2022-03-27T13:42:22.239Z"
   },
   {
    "duration": 38,
    "start_time": "2022-03-27T13:42:22.288Z"
   },
   {
    "duration": 709,
    "start_time": "2022-03-27T13:42:22.329Z"
   },
   {
    "duration": 176,
    "start_time": "2022-03-27T13:42:23.040Z"
   },
   {
    "duration": 0,
    "start_time": "2022-03-27T13:42:23.219Z"
   },
   {
    "duration": 0,
    "start_time": "2022-03-27T13:42:23.220Z"
   },
   {
    "duration": 150,
    "start_time": "2022-03-27T13:44:09.185Z"
   },
   {
    "duration": 29089,
    "start_time": "2022-03-27T13:44:19.448Z"
   },
   {
    "duration": 28218,
    "start_time": "2022-03-27T13:45:47.183Z"
   },
   {
    "duration": 28955,
    "start_time": "2022-03-27T13:47:32.460Z"
   },
   {
    "duration": 70690,
    "start_time": "2022-03-27T13:49:02.874Z"
   },
   {
    "duration": 102,
    "start_time": "2022-03-27T13:52:24.582Z"
   },
   {
    "duration": 8,
    "start_time": "2022-03-27T13:52:39.669Z"
   },
   {
    "duration": 96872,
    "start_time": "2022-03-27T14:03:09.113Z"
   },
   {
    "duration": 8,
    "start_time": "2022-03-27T14:05:35.029Z"
   },
   {
    "duration": 8,
    "start_time": "2022-03-27T14:05:49.213Z"
   },
   {
    "duration": 6,
    "start_time": "2022-03-27T14:06:07.860Z"
   },
   {
    "duration": 298,
    "start_time": "2022-03-27T14:08:23.522Z"
   },
   {
    "duration": 12,
    "start_time": "2022-03-27T14:08:45.280Z"
   },
   {
    "duration": 31,
    "start_time": "2022-03-27T14:08:48.455Z"
   },
   {
    "duration": 5,
    "start_time": "2022-03-27T14:09:17.487Z"
   },
   {
    "duration": 18,
    "start_time": "2022-03-27T14:09:23.072Z"
   },
   {
    "duration": 406,
    "start_time": "2022-03-27T14:09:27.127Z"
   },
   {
    "duration": 403,
    "start_time": "2022-03-27T14:09:56.407Z"
   },
   {
    "duration": 110015,
    "start_time": "2022-03-27T14:11:24.261Z"
   },
   {
    "duration": 158516,
    "start_time": "2022-03-27T14:14:04.969Z"
   },
   {
    "duration": 60,
    "start_time": "2022-03-27T14:18:36.762Z"
   },
   {
    "duration": 1148,
    "start_time": "2022-03-27T19:23:50.978Z"
   },
   {
    "duration": 40,
    "start_time": "2022-03-27T19:23:52.128Z"
   },
   {
    "duration": 20,
    "start_time": "2022-03-27T19:23:52.169Z"
   },
   {
    "duration": 5,
    "start_time": "2022-03-27T19:23:52.192Z"
   },
   {
    "duration": 10,
    "start_time": "2022-03-27T19:23:52.199Z"
   },
   {
    "duration": 4,
    "start_time": "2022-03-27T19:23:52.211Z"
   },
   {
    "duration": 13,
    "start_time": "2022-03-27T19:23:52.217Z"
   },
   {
    "duration": 18,
    "start_time": "2022-03-27T19:23:52.231Z"
   },
   {
    "duration": 12,
    "start_time": "2022-03-27T19:23:52.250Z"
   },
   {
    "duration": 2,
    "start_time": "2022-03-27T19:23:52.265Z"
   },
   {
    "duration": 529,
    "start_time": "2022-03-27T19:23:52.270Z"
   },
   {
    "duration": 56516,
    "start_time": "2022-03-27T19:23:52.801Z"
   },
   {
    "duration": 100,
    "start_time": "2022-03-27T19:24:49.319Z"
   },
   {
    "duration": 92,
    "start_time": "2022-03-27T19:24:49.422Z"
   },
   {
    "duration": 7,
    "start_time": "2022-03-27T19:24:49.516Z"
   },
   {
    "duration": 18,
    "start_time": "2022-03-27T19:24:49.525Z"
   },
   {
    "duration": 379,
    "start_time": "2022-03-27T19:24:49.545Z"
   },
   {
    "duration": 75685,
    "start_time": "2022-03-27T19:24:49.926Z"
   },
   {
    "duration": 1266,
    "start_time": "2022-03-27T19:26:05.612Z"
   },
   {
    "duration": 76,
    "start_time": "2022-03-27T19:26:06.880Z"
   },
   {
    "duration": 63,
    "start_time": "2022-03-27T19:26:54.075Z"
   },
   {
    "duration": 1201,
    "start_time": "2022-03-27T19:28:13.463Z"
   },
   {
    "duration": 37,
    "start_time": "2022-03-27T19:28:14.667Z"
   },
   {
    "duration": 31,
    "start_time": "2022-03-27T19:28:14.706Z"
   },
   {
    "duration": 6,
    "start_time": "2022-03-27T19:28:14.739Z"
   },
   {
    "duration": 9,
    "start_time": "2022-03-27T19:28:14.749Z"
   },
   {
    "duration": 4,
    "start_time": "2022-03-27T19:28:14.760Z"
   },
   {
    "duration": 6,
    "start_time": "2022-03-27T19:28:14.765Z"
   },
   {
    "duration": 52,
    "start_time": "2022-03-27T19:28:14.773Z"
   },
   {
    "duration": 16,
    "start_time": "2022-03-27T19:28:14.827Z"
   },
   {
    "duration": 3,
    "start_time": "2022-03-27T19:28:14.845Z"
   },
   {
    "duration": 547,
    "start_time": "2022-03-27T19:28:14.850Z"
   },
   {
    "duration": 56688,
    "start_time": "2022-03-27T19:28:15.399Z"
   },
   {
    "duration": 121,
    "start_time": "2022-03-27T19:29:12.089Z"
   },
   {
    "duration": 94,
    "start_time": "2022-03-27T19:29:12.218Z"
   },
   {
    "duration": 5,
    "start_time": "2022-03-27T19:29:12.314Z"
   },
   {
    "duration": 14,
    "start_time": "2022-03-27T19:29:12.321Z"
   },
   {
    "duration": 343,
    "start_time": "2022-03-27T19:29:12.337Z"
   },
   {
    "duration": 76335,
    "start_time": "2022-03-27T19:29:12.682Z"
   },
   {
    "duration": 2,
    "start_time": "2022-03-27T19:30:29.019Z"
   },
   {
    "duration": 62,
    "start_time": "2022-03-27T19:30:29.022Z"
   },
   {
    "duration": 44,
    "start_time": "2022-03-28T06:17:01.953Z"
   },
   {
    "duration": 1175,
    "start_time": "2022-03-28T06:17:09.349Z"
   },
   {
    "duration": 35,
    "start_time": "2022-03-28T06:17:11.373Z"
   },
   {
    "duration": 19,
    "start_time": "2022-03-28T06:17:14.974Z"
   },
   {
    "duration": 4,
    "start_time": "2022-03-28T06:17:17.541Z"
   },
   {
    "duration": 6,
    "start_time": "2022-03-28T06:17:19.437Z"
   },
   {
    "duration": 554,
    "start_time": "2022-03-28T06:17:21.285Z"
   },
   {
    "duration": 68,
    "start_time": "2022-03-28T06:18:07.876Z"
   },
   {
    "duration": 5,
    "start_time": "2022-03-28T06:18:15.756Z"
   },
   {
    "duration": 5,
    "start_time": "2022-03-28T06:19:55.146Z"
   },
   {
    "duration": 18,
    "start_time": "2022-03-28T06:19:59.970Z"
   },
   {
    "duration": 12,
    "start_time": "2022-03-28T06:20:03.729Z"
   },
   {
    "duration": 2,
    "start_time": "2022-03-28T06:20:23.225Z"
   },
   {
    "duration": 21,
    "start_time": "2022-03-28T06:21:19.064Z"
   },
   {
    "duration": 3,
    "start_time": "2022-03-28T06:21:31.727Z"
   },
   {
    "duration": 35,
    "start_time": "2022-03-28T06:21:33.688Z"
   },
   {
    "duration": 4,
    "start_time": "2022-03-28T06:21:41.551Z"
   },
   {
    "duration": 6,
    "start_time": "2022-03-28T06:21:44.047Z"
   },
   {
    "duration": 17,
    "start_time": "2022-03-28T06:21:46.494Z"
   },
   {
    "duration": 11,
    "start_time": "2022-03-28T06:21:50.926Z"
   },
   {
    "duration": 4,
    "start_time": "2022-03-28T06:21:54.822Z"
   },
   {
    "duration": 711,
    "start_time": "2022-03-28T06:21:57.558Z"
   },
   {
    "duration": 31852,
    "start_time": "2022-03-28T06:22:12.910Z"
   },
   {
    "duration": 55019,
    "start_time": "2022-03-28T06:22:58.318Z"
   },
   {
    "duration": 75013,
    "start_time": "2022-03-28T06:25:14.051Z"
   },
   {
    "duration": 99133,
    "start_time": "2022-03-28T06:26:43.432Z"
   },
   {
    "duration": 94,
    "start_time": "2022-03-28T06:29:37.972Z"
   },
   {
    "duration": 5,
    "start_time": "2022-03-28T06:29:41.420Z"
   },
   {
    "duration": 6,
    "start_time": "2022-03-28T06:30:07.563Z"
   },
   {
    "duration": 53,
    "start_time": "2022-03-28T06:30:15.755Z"
   },
   {
    "duration": 12,
    "start_time": "2022-03-28T06:31:15.066Z"
   },
   {
    "duration": 360,
    "start_time": "2022-03-28T06:31:33.241Z"
   },
   {
    "duration": 125107,
    "start_time": "2022-03-28T06:32:24.224Z"
   },
   {
    "duration": 53,
    "start_time": "2022-03-28T06:35:01.357Z"
   },
   {
    "duration": 49,
    "start_time": "2022-03-28T06:35:47.012Z"
   },
   {
    "duration": 164,
    "start_time": "2022-03-28T06:38:47.736Z"
   },
   {
    "duration": 680,
    "start_time": "2022-03-28T06:38:59.215Z"
   },
   {
    "duration": 734,
    "start_time": "2022-03-28T06:39:23.415Z"
   },
   {
    "duration": 52,
    "start_time": "2022-03-28T07:02:20.033Z"
   },
   {
    "duration": 171,
    "start_time": "2022-03-28T07:03:31.492Z"
   },
   {
    "duration": 212,
    "start_time": "2022-03-28T07:03:42.855Z"
   }
  ],
  "kernelspec": {
   "display_name": "Python 3 (ipykernel)",
   "language": "python",
   "name": "python3"
  },
  "language_info": {
   "codemirror_mode": {
    "name": "ipython",
    "version": 3
   },
   "file_extension": ".py",
   "mimetype": "text/x-python",
   "name": "python",
   "nbconvert_exporter": "python",
   "pygments_lexer": "ipython3",
   "version": "3.9.5"
  },
  "toc": {
   "base_numbering": 1,
   "nav_menu": {},
   "number_sections": true,
   "sideBar": true,
   "skip_h1_title": true,
   "title_cell": "Содержание",
   "title_sidebar": "Contents",
   "toc_cell": true,
   "toc_position": {
    "height": "calc(100% - 180px)",
    "left": "10px",
    "top": "150px",
    "width": "323.903px"
   },
   "toc_section_display": true,
   "toc_window_display": true
  }
 },
 "nbformat": 4,
 "nbformat_minor": 5
}
