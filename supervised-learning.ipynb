{
 "cells": [
  {
   "cell_type": "markdown",
   "metadata": {
    "toc": true
   },
   "source": [
    "<h1>Содержание<span class=\"tocSkip\"></span></h1>\n",
    "<div class=\"toc\"><ul class=\"toc-item\"><li><span><a href=\"#Подготовка-данных\" data-toc-modified-id=\"Подготовка-данных-1\"><span class=\"toc-item-num\">1&nbsp;&nbsp;</span>Подготовка данных</a></span><ul class=\"toc-item\"><li><span><a href=\"#Открытие-файла-и-изучение-данных\" data-toc-modified-id=\"Открытие-файла-и-изучение-данных-1.1\"><span class=\"toc-item-num\">1.1&nbsp;&nbsp;</span>Открытие файла и изучение данных</a></span></li><li><span><a href=\"#Подготовка-признаков\" data-toc-modified-id=\"Подготовка-признаков-1.2\"><span class=\"toc-item-num\">1.2&nbsp;&nbsp;</span>Подготовка признаков</a></span></li><li><span><a href=\"#Создание-обучающей,-валидационной-и-тестовой-выборок\" data-toc-modified-id=\"Создание-обучающей,-валидационной-и-тестовой-выборок-1.3\"><span class=\"toc-item-num\">1.3&nbsp;&nbsp;</span>Создание обучающей, валидационной и тестовой выборок</a></span></li><li><span><a href=\"#Выводы-по-п.-1\" data-toc-modified-id=\"Выводы-по-п.-1-1.4\"><span class=\"toc-item-num\">1.4&nbsp;&nbsp;</span>Выводы по п. 1</a></span></li></ul></li><li><span><a href=\"#Исследование-задачи\" data-toc-modified-id=\"Исследование-задачи-2\"><span class=\"toc-item-num\">2&nbsp;&nbsp;</span>Исследование задачи</a></span><ul class=\"toc-item\"><li><span><a href=\"#Модель-решающего-дерева\" data-toc-modified-id=\"Модель-решающего-дерева-2.1\"><span class=\"toc-item-num\">2.1&nbsp;&nbsp;</span>Модель решающего дерева</a></span></li><li><span><a href=\"#Модель-случайного-леса\" data-toc-modified-id=\"Модель-случайного-леса-2.2\"><span class=\"toc-item-num\">2.2&nbsp;&nbsp;</span>Модель случайного леса</a></span></li><li><span><a href=\"#Логистическая-регрессия\" data-toc-modified-id=\"Логистическая-регрессия-2.3\"><span class=\"toc-item-num\">2.3&nbsp;&nbsp;</span>Логистическая регрессия</a></span></li><li><span><a href=\"#Сравнение-моделей-разного-типа\" data-toc-modified-id=\"Сравнение-моделей-разного-типа-2.4\"><span class=\"toc-item-num\">2.4&nbsp;&nbsp;</span>Сравнение моделей разного типа</a></span></li><li><span><a href=\"#Выводы-по-п.-2\" data-toc-modified-id=\"Выводы-по-п.-2-2.5\"><span class=\"toc-item-num\">2.5&nbsp;&nbsp;</span>Выводы по п. 2</a></span></li></ul></li><li><span><a href=\"#Борьба-с-дисбалансом\" data-toc-modified-id=\"Борьба-с-дисбалансом-3\"><span class=\"toc-item-num\">3&nbsp;&nbsp;</span>Борьба с дисбалансом</a></span><ul class=\"toc-item\"><li><span><a href=\"#Модель-решающего-дерева\" data-toc-modified-id=\"Модель-решающего-дерева-3.1\"><span class=\"toc-item-num\">3.1&nbsp;&nbsp;</span>Модель решающего дерева</a></span><ul class=\"toc-item\"><li><span><a href=\"#Метод-class_weight\" data-toc-modified-id=\"Метод-class_weight-3.1.1\"><span class=\"toc-item-num\">3.1.1&nbsp;&nbsp;</span>Метод class_weight</a></span></li><li><span><a href=\"#Метод-upsampling\" data-toc-modified-id=\"Метод-upsampling-3.1.2\"><span class=\"toc-item-num\">3.1.2&nbsp;&nbsp;</span>Метод upsampling</a></span></li></ul></li><li><span><a href=\"#Модель-случайного-леса\" data-toc-modified-id=\"Модель-случайного-леса-3.2\"><span class=\"toc-item-num\">3.2&nbsp;&nbsp;</span>Модель случайного леса</a></span><ul class=\"toc-item\"><li><span><a href=\"#Метод-class_weight\" data-toc-modified-id=\"Метод-class_weight-3.2.1\"><span class=\"toc-item-num\">3.2.1&nbsp;&nbsp;</span>Метод class_weight</a></span></li><li><span><a href=\"#Метод-upsampling\" data-toc-modified-id=\"Метод-upsampling-3.2.2\"><span class=\"toc-item-num\">3.2.2&nbsp;&nbsp;</span>Метод upsampling</a></span></li></ul></li><li><span><a href=\"#Логистическая-регрессия\" data-toc-modified-id=\"Логистическая-регрессия-3.3\"><span class=\"toc-item-num\">3.3&nbsp;&nbsp;</span>Логистическая регрессия</a></span><ul class=\"toc-item\"><li><span><a href=\"#Метод-class_weight\" data-toc-modified-id=\"Метод-class_weight-3.3.1\"><span class=\"toc-item-num\">3.3.1&nbsp;&nbsp;</span>Метод class_weight</a></span></li><li><span><a href=\"#Метод-upsampling\" data-toc-modified-id=\"Метод-upsampling-3.3.2\"><span class=\"toc-item-num\">3.3.2&nbsp;&nbsp;</span>Метод upsampling</a></span></li></ul></li><li><span><a href=\"#Сравнение-моделей-разного-типа\" data-toc-modified-id=\"Сравнение-моделей-разного-типа-3.4\"><span class=\"toc-item-num\">3.4&nbsp;&nbsp;</span>Сравнение моделей разного типа</a></span></li><li><span><a href=\"#Дообучение-модели-с-наилучшими-гиперпараметрами\" data-toc-modified-id=\"Дообучение-модели-с-наилучшими-гиперпараметрами-3.5\"><span class=\"toc-item-num\">3.5&nbsp;&nbsp;</span>Дообучение модели с наилучшими гиперпараметрами</a></span></li><li><span><a href=\"#Выводы-по-п.-3\" data-toc-modified-id=\"Выводы-по-п.-3-3.6\"><span class=\"toc-item-num\">3.6&nbsp;&nbsp;</span>Выводы по п. 3</a></span></li></ul></li><li><span><a href=\"#Тестирование-модели\" data-toc-modified-id=\"Тестирование-модели-4\"><span class=\"toc-item-num\">4&nbsp;&nbsp;</span>Тестирование модели</a></span><ul class=\"toc-item\"><li><span><a href=\"#Выводы-по-п.-4\" data-toc-modified-id=\"Выводы-по-п.-4-4.1\"><span class=\"toc-item-num\">4.1&nbsp;&nbsp;</span>Выводы по п. 4</a></span></li></ul></li><li><span><a href=\"#Выводы-по-проекту\" data-toc-modified-id=\"Выводы-по-проекту-5\"><span class=\"toc-item-num\">5&nbsp;&nbsp;</span>Выводы по проекту</a></span></li><li><span><a href=\"#Чек-лист-готовности-проекта\" data-toc-modified-id=\"Чек-лист-готовности-проекта-6\"><span class=\"toc-item-num\">6&nbsp;&nbsp;</span>Чек-лист готовности проекта</a></span></li></ul></div>"
   ]
  },
  {
   "cell_type": "markdown",
   "metadata": {},
   "source": [
    "# Исследование: Отток клиентов"
   ]
  },
  {
   "cell_type": "markdown",
   "metadata": {},
   "source": [
    "**Задача:** Спрогнозировать, уйдёт клиент из банка в ближайшее время или нет. \n",
    "\n",
    "**Данные:** Исторические данные о поведении клиентов и расторжении договоров с банком. Источник данных: [https://www.kaggle.com/barelydedicated/bank-customer-churn-modeling](https://www.kaggle.com/barelydedicated/bank-customer-churn-modeling)\n",
    "\n",
    "**Цель:** Построить модель с предельно большим значением *F1*-меры. Довести метрику до 0.59. Проверить *F1*-меру на тестовой выборке, дополнительно измерить *AUC-ROC*, сравнить её значение с *F1*-мерой."
   ]
  },
  {
   "cell_type": "markdown",
   "metadata": {},
   "source": [
    "## Подготовка данных"
   ]
  },
  {
   "cell_type": "markdown",
   "metadata": {},
   "source": [
    "### Открытие файла и изучение данных"
   ]
  },
  {
   "cell_type": "code",
   "execution_count": 1,
   "metadata": {
    "scrolled": true
   },
   "outputs": [],
   "source": [
    "import pandas as pd\n",
    "import numpy as np\n",
    "from sklearn.tree import DecisionTreeClassifier\n",
    "from sklearn.ensemble import RandomForestClassifier\n",
    "from sklearn.linear_model import LogisticRegression\n",
    "from sklearn.metrics import f1_score\n",
    "from sklearn.metrics import roc_auc_score\n",
    "from sklearn.model_selection import train_test_split\n",
    "from sklearn.utils import shuffle"
   ]
  },
  {
   "cell_type": "code",
   "execution_count": 2,
   "metadata": {
    "scrolled": true
   },
   "outputs": [
    {
     "name": "stdout",
     "output_type": "stream",
     "text": [
      "<class 'pandas.core.frame.DataFrame'>\n",
      "RangeIndex: 10000 entries, 0 to 9999\n",
      "Data columns (total 14 columns):\n",
      " #   Column           Non-Null Count  Dtype  \n",
      "---  ------           --------------  -----  \n",
      " 0   RowNumber        10000 non-null  int64  \n",
      " 1   CustomerId       10000 non-null  int64  \n",
      " 2   Surname          10000 non-null  object \n",
      " 3   CreditScore      10000 non-null  int64  \n",
      " 4   Geography        10000 non-null  object \n",
      " 5   Gender           10000 non-null  object \n",
      " 6   Age              10000 non-null  int64  \n",
      " 7   Tenure           9091 non-null   float64\n",
      " 8   Balance          10000 non-null  float64\n",
      " 9   NumOfProducts    10000 non-null  int64  \n",
      " 10  HasCrCard        10000 non-null  int64  \n",
      " 11  IsActiveMember   10000 non-null  int64  \n",
      " 12  EstimatedSalary  10000 non-null  float64\n",
      " 13  Exited           10000 non-null  int64  \n",
      "dtypes: float64(3), int64(8), object(3)\n",
      "memory usage: 1.1+ MB\n"
     ]
    }
   ],
   "source": [
    "try:\n",
    "    df = pd.read_csv('/datasets/Churn.csv') # server path\n",
    "except:\n",
    "    df = pd.read_csv('C:/Users/datasets/Churn.csv') # local path\n",
    "\n",
    "df.info()"
   ]
  },
  {
   "cell_type": "markdown",
   "metadata": {},
   "source": [
    "**Описание данных**\n",
    "\n",
    "Признаки:\n",
    "- RowNumber — индекс строки в данных\n",
    "- CustomerId — уникальный идентификатор клиента\n",
    "- Surname — фамилия\n",
    "- CreditScore — кредитный рейтинг\n",
    "- Geography — страна проживания\n",
    "- Gender — пол\n",
    "- Age — возраст\n",
    "- Tenure — сколько лет человек является клиентом банка\n",
    "- Balance — баланс на счёте\n",
    "- NumOfProducts — количество продуктов банка, используемых клиентом\n",
    "- HasCrCard — наличие кредитной карты\n",
    "- IsActiveMember — активность клиента\n",
    "- EstimatedSalary — предполагаемая зарплата\n",
    "\n",
    "Целевой признак:\n",
    "- Exited — факт ухода клиента"
   ]
  },
  {
   "cell_type": "code",
   "execution_count": 3,
   "metadata": {
    "scrolled": true
   },
   "outputs": [
    {
     "data": {
      "text/html": [
       "<div>\n",
       "<style scoped>\n",
       "    .dataframe tbody tr th:only-of-type {\n",
       "        vertical-align: middle;\n",
       "    }\n",
       "\n",
       "    .dataframe tbody tr th {\n",
       "        vertical-align: top;\n",
       "    }\n",
       "\n",
       "    .dataframe thead th {\n",
       "        text-align: right;\n",
       "    }\n",
       "</style>\n",
       "<table border=\"1\" class=\"dataframe\">\n",
       "  <thead>\n",
       "    <tr style=\"text-align: right;\">\n",
       "      <th></th>\n",
       "      <th>RowNumber</th>\n",
       "      <th>CustomerId</th>\n",
       "      <th>Surname</th>\n",
       "      <th>CreditScore</th>\n",
       "      <th>Geography</th>\n",
       "      <th>Gender</th>\n",
       "      <th>Age</th>\n",
       "      <th>Tenure</th>\n",
       "      <th>Balance</th>\n",
       "      <th>NumOfProducts</th>\n",
       "      <th>HasCrCard</th>\n",
       "      <th>IsActiveMember</th>\n",
       "      <th>EstimatedSalary</th>\n",
       "      <th>Exited</th>\n",
       "    </tr>\n",
       "  </thead>\n",
       "  <tbody>\n",
       "    <tr>\n",
       "      <th>0</th>\n",
       "      <td>1</td>\n",
       "      <td>15634602</td>\n",
       "      <td>Hargrave</td>\n",
       "      <td>619</td>\n",
       "      <td>France</td>\n",
       "      <td>Female</td>\n",
       "      <td>42</td>\n",
       "      <td>2.0</td>\n",
       "      <td>0.00</td>\n",
       "      <td>1</td>\n",
       "      <td>1</td>\n",
       "      <td>1</td>\n",
       "      <td>101348.88</td>\n",
       "      <td>1</td>\n",
       "    </tr>\n",
       "    <tr>\n",
       "      <th>1</th>\n",
       "      <td>2</td>\n",
       "      <td>15647311</td>\n",
       "      <td>Hill</td>\n",
       "      <td>608</td>\n",
       "      <td>Spain</td>\n",
       "      <td>Female</td>\n",
       "      <td>41</td>\n",
       "      <td>1.0</td>\n",
       "      <td>83807.86</td>\n",
       "      <td>1</td>\n",
       "      <td>0</td>\n",
       "      <td>1</td>\n",
       "      <td>112542.58</td>\n",
       "      <td>0</td>\n",
       "    </tr>\n",
       "    <tr>\n",
       "      <th>2</th>\n",
       "      <td>3</td>\n",
       "      <td>15619304</td>\n",
       "      <td>Onio</td>\n",
       "      <td>502</td>\n",
       "      <td>France</td>\n",
       "      <td>Female</td>\n",
       "      <td>42</td>\n",
       "      <td>8.0</td>\n",
       "      <td>159660.80</td>\n",
       "      <td>3</td>\n",
       "      <td>1</td>\n",
       "      <td>0</td>\n",
       "      <td>113931.57</td>\n",
       "      <td>1</td>\n",
       "    </tr>\n",
       "    <tr>\n",
       "      <th>3</th>\n",
       "      <td>4</td>\n",
       "      <td>15701354</td>\n",
       "      <td>Boni</td>\n",
       "      <td>699</td>\n",
       "      <td>France</td>\n",
       "      <td>Female</td>\n",
       "      <td>39</td>\n",
       "      <td>1.0</td>\n",
       "      <td>0.00</td>\n",
       "      <td>2</td>\n",
       "      <td>0</td>\n",
       "      <td>0</td>\n",
       "      <td>93826.63</td>\n",
       "      <td>0</td>\n",
       "    </tr>\n",
       "    <tr>\n",
       "      <th>4</th>\n",
       "      <td>5</td>\n",
       "      <td>15737888</td>\n",
       "      <td>Mitchell</td>\n",
       "      <td>850</td>\n",
       "      <td>Spain</td>\n",
       "      <td>Female</td>\n",
       "      <td>43</td>\n",
       "      <td>2.0</td>\n",
       "      <td>125510.82</td>\n",
       "      <td>1</td>\n",
       "      <td>1</td>\n",
       "      <td>1</td>\n",
       "      <td>79084.10</td>\n",
       "      <td>0</td>\n",
       "    </tr>\n",
       "  </tbody>\n",
       "</table>\n",
       "</div>"
      ],
      "text/plain": [
       "   RowNumber  CustomerId   Surname  CreditScore Geography  Gender  Age  \\\n",
       "0          1    15634602  Hargrave          619    France  Female   42   \n",
       "1          2    15647311      Hill          608     Spain  Female   41   \n",
       "2          3    15619304      Onio          502    France  Female   42   \n",
       "3          4    15701354      Boni          699    France  Female   39   \n",
       "4          5    15737888  Mitchell          850     Spain  Female   43   \n",
       "\n",
       "   Tenure    Balance  NumOfProducts  HasCrCard  IsActiveMember  \\\n",
       "0     2.0       0.00              1          1               1   \n",
       "1     1.0   83807.86              1          0               1   \n",
       "2     8.0  159660.80              3          1               0   \n",
       "3     1.0       0.00              2          0               0   \n",
       "4     2.0  125510.82              1          1               1   \n",
       "\n",
       "   EstimatedSalary  Exited  \n",
       "0        101348.88       1  \n",
       "1        112542.58       0  \n",
       "2        113931.57       1  \n",
       "3         93826.63       0  \n",
       "4         79084.10       0  "
      ]
     },
     "execution_count": 3,
     "metadata": {},
     "output_type": "execute_result"
    }
   ],
   "source": [
    "df.head(n=5)"
   ]
  },
  {
   "cell_type": "markdown",
   "metadata": {},
   "source": [
    "Датафрейм содержит 10000 записей. \n",
    "\n",
    "Есть пропуски в столбце 'Tenure'. Кроме того, данные в нем, вероятно, следует преобразовать в целочисленный тип.\n",
    "\n",
    "Данные в столбцах 'RowNumber', 'CustomerId' и 'Surname' не связаны с целевым признаком и, вероятно, будут мешать проведению обучения.\n",
    "\n",
    "Имеются столбцы с категориальными признаками:\n",
    "- Geography — страна проживания;\n",
    "- Gender — пол."
   ]
  },
  {
   "cell_type": "markdown",
   "metadata": {},
   "source": [
    "### Подготовка признаков"
   ]
  },
  {
   "cell_type": "code",
   "execution_count": 4,
   "metadata": {},
   "outputs": [
    {
     "data": {
      "text/plain": [
       "909"
      ]
     },
     "execution_count": 4,
     "metadata": {},
     "output_type": "execute_result"
    }
   ],
   "source": [
    "df['Tenure'].isna().sum()"
   ]
  },
  {
   "cell_type": "code",
   "execution_count": 5,
   "metadata": {
    "scrolled": true
   },
   "outputs": [
    {
     "data": {
      "text/plain": [
       "array([ 2.,  1.,  8.,  7.,  4.,  6.,  3., 10.,  5.,  9.,  0., nan])"
      ]
     },
     "execution_count": 5,
     "metadata": {},
     "output_type": "execute_result"
    }
   ],
   "source": [
    "df['Tenure'].unique()"
   ]
  },
  {
   "cell_type": "code",
   "execution_count": 6,
   "metadata": {},
   "outputs": [
    {
     "data": {
      "text/plain": [
       "<AxesSubplot:>"
      ]
     },
     "execution_count": 6,
     "metadata": {},
     "output_type": "execute_result"
    },
    {
     "data": {
      "image/png": "[encoded data removed]",
      "text/plain": [
       "<Figure size 432x288 with 1 Axes>"
      ]
     },
     "metadata": {
      "needs_background": "light"
     },
     "output_type": "display_data"
    }
   ],
   "source": [
    "df['Tenure'].hist(bins=11)"
   ]
  },
  {
   "cell_type": "markdown",
   "metadata": {},
   "source": [
    "В столбце 'Tenure' 909 пропущенных значений, при этом необычно мало значений, равных 0. Скорее всего, пропущенные значения соответствуют нулям.\n",
    "\n",
    "Все не пропущенные значения являются целочисленными."
   ]
  },
  {
   "cell_type": "code",
   "execution_count": 7,
   "metadata": {},
   "outputs": [],
   "source": [
    "df['Tenure'] = df['Tenure'].fillna(0).astype('int')"
   ]
  },
  {
   "cell_type": "markdown",
   "metadata": {},
   "source": [
    "Проведено заполнение нулями пропущенных значений в столбце 'Tenure' и замена его типа на целочисленный."
   ]
  },
  {
   "cell_type": "code",
   "execution_count": 8,
   "metadata": {},
   "outputs": [],
   "source": [
    "df = df.drop(['RowNumber', 'CustomerId', 'Surname'], axis=1)"
   ]
  },
  {
   "cell_type": "markdown",
   "metadata": {},
   "source": [
    "Из данных удалены неинформативные признаки, которые могут помешать проведению обучения:\n",
    "- RowNumber — индекс строки в данных;\n",
    "- CustomerId — уникальный идентификатор клиента;\n",
    "- Surname — фамилия."
   ]
  },
  {
   "cell_type": "code",
   "execution_count": 9,
   "metadata": {
    "scrolled": true
   },
   "outputs": [
    {
     "data": {
      "text/html": [
       "<div>\n",
       "<style scoped>\n",
       "    .dataframe tbody tr th:only-of-type {\n",
       "        vertical-align: middle;\n",
       "    }\n",
       "\n",
       "    .dataframe tbody tr th {\n",
       "        vertical-align: top;\n",
       "    }\n",
       "\n",
       "    .dataframe thead th {\n",
       "        text-align: right;\n",
       "    }\n",
       "</style>\n",
       "<table border=\"1\" class=\"dataframe\">\n",
       "  <thead>\n",
       "    <tr style=\"text-align: right;\">\n",
       "      <th></th>\n",
       "      <th>CreditScore</th>\n",
       "      <th>Age</th>\n",
       "      <th>Tenure</th>\n",
       "      <th>Balance</th>\n",
       "      <th>NumOfProducts</th>\n",
       "      <th>HasCrCard</th>\n",
       "      <th>IsActiveMember</th>\n",
       "      <th>EstimatedSalary</th>\n",
       "      <th>Exited</th>\n",
       "      <th>Geography_Germany</th>\n",
       "      <th>Geography_Spain</th>\n",
       "      <th>Gender_Male</th>\n",
       "    </tr>\n",
       "  </thead>\n",
       "  <tbody>\n",
       "    <tr>\n",
       "      <th>0</th>\n",
       "      <td>619</td>\n",
       "      <td>42</td>\n",
       "      <td>2</td>\n",
       "      <td>0.00</td>\n",
       "      <td>1</td>\n",
       "      <td>1</td>\n",
       "      <td>1</td>\n",
       "      <td>101348.88</td>\n",
       "      <td>1</td>\n",
       "      <td>0</td>\n",
       "      <td>0</td>\n",
       "      <td>0</td>\n",
       "    </tr>\n",
       "    <tr>\n",
       "      <th>1</th>\n",
       "      <td>608</td>\n",
       "      <td>41</td>\n",
       "      <td>1</td>\n",
       "      <td>83807.86</td>\n",
       "      <td>1</td>\n",
       "      <td>0</td>\n",
       "      <td>1</td>\n",
       "      <td>112542.58</td>\n",
       "      <td>0</td>\n",
       "      <td>0</td>\n",
       "      <td>1</td>\n",
       "      <td>0</td>\n",
       "    </tr>\n",
       "    <tr>\n",
       "      <th>2</th>\n",
       "      <td>502</td>\n",
       "      <td>42</td>\n",
       "      <td>8</td>\n",
       "      <td>159660.80</td>\n",
       "      <td>3</td>\n",
       "      <td>1</td>\n",
       "      <td>0</td>\n",
       "      <td>113931.57</td>\n",
       "      <td>1</td>\n",
       "      <td>0</td>\n",
       "      <td>0</td>\n",
       "      <td>0</td>\n",
       "    </tr>\n",
       "    <tr>\n",
       "      <th>3</th>\n",
       "      <td>699</td>\n",
       "      <td>39</td>\n",
       "      <td>1</td>\n",
       "      <td>0.00</td>\n",
       "      <td>2</td>\n",
       "      <td>0</td>\n",
       "      <td>0</td>\n",
       "      <td>93826.63</td>\n",
       "      <td>0</td>\n",
       "      <td>0</td>\n",
       "      <td>0</td>\n",
       "      <td>0</td>\n",
       "    </tr>\n",
       "    <tr>\n",
       "      <th>4</th>\n",
       "      <td>850</td>\n",
       "      <td>43</td>\n",
       "      <td>2</td>\n",
       "      <td>125510.82</td>\n",
       "      <td>1</td>\n",
       "      <td>1</td>\n",
       "      <td>1</td>\n",
       "      <td>79084.10</td>\n",
       "      <td>0</td>\n",
       "      <td>0</td>\n",
       "      <td>1</td>\n",
       "      <td>0</td>\n",
       "    </tr>\n",
       "  </tbody>\n",
       "</table>\n",
       "</div>"
      ],
      "text/plain": [
       "   CreditScore  Age  Tenure    Balance  NumOfProducts  HasCrCard  \\\n",
       "0          619   42       2       0.00              1          1   \n",
       "1          608   41       1   83807.86              1          0   \n",
       "2          502   42       8  159660.80              3          1   \n",
       "3          699   39       1       0.00              2          0   \n",
       "4          850   43       2  125510.82              1          1   \n",
       "\n",
       "   IsActiveMember  EstimatedSalary  Exited  Geography_Germany  \\\n",
       "0               1        101348.88       1                  0   \n",
       "1               1        112542.58       0                  0   \n",
       "2               0        113931.57       1                  0   \n",
       "3               0         93826.63       0                  0   \n",
       "4               1         79084.10       0                  0   \n",
       "\n",
       "   Geography_Spain  Gender_Male  \n",
       "0                0            0  \n",
       "1                1            0  \n",
       "2                0            0  \n",
       "3                0            0  \n",
       "4                1            0  "
      ]
     },
     "execution_count": 9,
     "metadata": {},
     "output_type": "execute_result"
    }
   ],
   "source": [
    "df = pd.get_dummies(df, columns=['Geography', 'Gender'], drop_first=True)\n",
    "df.head()"
   ]
  },
  {
   "cell_type": "markdown",
   "metadata": {},
   "source": [
    "Выполнено One-Hot Encoding категориальных признаков:\n",
    "- Geography — страна проживания;\n",
    "- Gender — пол."
   ]
  },
  {
   "cell_type": "markdown",
   "metadata": {},
   "source": [
    "### Создание обучающей, валидационной и тестовой выборок"
   ]
  },
  {
   "cell_type": "code",
   "execution_count": 10,
   "metadata": {},
   "outputs": [
    {
     "name": "stdout",
     "output_type": "stream",
     "text": [
      "features_train.shape: (6000, 11)\n",
      "features_valid.shape: (2000, 11)\n",
      "features_test.shape: (2000, 11)\n"
     ]
    }
   ],
   "source": [
    "features = df.drop(['Exited'], axis=1)\n",
    "target = df['Exited']\n",
    "\n",
    "features_train_valid, features_test, target_train_valid, target_test = train_test_split(\n",
    "    features, target, test_size=0.2, random_state=12345)\n",
    "\n",
    "features_train, features_valid, target_train, target_valid = train_test_split(\n",
    "    features_train_valid, target_train_valid, test_size=0.25, random_state=12345)\n",
    "\n",
    "print(\"features_train.shape:\", features_train.shape)\n",
    "print(\"features_valid.shape:\", features_valid.shape)\n",
    "print(\"features_test.shape:\", features_test.shape)"
   ]
  },
  {
   "cell_type": "markdown",
   "metadata": {},
   "source": [
    "Данные разделены на целевые признаки (факт ухода клиента) и признаки (все остальное). \n",
    "\n",
    "Выборка случайным образом разделена на\n",
    "- обучающую (60% - 6000 записей);\n",
    "- валидационную (20% - 2000 записей);\n",
    "- тестовую (20% - 2000 записей)."
   ]
  },
  {
   "cell_type": "markdown",
   "metadata": {},
   "source": [
    "### Выводы по п. 1\n",
    "\n",
    "Загружен файл с данными о 10 000 клиентах банка. \n",
    "\n",
    "Пропуски в столбце Tenure заполнены нулями, его тип заменен на целочисленный.\n",
    "\n",
    "Из данных удалены неинформативные признаки, которые могут помешать проведению обучения: RowNumber, CustomerId, Surname.\n",
    "\n",
    "Выполнено One-Hot Encoding категориальных признаков Geography, Gender.\n",
    "\n",
    "Данные разделены на целевые признаки (факт ухода клиента) и признаки (все остальное). \n",
    "\n",
    "Выборка случайным образом разделена на обучающую (60%), валидационную (20%), тестовую (20%)."
   ]
  },
  {
   "cell_type": "markdown",
   "metadata": {},
   "source": [
    "## Исследование задачи"
   ]
  },
  {
   "cell_type": "code",
   "execution_count": 11,
   "metadata": {},
   "outputs": [],
   "source": [
    "best_models = []\n",
    "best_results = []\n",
    "best_auc_rocs = []"
   ]
  },
  {
   "cell_type": "markdown",
   "metadata": {},
   "source": [
    "Подготовлены списки для сохранения лучших моделей каждого типа."
   ]
  },
  {
   "cell_type": "markdown",
   "metadata": {},
   "source": [
    "### Модель решающего дерева"
   ]
  },
  {
   "cell_type": "code",
   "execution_count": 12,
   "metadata": {},
   "outputs": [
    {
     "name": "stdout",
     "output_type": "stream",
     "text": [
      "F1-мера лучшей модели решающего дерева на валидационной выборке: 0.5488958990536277\n",
      "ROC AUC мера лучшей модели решающего дерева на валидационной выборке: 0.8275652142122556\n",
      "Глубина лучшей модели решающего дерева: 7\n"
     ]
    }
   ],
   "source": [
    "best_model = None\n",
    "best_result = 0\n",
    "best_auc_roc = 0\n",
    "best_depth = None\n",
    "\n",
    "for depth in range(1, 31):\n",
    "    \n",
    "    model = DecisionTreeClassifier(random_state=12345, max_depth=depth) # обучение модели с заданной глубиной дерева\n",
    "    model.fit(features_train, target_train) # обучение модели\n",
    "    predicted_valid = model.predict(features_valid) # получение предсказания модели\n",
    "    result = f1_score(target_valid, predicted_valid) # подсчет качества модели на валидационной выборке\n",
    "    probabilities_valid = model.predict_proba(features_valid)\n",
    "    probabilities_one_valid = probabilities_valid[:, 1]\n",
    "    auc_roc = roc_auc_score(target_valid, probabilities_one_valid)\n",
    "    \n",
    "    if result > best_result:\n",
    "        best_model = model # сохранение наилучшей модели\n",
    "        best_result = result # сохранение наилучшего значения F1-меры на валидационных данных\n",
    "        best_auc_roc = auc_roc # сохранение значения ROC AUC наилучшей модели\n",
    "        best_depth = depth # сохранение параметра max_depth наилучшей модели\n",
    "        \n",
    "best_models.append(best_model)\n",
    "best_results.append(best_result)\n",
    "best_auc_rocs.append(best_auc_roc)\n",
    "\n",
    "print(\"F1-мера лучшей модели решающего дерева на валидационной выборке:\", best_result)\n",
    "print(\"ROC AUC мера лучшей модели решающего дерева на валидационной выборке:\", best_auc_roc)\n",
    "print(\"Глубина лучшей модели решающего дерева:\", best_depth)"
   ]
  },
  {
   "cell_type": "markdown",
   "metadata": {},
   "source": [
    "### Модель случайного леса"
   ]
  },
  {
   "cell_type": "code",
   "execution_count": 13,
   "metadata": {
    "scrolled": true
   },
   "outputs": [
    {
     "name": "stdout",
     "output_type": "stream",
     "text": [
      "F1-мера наилучшей модели случайного леса на валидационной выборке: 0.5736925515055468\n",
      "ROC AUC мера лучшей модели случайного леса на валидационной выборке: 0.8405786504619953\n",
      "Число деревьев лучшей модели случайного леса: 40\n",
      "Глубина деревьев лучшей модели случайного леса: 23\n"
     ]
    }
   ],
   "source": [
    "best_model = None\n",
    "best_result = 0\n",
    "best_auc_roc = 0\n",
    "best_depth = None\n",
    "best_est = None\n",
    "\n",
    "for est in range(10, 101, 10):\n",
    "    for depth in range(1, 31):\n",
    "        model = RandomForestClassifier(random_state=12345, n_estimators=est, max_depth=depth) # обучение модели с заданным количеством деревьев\n",
    "        model.fit(features_train, target_train) # обучение модели на тренировочной выборке\n",
    "        predicted_valid = model.predict(features_valid) # получение предсказания модели\n",
    "        result = f1_score(target_valid, predicted_valid) # подсчет качества модели на валидационной выборке\n",
    "        probabilities_valid = model.predict_proba(features_valid)\n",
    "        probabilities_one_valid = probabilities_valid[:, 1]\n",
    "        auc_roc = roc_auc_score(target_valid, probabilities_one_valid)\n",
    "        \n",
    "        if result > best_result:\n",
    "            best_model = model # сохранение наилучшей модели\n",
    "            best_result = result # сохранение наилучшего значения F1-меры на валидационных данных\n",
    "            best_auc_roc = auc_roc # сохранение значения ROC AUC наилучшей модели\n",
    "            best_est = est # сохранение параметра n_estimators наилучшей модели\n",
    "            best_depth = depth # сохранение параметра max_depth наилучшей модели\n",
    "        \n",
    "best_models.append(best_model)\n",
    "best_results.append(best_result)\n",
    "best_auc_rocs.append(best_auc_roc)\n",
    "\n",
    "print(\"F1-мера наилучшей модели случайного леса на валидационной выборке:\", best_result)\n",
    "print(\"ROC AUC мера лучшей модели случайного леса на валидационной выборке:\", best_auc_roc)\n",
    "print(\"Число деревьев лучшей модели случайного леса:\", best_est)\n",
    "print(\"Глубина деревьев лучшей модели случайного леса:\", best_depth)"
   ]
  },
  {
   "cell_type": "markdown",
   "metadata": {},
   "source": [
    "### Логистическая регрессия"
   ]
  },
  {
   "cell_type": "code",
   "execution_count": 14,
   "metadata": {
    "scrolled": true
   },
   "outputs": [
    {
     "name": "stdout",
     "output_type": "stream",
     "text": [
      "F1-мера модели логистической регрессии на валидационной выборке: 0.10290827740492169\n",
      "ROC AUC мера модели логистической регрессии на валидационной выборке: 0.6812399561927076\n"
     ]
    }
   ],
   "source": [
    "model = LogisticRegression(random_state=12345, solver='liblinear')\n",
    "model.fit(features_train, target_train) # обучение модели на тренировочной выборке\n",
    "predicted_valid = model.predict(features_valid) # получение предсказания модели\n",
    "result = f1_score(target_valid, predicted_valid) # F1-мера качества модели на валидационной выборке\n",
    "probabilities_valid = model.predict_proba(features_valid)\n",
    "probabilities_one_valid = probabilities_valid[:, 1]\n",
    "auc_roc = roc_auc_score(target_valid, probabilities_one_valid)\n",
    "\n",
    "best_models.append(model)\n",
    "best_results.append(result)\n",
    "best_auc_rocs.append(auc_roc)\n",
    "\n",
    "print(\"F1-мера модели логистической регрессии на валидационной выборке:\", result)\n",
    "print(\"ROC AUC мера модели логистической регрессии на валидационной выборке:\", auc_roc)"
   ]
  },
  {
   "cell_type": "markdown",
   "metadata": {},
   "source": [
    "### Сравнение моделей разного типа"
   ]
  },
  {
   "cell_type": "code",
   "execution_count": 15,
   "metadata": {
    "scrolled": true
   },
   "outputs": [
    {
     "name": "stdout",
     "output_type": "stream",
     "text": [
      "Наилучшая из опробованных моделей: RandomForestClassifier(max_depth=23, n_estimators=40, random_state=12345) \n",
      "ее F1-мера - 0.5736925515055468 \n",
      "ее ROC AUC мера - 0.8405786504619953\n"
     ]
    }
   ],
   "source": [
    "very_best_result = max(best_results)\n",
    "very_best_model = best_models[best_results.index(very_best_result)]\n",
    "very_best_auc_roc = best_auc_rocs[best_results.index(very_best_result)]\n",
    "print('Наилучшая из опробованных моделей:', very_best_model, \n",
    "      '\\nее F1-мера -', very_best_result, \n",
    "      '\\nее ROC AUC мера -', very_best_auc_roc)"
   ]
  },
  {
   "cell_type": "markdown",
   "metadata": {},
   "source": [
    "### Выводы по п. 2\n",
    "\n",
    "Были обучены 3 типа моделей с различными гиперпараметрами\n",
    "- решающее дерево глубиной от 1 до 30;\n",
    "- модель случайного леса с числом оценщиков от 10 до 100 с шагом 10 и максимальной глубиной 30;\n",
    "- модель логистической регрессии.\n",
    "\n",
    "Наилучшее значение F1-меры на валидационной выборке дала модель случайного леса с 40 деревьями и максимальной глубиной 23. Ее F1-score = 0.5737, ROC AUC мера - 0.8406. Целевое значение F1-меры 0.59 не достигнуто."
   ]
  },
  {
   "cell_type": "markdown",
   "metadata": {},
   "source": [
    "## Борьба с дисбалансом"
   ]
  },
  {
   "cell_type": "code",
   "execution_count": 16,
   "metadata": {
    "scrolled": false
   },
   "outputs": [
    {
     "data": {
      "text/plain": [
       "0    7963\n",
       "1    2037\n",
       "Name: Exited, dtype: int64"
      ]
     },
     "execution_count": 16,
     "metadata": {},
     "output_type": "execute_result"
    }
   ],
   "source": [
    "df['Exited'].value_counts()"
   ]
  },
  {
   "cell_type": "markdown",
   "metadata": {},
   "source": [
    "Имеется дисбаланс в данных - в целевом столбце единица встречается в 4 раза реже, чем 0."
   ]
  },
  {
   "cell_type": "code",
   "execution_count": 17,
   "metadata": {},
   "outputs": [],
   "source": [
    "def upsample(features, target, repeat):\n",
    "    features_zeros = features[target == 0]\n",
    "    features_ones = features[target == 1]\n",
    "    target_zeros = target[target == 0]\n",
    "    target_ones = target[target == 1]\n",
    "\n",
    "    features_upsampled = pd.concat([features_zeros] + [features_ones] * repeat)\n",
    "    target_upsampled = pd.concat([target_zeros] + [target_ones] * repeat)\n",
    "    features_upsampled, target_upsampled = shuffle(\n",
    "        features_upsampled, target_upsampled, random_state=12345)\n",
    "    return features_upsampled, target_upsampled\n",
    "\n",
    "features_upsampled, target_upsampled = upsample(features_train, target_train, 4)"
   ]
  },
  {
   "cell_type": "markdown",
   "metadata": {},
   "source": [
    "Решено сравнить методы upsample и class_weight. Проведен upsampling данных."
   ]
  },
  {
   "cell_type": "code",
   "execution_count": 18,
   "metadata": {},
   "outputs": [],
   "source": [
    "best_models = []\n",
    "best_results = []\n",
    "best_auc_rocs = []"
   ]
  },
  {
   "cell_type": "markdown",
   "metadata": {},
   "source": [
    "### Модель решающего дерева"
   ]
  },
  {
   "cell_type": "markdown",
   "metadata": {},
   "source": [
    "#### Метод class_weight"
   ]
  },
  {
   "cell_type": "code",
   "execution_count": 19,
   "metadata": {
    "scrolled": true
   },
   "outputs": [
    {
     "name": "stdout",
     "output_type": "stream",
     "text": [
      "F1-мера лучшей модели решающего дерева на валидационной выборке: 0.5587044534412956\n",
      "ROC AUC мера лучшей модели решающего дерева на валидационной выборке: 0.8089018134883863\n",
      "Глубина лучшей модели решающего дерева: 6\n"
     ]
    }
   ],
   "source": [
    "best_model = None\n",
    "best_result = 0\n",
    "best_auc_roc = 0\n",
    "best_depth = None\n",
    "\n",
    "for depth in range(1, 31):\n",
    "    \n",
    "    model = DecisionTreeClassifier(random_state=12345, max_depth=depth, class_weight='balanced') # обучение модели с заданной глубиной дерева\n",
    "    model.fit(features_train, target_train) # обучение модели\n",
    "    predicted_valid = model.predict(features_valid) # получение предсказания модели\n",
    "    result = f1_score(target_valid, predicted_valid) # подсчет качества модели на валидационной выборке\n",
    "    probabilities_valid = model.predict_proba(features_valid)\n",
    "    probabilities_one_valid = probabilities_valid[:, 1]\n",
    "    auc_roc = roc_auc_score(target_valid, probabilities_one_valid)\n",
    "    \n",
    "    if result > best_result:\n",
    "        best_model = model # сохранение наилучшей модели\n",
    "        best_result = result # сохранение наилучшего значения F1-меры на валидационных данных\n",
    "        best_auc_roc = auc_roc # сохранение значения ROC AUC наилучшей модели\n",
    "        best_depth = depth # сохранение параметра max_depth наилучшей модели\n",
    "        \n",
    "best_models.append(best_model)\n",
    "best_results.append(best_result)\n",
    "best_auc_rocs.append(best_auc_roc)\n",
    "\n",
    "print(\"F1-мера лучшей модели решающего дерева на валидационной выборке:\", best_result)\n",
    "print(\"ROC AUC мера лучшей модели решающего дерева на валидационной выборке:\", best_auc_roc)\n",
    "print(\"Глубина лучшей модели решающего дерева:\", best_depth)"
   ]
  },
  {
   "cell_type": "markdown",
   "metadata": {},
   "source": [
    "#### Метод upsampling"
   ]
  },
  {
   "cell_type": "code",
   "execution_count": 20,
   "metadata": {
    "scrolled": true
   },
   "outputs": [
    {
     "name": "stdout",
     "output_type": "stream",
     "text": [
      "F1-мера лучшей модели решающего дерева на валидационной выборке: 0.5587044534412956\n",
      "ROC AUC мера лучшей модели решающего дерева на валидационной выборке: 0.8088890972931989\n",
      "Глубина лучшей модели решающего дерева: 6\n"
     ]
    }
   ],
   "source": [
    "best_model = None\n",
    "best_result = 0\n",
    "best_auc_roc = 0\n",
    "best_depth = None\n",
    "\n",
    "for depth in range(1, 31):\n",
    "    \n",
    "    model = DecisionTreeClassifier(random_state=12345, max_depth=depth) # обучение модели с заданной глубиной дерева\n",
    "    model.fit(features_upsampled, target_upsampled) # обучение модели\n",
    "    predicted_valid = model.predict(features_valid) # получение предсказания модели\n",
    "    result = f1_score(target_valid, predicted_valid) # подсчет качества модели на валидационной выборке\n",
    "    probabilities_valid = model.predict_proba(features_valid)\n",
    "    probabilities_one_valid = probabilities_valid[:, 1]\n",
    "    auc_roc = roc_auc_score(target_valid, probabilities_one_valid)\n",
    "    \n",
    "    if result > best_result:\n",
    "        best_model = model # сохранение наилучшей модели\n",
    "        best_result = result # сохранение наилучшего значения F1-меры на валидационных данных\n",
    "        best_auc_roc = auc_roc # сохранение значения ROC AUC наилучшей модели\n",
    "        best_depth = depth # сохранение параметра max_depth наилучшей модели\n",
    "        \n",
    "best_models.append(best_model)\n",
    "best_results.append(best_result)\n",
    "best_auc_rocs.append(best_auc_roc)\n",
    "\n",
    "print(\"F1-мера лучшей модели решающего дерева на валидационной выборке:\", best_result)\n",
    "print(\"ROC AUC мера лучшей модели решающего дерева на валидационной выборке:\", best_auc_roc)\n",
    "print(\"Глубина лучшей модели решающего дерева:\", best_depth)"
   ]
  },
  {
   "cell_type": "code",
   "execution_count": 21,
   "metadata": {},
   "outputs": [
    {
     "data": {
      "text/plain": [
       "0"
      ]
     },
     "execution_count": 21,
     "metadata": {},
     "output_type": "execute_result"
    }
   ],
   "source": [
    "model1 = DecisionTreeClassifier(random_state=12345, max_depth=6, class_weight='balanced') # обучение модели с заданной глубиной дерева\n",
    "model1.fit(features_train, target_train) # обучение модели\n",
    "predicted_valid1 = model1.predict(features_valid) # получение предсказания модели\n",
    "\n",
    "model2 = DecisionTreeClassifier(random_state=12345, max_depth=6) # обучение модели с заданной глубиной дерева\n",
    "model2.fit(features_upsampled, target_upsampled) # обучение модели\n",
    "predicted_valid2 = model2.predict(features_valid) # получение предсказания модели\n",
    "\n",
    "np.abs(predicted_valid2 - predicted_valid1).sum()"
   ]
  },
  {
   "cell_type": "markdown",
   "metadata": {},
   "source": [
    "### Модель случайного леса"
   ]
  },
  {
   "cell_type": "markdown",
   "metadata": {},
   "source": [
    "#### Метод class_weight"
   ]
  },
  {
   "cell_type": "code",
   "execution_count": 22,
   "metadata": {
    "scrolled": true
   },
   "outputs": [
    {
     "name": "stdout",
     "output_type": "stream",
     "text": [
      "F1-мера наилучшей модели случайного леса на валидационной выборке: 0.6045918367346939\n",
      "ROC AUC мера лучшей модели случайного леса на валидационной выборке: 0.8514684821154662\n",
      "Число деревьев лучшей модели случайного леса: 90\n",
      "Глубина деревьев лучшей модели случайного леса: 10\n"
     ]
    }
   ],
   "source": [
    "best_model = None\n",
    "best_result = 0\n",
    "best_auc_roc = 0\n",
    "best_depth = None\n",
    "best_est = None\n",
    "\n",
    "for est in range(10, 101, 10):\n",
    "    for depth in range(1, 31):\n",
    "        model = RandomForestClassifier(random_state=12345, n_estimators=est, max_depth=depth, class_weight='balanced') # обучение модели с заданным количеством деревьев\n",
    "        model.fit(features_train, target_train) # обучение модели на тренировочной выборке\n",
    "        predicted_valid = model.predict(features_valid) # получение предсказания модели\n",
    "        result = f1_score(target_valid, predicted_valid) # подсчет качества модели на валидационной выборке\n",
    "        probabilities_valid = model.predict_proba(features_valid)\n",
    "        probabilities_one_valid = probabilities_valid[:, 1]\n",
    "        auc_roc = roc_auc_score(target_valid, probabilities_one_valid)\n",
    "        \n",
    "        if result > best_result:\n",
    "            best_model = model # сохранение наилучшей модели\n",
    "            best_result = result # сохранение наилучшего значения F1-меры на валидационных данных\n",
    "            best_auc_roc = auc_roc # сохранение значения ROC AUC наилучшей модели\n",
    "            best_est = est # сохранение параметра n_estimators наилучшей модели\n",
    "            best_depth = depth # сохранение параметра max_depth наилучшей модели\n",
    "        \n",
    "best_models.append(best_model)\n",
    "best_results.append(best_result)\n",
    "best_auc_rocs.append(best_auc_roc)\n",
    "\n",
    "print(\"F1-мера наилучшей модели случайного леса на валидационной выборке:\", best_result)\n",
    "print(\"ROC AUC мера лучшей модели случайного леса на валидационной выборке:\", best_auc_roc)\n",
    "print(\"Число деревьев лучшей модели случайного леса:\", best_est)\n",
    "print(\"Глубина деревьев лучшей модели случайного леса:\", best_depth)"
   ]
  },
  {
   "cell_type": "markdown",
   "metadata": {},
   "source": [
    "#### Метод upsampling"
   ]
  },
  {
   "cell_type": "code",
   "execution_count": 23,
   "metadata": {},
   "outputs": [
    {
     "name": "stdout",
     "output_type": "stream",
     "text": [
      "F1-мера наилучшей модели случайного леса на валидационной выборке: 0.6040268456375838\n",
      "ROC AUC мера лучшей модели случайного леса на валидационной выборке: 0.8433452176774187\n",
      "Число деревьев лучшей модели случайного леса: 60\n",
      "Глубина деревьев лучшей модели случайного леса: 15\n"
     ]
    }
   ],
   "source": [
    "best_model = None\n",
    "best_result = 0\n",
    "best_auc_roc = 0\n",
    "best_depth = None\n",
    "best_est = None\n",
    "\n",
    "for est in range(10, 101, 10):\n",
    "    for depth in range(1, 31):\n",
    "        model = RandomForestClassifier(random_state=12345, n_estimators=est, max_depth=depth) # обучение модели с заданным количеством деревьев\n",
    "        model.fit(features_upsampled, target_upsampled) # обучение модели на тренировочной выборке\n",
    "        predicted_valid = model.predict(features_valid) # получение предсказания модели\n",
    "        result = f1_score(target_valid, predicted_valid) # подсчет качества модели на валидационной выборке\n",
    "        probabilities_valid = model.predict_proba(features_valid)\n",
    "        probabilities_one_valid = probabilities_valid[:, 1]\n",
    "        auc_roc = roc_auc_score(target_valid, probabilities_one_valid)\n",
    "\n",
    "        if result > best_result:\n",
    "            best_model = model # сохранение наилучшей модели\n",
    "            best_result = result # сохранение наилучшего значения F1-меры на валидационных данных\n",
    "            best_auc_roc = auc_roc # сохранение значения ROC AUC наилучшей модели\n",
    "            best_est = est # сохранение параметра n_estimators наилучшей модели\n",
    "            best_depth = depth # сохранение параметра max_depth наилучшей модели\n",
    "            \n",
    "best_models.append(best_model)\n",
    "best_results.append(best_result)\n",
    "best_auc_rocs.append(best_auc_roc)\n",
    "\n",
    "print(\"F1-мера наилучшей модели случайного леса на валидационной выборке:\", best_result)\n",
    "print(\"ROC AUC мера лучшей модели случайного леса на валидационной выборке:\", best_auc_roc)\n",
    "print(\"Число деревьев лучшей модели случайного леса:\", best_est)\n",
    "print(\"Глубина деревьев лучшей модели случайного леса:\", best_depth)"
   ]
  },
  {
   "cell_type": "markdown",
   "metadata": {},
   "source": [
    "### Логистическая регрессия"
   ]
  },
  {
   "cell_type": "markdown",
   "metadata": {},
   "source": [
    "#### Метод class_weight"
   ]
  },
  {
   "cell_type": "code",
   "execution_count": 24,
   "metadata": {
    "scrolled": true
   },
   "outputs": [
    {
     "name": "stdout",
     "output_type": "stream",
     "text": [
      "F1: 0.4754521963824289\n",
      "ROC AUC: 0.7707587912620666\n"
     ]
    }
   ],
   "source": [
    "model = LogisticRegression(random_state=12345, solver='liblinear', class_weight='balanced')\n",
    "model.fit(features_train, target_train)\n",
    "predicted_valid = model.predict(features_valid)\n",
    "result = f1_score(target_valid, predicted_valid)\n",
    "probabilities_valid = model.predict_proba(features_valid)\n",
    "probabilities_one_valid = probabilities_valid[:, 1]\n",
    "auc_roc = roc_auc_score(target_valid, probabilities_one_valid)\n",
    "\n",
    "best_models.append(model)\n",
    "best_results.append(result)\n",
    "best_auc_rocs.append(auc_roc)\n",
    "\n",
    "print(\"F1:\", result)\n",
    "print(\"ROC AUC:\", auc_roc)"
   ]
  },
  {
   "cell_type": "markdown",
   "metadata": {},
   "source": [
    "#### Метод upsampling"
   ]
  },
  {
   "cell_type": "code",
   "execution_count": 25,
   "metadata": {},
   "outputs": [
    {
     "name": "stdout",
     "output_type": "stream",
     "text": [
      "F1: 0.43423137876386686\n",
      "ROC AUC: 0.7170344561203842\n"
     ]
    }
   ],
   "source": [
    "model = LogisticRegression(random_state=12345, solver='liblinear')\n",
    "model.fit(features_upsampled, target_upsampled)\n",
    "predicted_valid = model.predict(features_valid)\n",
    "result = f1_score(target_valid, predicted_valid)\n",
    "probabilities_valid = model.predict_proba(features_valid)\n",
    "probabilities_one_valid = probabilities_valid[:, 1]\n",
    "auc_roc = roc_auc_score(target_valid, probabilities_one_valid)\n",
    "\n",
    "best_models.append(model)\n",
    "best_results.append(result)\n",
    "best_auc_rocs.append(auc_roc)\n",
    "\n",
    "print(\"F1:\", result)\n",
    "print(\"ROC AUC:\", auc_roc)"
   ]
  },
  {
   "cell_type": "markdown",
   "metadata": {},
   "source": [
    "### Сравнение моделей разного типа"
   ]
  },
  {
   "cell_type": "markdown",
   "metadata": {},
   "source": [
    "У модели решающего дерева методы upsample и class_weight дали одинаковые значения F1-меры. У моделей случайного леса и логистической регрессии лучшие значения F1-меры были получены при использовании метода class_weight."
   ]
  },
  {
   "cell_type": "code",
   "execution_count": 26,
   "metadata": {},
   "outputs": [
    {
     "name": "stdout",
     "output_type": "stream",
     "text": [
      "Наилучшая из опробованных моделей: RandomForestClassifier(class_weight='balanced', max_depth=10, n_estimators=90,\n",
      "                       random_state=12345) \n",
      "ее F1-мера - 0.6045918367346939 \n",
      "ее ROC AUC мера - 0.8514684821154662\n"
     ]
    }
   ],
   "source": [
    "very_best_result = max(best_results)\n",
    "very_best_model = best_models[best_results.index(very_best_result)]\n",
    "very_best_auc_roc = best_auc_rocs[best_results.index(very_best_result)]\n",
    "print('Наилучшая из опробованных моделей:', very_best_model, \n",
    "      '\\nее F1-мера -', very_best_result, \n",
    "      '\\nее ROC AUC мера -', very_best_auc_roc)"
   ]
  },
  {
   "cell_type": "markdown",
   "metadata": {},
   "source": [
    "### Дообучение модели с наилучшими гиперпараметрами"
   ]
  },
  {
   "cell_type": "code",
   "execution_count": 27,
   "metadata": {},
   "outputs": [
    {
     "data": {
      "text/plain": [
       "RandomForestClassifier(class_weight='balanced', max_depth=10, n_estimators=90,\n",
       "                       random_state=12345)"
      ]
     },
     "execution_count": 27,
     "metadata": {},
     "output_type": "execute_result"
    }
   ],
   "source": [
    "very_best_model.fit(features_train_valid, target_train_valid)"
   ]
  },
  {
   "cell_type": "markdown",
   "metadata": {},
   "source": [
    "Модель с указанными гиперпараметрами повторно обучена на объединении валидационной и тестовой выборок."
   ]
  },
  {
   "cell_type": "markdown",
   "metadata": {},
   "source": [
    "### Выводы по п. 3\n",
    "- Имеется дисбаланс в данных - в целевом столбце единица встречается в 4 раза реже, чем 0.\n",
    "- Проведено сравнение методов upsample и class_weight для моделей 3 типов.\n",
    "- У модели решающего дерева методы upsample и class_weight дали одинаковые значения F1-меры. У моделей случайного леса и логистической регрессии лучшие значения F1-меры были получены при использовании метода class_weight.\n",
    "- Наилучшая из опробованных моделей - случайного леса с гиперпараметрами class_weight='balanced', max_depth=10, n_estimators=90, обученная на тренировочной  выборке. Ее F1-мера на валидационной выборке - 0.6046.\n",
    "- Модель с указанными гиперпараметрами повторно обучена на объединении тренировочной и валидационной выборок."
   ]
  },
  {
   "cell_type": "markdown",
   "metadata": {},
   "source": [
    "## Тестирование модели"
   ]
  },
  {
   "cell_type": "code",
   "execution_count": 28,
   "metadata": {},
   "outputs": [
    {
     "name": "stdout",
     "output_type": "stream",
     "text": [
      "F1-мера модели случайного леса на тестовой выборке: 0.6326530612244897\n",
      "ROC AUC мера модели случайного леса на тестовой выборке: 0.8641060876530325\n"
     ]
    }
   ],
   "source": [
    "predicted_test = very_best_model.predict(features_test) # получение предсказания модели\n",
    "result = f1_score(target_test, predicted_test) # подсчет качества модели на валидационной выборке\n",
    "\n",
    "probabilities_test = very_best_model.predict_proba(features_test)\n",
    "probabilities_one_test = probabilities_test[:, 1]\n",
    "auc_roc = roc_auc_score(target_test, probabilities_one_test)\n",
    "\n",
    "print(\"F1-мера модели случайного леса на тестовой выборке:\", result)\n",
    "print(\"ROC AUC мера модели случайного леса на тестовой выборке:\", auc_roc)"
   ]
  },
  {
   "cell_type": "markdown",
   "metadata": {},
   "source": [
    "### Выводы по п. 4\n",
    "- F1-мера наилучшей из опробованных моделей (случайного леса с гиперпараметрами class_weight='balanced', max_depth=10, n_estimators=90, обученная на объединении тренировочной и валидационной выборок) на тестовой выборке равна 0.6327 и достигает целевого значения 0.59. \n",
    "- Ее ROC AUC мера равна 0.8641."
   ]
  },
  {
   "cell_type": "markdown",
   "metadata": {},
   "source": [
    "## Выводы по проекту\n",
    "\n",
    "- Загружен файл с данными о 10 000 клиентах банка.\n",
    "- В столбце Tenure заполнены нулями пропуски, его тип заменен на целочисленный.\n",
    "- Удалены неинформативные признаки, которые могут помешать проведению обучения: RowNumber, CustomerId, Surname.\n",
    "- Выполнено One-Hot Encoding категориальных признаков Geography, Gender.\n",
    "- Данные разделены на целевые признаки (факт ухода клиента) и признаки (все остальное). \n",
    "- Выборка разделена на обучающую (60%), валидационную (20%), тестовую (20%).\n",
    "- Обучены 3 типа моделей с различными гиперпараметрами: решающее дерево глубиной, модель случайного леса, модель логистической регрессии.\n",
    "- Наилучшее значение F1-меры на валидационной выборке дала модель случайного леса с 40 деревьями и максимальной глубиной 23. Целевое значение F1-меры 0.59 не достигнуто.\n",
    "- Обнаружен дисбаланс в данных - в целевом столбце единица встречается в 4 раза реже, чем 0. Проведено сравнение методов upsample и class_weight для моделей 3 типов.\n",
    "- У модели решающего дерева методы upsample и class_weight дали одинаковые значения F1-меры. У моделей случайного леса и логистической регрессии лучшие значения F1-меры были получены при использовании метода class_weight.\n",
    "- Наилучшая из опробованных моделей - случайного леса с гиперпараметрами class_weight='balanced', max_depth=10, n_estimators=90. Модель с указанными гиперпараметрами повторно обучена на объединении обучающей и валидационной выборок.\n",
    "- F1-мера наилучшей из опробованных моделей на тестовой выборке равна 0.6327 и достигает целевого значения 0.59. Ее ROC AUC мера равна 0.8541.\n",
    "- Для всех исследованных случаев значение ROC AUC меры оказывалось несколько выше значения F1-меры."
   ]
  },
  {
   "cell_type": "markdown",
   "metadata": {},
   "source": [
    "## Чек-лист готовности проекта"
   ]
  },
  {
   "cell_type": "markdown",
   "metadata": {},
   "source": [
    "Поставьте 'x' в выполненных пунктах. Далее нажмите Shift+Enter."
   ]
  },
  {
   "cell_type": "markdown",
   "metadata": {},
   "source": [
    "- [x]  Jupyter Notebook открыт\n",
    "- [x]  Весь код выполняется без ошибок\n",
    "- [x]  Ячейки с кодом расположены в порядке исполнения\n",
    "- [x]  Выполнен шаг 1: данные подготовлены\n",
    "- [x]  Выполнен шаг 2: задача исследована\n",
    "    - [x]  Исследован баланс классов\n",
    "    - [x]  Изучены модели без учёта дисбаланса\n",
    "    - [x]  Написаны выводы по результатам исследования\n",
    "- [x]  Выполнен шаг 3: учтён дисбаланс\n",
    "    - [x]  Применено несколько способов борьбы с дисбалансом\n",
    "    - [x]  Написаны выводы по результатам исследования\n",
    "- [x]  Выполнен шаг 4: проведено тестирование\n",
    "- [x]  Удалось достичь *F1*-меры не менее 0.59\n",
    "- [x]  Исследована метрика *AUC-ROC*"
   ]
  }
 ],
 "metadata": {
  "ExecuteTimeLog": [
   {
    "duration": 1471,
    "start_time": "2022-03-27T12:31:36.322Z"
   },
   {
    "duration": 4,
    "start_time": "2022-03-27T12:33:08.089Z"
   },
   {
    "duration": 44,
    "start_time": "2022-03-27T12:33:09.984Z"
   },
   {
    "duration": 152,
    "start_time": "2022-03-27T12:33:25.209Z"
   },
   {
    "duration": 29,
    "start_time": "2022-03-27T12:34:42.319Z"
   },
   {
    "duration": 15,
    "start_time": "2022-03-27T12:35:03.807Z"
   },
   {
    "duration": 20,
    "start_time": "2022-03-27T12:36:04.351Z"
   },
   {
    "duration": 30,
    "start_time": "2022-03-27T12:36:08.326Z"
   },
   {
    "duration": 18,
    "start_time": "2022-03-27T12:36:24.228Z"
   },
   {
    "duration": 7,
    "start_time": "2022-03-27T12:37:12.590Z"
   },
   {
    "duration": 8,
    "start_time": "2022-03-27T12:37:21.355Z"
   },
   {
    "duration": 8,
    "start_time": "2022-03-27T12:37:36.291Z"
   },
   {
    "duration": 8,
    "start_time": "2022-03-27T12:38:49.322Z"
   },
   {
    "duration": 8,
    "start_time": "2022-03-27T12:39:33.224Z"
   },
   {
    "duration": 7,
    "start_time": "2022-03-27T12:39:49.808Z"
   },
   {
    "duration": 8,
    "start_time": "2022-03-27T12:45:37.193Z"
   },
   {
    "duration": 6,
    "start_time": "2022-03-27T12:45:46.816Z"
   },
   {
    "duration": 25,
    "start_time": "2022-03-27T12:46:15.248Z"
   },
   {
    "duration": 18,
    "start_time": "2022-03-27T12:46:29.311Z"
   },
   {
    "duration": 14,
    "start_time": "2022-03-27T12:49:32.853Z"
   },
   {
    "duration": 14,
    "start_time": "2022-03-27T12:54:04.999Z"
   },
   {
    "duration": 19,
    "start_time": "2022-03-27T12:54:11.140Z"
   },
   {
    "duration": 1492,
    "start_time": "2022-03-27T12:54:45.774Z"
   },
   {
    "duration": 47,
    "start_time": "2022-03-27T12:54:47.268Z"
   },
   {
    "duration": 29,
    "start_time": "2022-03-27T12:54:47.317Z"
   },
   {
    "duration": 24,
    "start_time": "2022-03-27T12:54:47.348Z"
   },
   {
    "duration": 55,
    "start_time": "2022-03-27T12:54:47.375Z"
   },
   {
    "duration": 28,
    "start_time": "2022-03-27T12:54:47.432Z"
   },
   {
    "duration": 33,
    "start_time": "2022-03-27T12:54:47.463Z"
   },
   {
    "duration": 1566,
    "start_time": "2022-03-27T12:55:21.989Z"
   },
   {
    "duration": 47,
    "start_time": "2022-03-27T12:55:23.557Z"
   },
   {
    "duration": 29,
    "start_time": "2022-03-27T12:55:23.607Z"
   },
   {
    "duration": 6,
    "start_time": "2022-03-27T12:55:23.638Z"
   },
   {
    "duration": 41,
    "start_time": "2022-03-27T12:55:23.647Z"
   },
   {
    "duration": 16,
    "start_time": "2022-03-27T12:55:23.690Z"
   },
   {
    "duration": 8,
    "start_time": "2022-03-27T12:55:23.708Z"
   },
   {
    "duration": 17,
    "start_time": "2022-03-27T13:02:38.460Z"
   },
   {
    "duration": 154,
    "start_time": "2022-03-27T13:07:52.255Z"
   },
   {
    "duration": 163,
    "start_time": "2022-03-27T13:31:51.070Z"
   },
   {
    "duration": 6,
    "start_time": "2022-03-27T13:32:01.552Z"
   },
   {
    "duration": 9,
    "start_time": "2022-03-27T13:33:11.164Z"
   },
   {
    "duration": 9,
    "start_time": "2022-03-27T13:35:20.978Z"
   },
   {
    "duration": 2364,
    "start_time": "2022-03-27T13:36:56.320Z"
   },
   {
    "duration": 1584,
    "start_time": "2022-03-27T13:37:14.262Z"
   },
   {
    "duration": 46,
    "start_time": "2022-03-27T13:37:15.849Z"
   },
   {
    "duration": 14,
    "start_time": "2022-03-27T13:37:15.897Z"
   },
   {
    "duration": 20,
    "start_time": "2022-03-27T13:37:15.914Z"
   },
   {
    "duration": 7,
    "start_time": "2022-03-27T13:37:15.937Z"
   },
   {
    "duration": 39,
    "start_time": "2022-03-27T13:37:15.947Z"
   },
   {
    "duration": 9,
    "start_time": "2022-03-27T13:37:15.989Z"
   },
   {
    "duration": 37,
    "start_time": "2022-03-27T13:37:16.001Z"
   },
   {
    "duration": 42,
    "start_time": "2022-03-27T13:37:16.041Z"
   },
   {
    "duration": 3,
    "start_time": "2022-03-27T13:37:16.087Z"
   },
   {
    "duration": 627,
    "start_time": "2022-03-27T13:37:16.092Z"
   },
   {
    "duration": 128,
    "start_time": "2022-03-27T13:37:16.722Z"
   },
   {
    "duration": 0,
    "start_time": "2022-03-27T13:37:16.852Z"
   },
   {
    "duration": 0,
    "start_time": "2022-03-27T13:37:16.854Z"
   },
   {
    "duration": 7,
    "start_time": "2022-03-27T13:37:48.484Z"
   },
   {
    "duration": 1497,
    "start_time": "2022-03-27T13:37:55.590Z"
   },
   {
    "duration": 46,
    "start_time": "2022-03-27T13:37:57.090Z"
   },
   {
    "duration": 14,
    "start_time": "2022-03-27T13:37:57.138Z"
   },
   {
    "duration": 43,
    "start_time": "2022-03-27T13:37:57.154Z"
   },
   {
    "duration": 13,
    "start_time": "2022-03-27T13:37:57.201Z"
   },
   {
    "duration": 5,
    "start_time": "2022-03-27T13:37:57.216Z"
   },
   {
    "duration": 8,
    "start_time": "2022-03-27T13:37:57.224Z"
   },
   {
    "duration": 50,
    "start_time": "2022-03-27T13:37:57.234Z"
   },
   {
    "duration": 17,
    "start_time": "2022-03-27T13:37:57.286Z"
   },
   {
    "duration": 3,
    "start_time": "2022-03-27T13:37:57.305Z"
   },
   {
    "duration": 660,
    "start_time": "2022-03-27T13:37:57.310Z"
   },
   {
    "duration": 130,
    "start_time": "2022-03-27T13:37:57.972Z"
   },
   {
    "duration": 0,
    "start_time": "2022-03-27T13:37:58.105Z"
   },
   {
    "duration": 0,
    "start_time": "2022-03-27T13:37:58.107Z"
   },
   {
    "duration": 1428,
    "start_time": "2022-03-27T13:40:45.519Z"
   },
   {
    "duration": 47,
    "start_time": "2022-03-27T13:40:46.950Z"
   },
   {
    "duration": 28,
    "start_time": "2022-03-27T13:40:46.999Z"
   },
   {
    "duration": 6,
    "start_time": "2022-03-27T13:40:47.029Z"
   },
   {
    "duration": 8,
    "start_time": "2022-03-27T13:40:47.038Z"
   },
   {
    "duration": 38,
    "start_time": "2022-03-27T13:40:47.048Z"
   },
   {
    "duration": 10,
    "start_time": "2022-03-27T13:40:47.088Z"
   },
   {
    "duration": 26,
    "start_time": "2022-03-27T13:40:47.100Z"
   },
   {
    "duration": 17,
    "start_time": "2022-03-27T13:40:47.128Z"
   },
   {
    "duration": 3,
    "start_time": "2022-03-27T13:40:47.147Z"
   },
   {
    "duration": 603,
    "start_time": "2022-03-27T13:40:47.183Z"
   },
   {
    "duration": 149,
    "start_time": "2022-03-27T13:40:47.788Z"
   },
   {
    "duration": 0,
    "start_time": "2022-03-27T13:40:47.939Z"
   },
   {
    "duration": 0,
    "start_time": "2022-03-27T13:40:47.941Z"
   },
   {
    "duration": 1508,
    "start_time": "2022-03-27T13:42:20.427Z"
   },
   {
    "duration": 51,
    "start_time": "2022-03-27T13:42:21.938Z"
   },
   {
    "duration": 32,
    "start_time": "2022-03-27T13:42:21.992Z"
   },
   {
    "duration": 17,
    "start_time": "2022-03-27T13:42:22.027Z"
   },
   {
    "duration": 40,
    "start_time": "2022-03-27T13:42:22.046Z"
   },
   {
    "duration": 46,
    "start_time": "2022-03-27T13:42:22.088Z"
   },
   {
    "duration": 35,
    "start_time": "2022-03-27T13:42:22.137Z"
   },
   {
    "duration": 61,
    "start_time": "2022-03-27T13:42:22.175Z"
   },
   {
    "duration": 43,
    "start_time": "2022-03-27T13:42:22.239Z"
   },
   {
    "duration": 38,
    "start_time": "2022-03-27T13:42:22.288Z"
   },
   {
    "duration": 709,
    "start_time": "2022-03-27T13:42:22.329Z"
   },
   {
    "duration": 176,
    "start_time": "2022-03-27T13:42:23.040Z"
   },
   {
    "duration": 0,
    "start_time": "2022-03-27T13:42:23.219Z"
   },
   {
    "duration": 0,
    "start_time": "2022-03-27T13:42:23.220Z"
   },
   {
    "duration": 150,
    "start_time": "2022-03-27T13:44:09.185Z"
   },
   {
    "duration": 29089,
    "start_time": "2022-03-27T13:44:19.448Z"
   },
   {
    "duration": 28218,
    "start_time": "2022-03-27T13:45:47.183Z"
   },
   {
    "duration": 28955,
    "start_time": "2022-03-27T13:47:32.460Z"
   },
   {
    "duration": 70690,
    "start_time": "2022-03-27T13:49:02.874Z"
   },
   {
    "duration": 102,
    "start_time": "2022-03-27T13:52:24.582Z"
   },
   {
    "duration": 8,
    "start_time": "2022-03-27T13:52:39.669Z"
   },
   {
    "duration": 96872,
    "start_time": "2022-03-27T14:03:09.113Z"
   },
   {
    "duration": 8,
    "start_time": "2022-03-27T14:05:35.029Z"
   },
   {
    "duration": 8,
    "start_time": "2022-03-27T14:05:49.213Z"
   },
   {
    "duration": 6,
    "start_time": "2022-03-27T14:06:07.860Z"
   },
   {
    "duration": 298,
    "start_time": "2022-03-27T14:08:23.522Z"
   },
   {
    "duration": 12,
    "start_time": "2022-03-27T14:08:45.280Z"
   },
   {
    "duration": 31,
    "start_time": "2022-03-27T14:08:48.455Z"
   },
   {
    "duration": 5,
    "start_time": "2022-03-27T14:09:17.487Z"
   },
   {
    "duration": 18,
    "start_time": "2022-03-27T14:09:23.072Z"
   },
   {
    "duration": 406,
    "start_time": "2022-03-27T14:09:27.127Z"
   },
   {
    "duration": 403,
    "start_time": "2022-03-27T14:09:56.407Z"
   },
   {
    "duration": 110015,
    "start_time": "2022-03-27T14:11:24.261Z"
   },
   {
    "duration": 158516,
    "start_time": "2022-03-27T14:14:04.969Z"
   },
   {
    "duration": 60,
    "start_time": "2022-03-27T14:18:36.762Z"
   },
   {
    "duration": 1148,
    "start_time": "2022-03-27T19:23:50.978Z"
   },
   {
    "duration": 40,
    "start_time": "2022-03-27T19:23:52.128Z"
   },
   {
    "duration": 20,
    "start_time": "2022-03-27T19:23:52.169Z"
   },
   {
    "duration": 5,
    "start_time": "2022-03-27T19:23:52.192Z"
   },
   {
    "duration": 10,
    "start_time": "2022-03-27T19:23:52.199Z"
   },
   {
    "duration": 4,
    "start_time": "2022-03-27T19:23:52.211Z"
   },
   {
    "duration": 13,
    "start_time": "2022-03-27T19:23:52.217Z"
   },
   {
    "duration": 18,
    "start_time": "2022-03-27T19:23:52.231Z"
   },
   {
    "duration": 12,
    "start_time": "2022-03-27T19:23:52.250Z"
   },
   {
    "duration": 2,
    "start_time": "2022-03-27T19:23:52.265Z"
   },
   {
    "duration": 529,
    "start_time": "2022-03-27T19:23:52.270Z"
   },
   {
    "duration": 56516,
    "start_time": "2022-03-27T19:23:52.801Z"
   },
   {
    "duration": 100,
    "start_time": "2022-03-27T19:24:49.319Z"
   },
   {
    "duration": 92,
    "start_time": "2022-03-27T19:24:49.422Z"
   },
   {
    "duration": 7,
    "start_time": "2022-03-27T19:24:49.516Z"
   },
   {
    "duration": 18,
    "start_time": "2022-03-27T19:24:49.525Z"
   },
   {
    "duration": 379,
    "start_time": "2022-03-27T19:24:49.545Z"
   },
   {
    "duration": 75685,
    "start_time": "2022-03-27T19:24:49.926Z"
   },
   {
    "duration": 1266,
    "start_time": "2022-03-27T19:26:05.612Z"
   },
   {
    "duration": 76,
    "start_time": "2022-03-27T19:26:06.880Z"
   },
   {
    "duration": 63,
    "start_time": "2022-03-27T19:26:54.075Z"
   },
   {
    "duration": 1201,
    "start_time": "2022-03-27T19:28:13.463Z"
   },
   {
    "duration": 37,
    "start_time": "2022-03-27T19:28:14.667Z"
   },
   {
    "duration": 31,
    "start_time": "2022-03-27T19:28:14.706Z"
   },
   {
    "duration": 6,
    "start_time": "2022-03-27T19:28:14.739Z"
   },
   {
    "duration": 9,
    "start_time": "2022-03-27T19:28:14.749Z"
   },
   {
    "duration": 4,
    "start_time": "2022-03-27T19:28:14.760Z"
   },
   {
    "duration": 6,
    "start_time": "2022-03-27T19:28:14.765Z"
   },
   {
    "duration": 52,
    "start_time": "2022-03-27T19:28:14.773Z"
   },
   {
    "duration": 16,
    "start_time": "2022-03-27T19:28:14.827Z"
   },
   {
    "duration": 3,
    "start_time": "2022-03-27T19:28:14.845Z"
   },
   {
    "duration": 547,
    "start_time": "2022-03-27T19:28:14.850Z"
   },
   {
    "duration": 56688,
    "start_time": "2022-03-27T19:28:15.399Z"
   },
   {
    "duration": 121,
    "start_time": "2022-03-27T19:29:12.089Z"
   },
   {
    "duration": 94,
    "start_time": "2022-03-27T19:29:12.218Z"
   },
   {
    "duration": 5,
    "start_time": "2022-03-27T19:29:12.314Z"
   },
   {
    "duration": 14,
    "start_time": "2022-03-27T19:29:12.321Z"
   },
   {
    "duration": 343,
    "start_time": "2022-03-27T19:29:12.337Z"
   },
   {
    "duration": 76335,
    "start_time": "2022-03-27T19:29:12.682Z"
   },
   {
    "duration": 2,
    "start_time": "2022-03-27T19:30:29.019Z"
   },
   {
    "duration": 62,
    "start_time": "2022-03-27T19:30:29.022Z"
   },
   {
    "duration": 44,
    "start_time": "2022-03-28T06:17:01.953Z"
   },
   {
    "duration": 1175,
    "start_time": "2022-03-28T06:17:09.349Z"
   },
   {
    "duration": 35,
    "start_time": "2022-03-28T06:17:11.373Z"
   },
   {
    "duration": 19,
    "start_time": "2022-03-28T06:17:14.974Z"
   },
   {
    "duration": 4,
    "start_time": "2022-03-28T06:17:17.541Z"
   },
   {
    "duration": 6,
    "start_time": "2022-03-28T06:17:19.437Z"
   },
   {
    "duration": 554,
    "start_time": "2022-03-28T06:17:21.285Z"
   },
   {
    "duration": 68,
    "start_time": "2022-03-28T06:18:07.876Z"
   },
   {
    "duration": 5,
    "start_time": "2022-03-28T06:18:15.756Z"
   },
   {
    "duration": 5,
    "start_time": "2022-03-28T06:19:55.146Z"
   },
   {
    "duration": 18,
    "start_time": "2022-03-28T06:19:59.970Z"
   },
   {
    "duration": 12,
    "start_time": "2022-03-28T06:20:03.729Z"
   },
   {
    "duration": 2,
    "start_time": "2022-03-28T06:20:23.225Z"
   },
   {
    "duration": 21,
    "start_time": "2022-03-28T06:21:19.064Z"
   },
   {
    "duration": 3,
    "start_time": "2022-03-28T06:21:31.727Z"
   },
   {
    "duration": 35,
    "start_time": "2022-03-28T06:21:33.688Z"
   },
   {
    "duration": 4,
    "start_time": "2022-03-28T06:21:41.551Z"
   },
   {
    "duration": 6,
    "start_time": "2022-03-28T06:21:44.047Z"
   },
   {
    "duration": 17,
    "start_time": "2022-03-28T06:21:46.494Z"
   },
   {
    "duration": 11,
    "start_time": "2022-03-28T06:21:50.926Z"
   },
   {
    "duration": 4,
    "start_time": "2022-03-28T06:21:54.822Z"
   },
   {
    "duration": 711,
    "start_time": "2022-03-28T06:21:57.558Z"
   },
   {
    "duration": 31852,
    "start_time": "2022-03-28T06:22:12.910Z"
   },
   {
    "duration": 55019,
    "start_time": "2022-03-28T06:22:58.318Z"
   },
   {
    "duration": 75013,
    "start_time": "2022-03-28T06:25:14.051Z"
   },
   {
    "duration": 99133,
    "start_time": "2022-03-28T06:26:43.432Z"
   },
   {
    "duration": 94,
    "start_time": "2022-03-28T06:29:37.972Z"
   },
   {
    "duration": 5,
    "start_time": "2022-03-28T06:29:41.420Z"
   },
   {
    "duration": 6,
    "start_time": "2022-03-28T06:30:07.563Z"
   },
   {
    "duration": 53,
    "start_time": "2022-03-28T06:30:15.755Z"
   },
   {
    "duration": 12,
    "start_time": "2022-03-28T06:31:15.066Z"
   },
   {
    "duration": 360,
    "start_time": "2022-03-28T06:31:33.241Z"
   },
   {
    "duration": 125107,
    "start_time": "2022-03-28T06:32:24.224Z"
   },
   {
    "duration": 53,
    "start_time": "2022-03-28T06:35:01.357Z"
   },
   {
    "duration": 49,
    "start_time": "2022-03-28T06:35:47.012Z"
   },
   {
    "duration": 164,
    "start_time": "2022-03-28T06:38:47.736Z"
   },
   {
    "duration": 680,
    "start_time": "2022-03-28T06:38:59.215Z"
   },
   {
    "duration": 734,
    "start_time": "2022-03-28T06:39:23.415Z"
   },
   {
    "duration": 52,
    "start_time": "2022-03-28T07:02:20.033Z"
   },
   {
    "duration": 171,
    "start_time": "2022-03-28T07:03:31.492Z"
   },
   {
    "duration": 212,
    "start_time": "2022-03-28T07:03:42.855Z"
   },
   {
    "duration": 235,
    "start_time": "2022-03-28T21:15:18.061Z"
   },
   {
    "duration": 208,
    "start_time": "2022-03-28T21:18:13.423Z"
   },
   {
    "duration": 64,
    "start_time": "2022-03-28T21:37:45.760Z"
   },
   {
    "duration": 1994,
    "start_time": "2022-03-28T21:37:57.338Z"
   },
   {
    "duration": 52,
    "start_time": "2022-03-28T21:37:59.335Z"
   },
   {
    "duration": 28,
    "start_time": "2022-03-28T21:37:59.389Z"
   },
   {
    "duration": 5,
    "start_time": "2022-03-28T21:37:59.420Z"
   },
   {
    "duration": 6,
    "start_time": "2022-03-28T21:37:59.428Z"
   },
   {
    "duration": 645,
    "start_time": "2022-03-28T21:37:59.436Z"
   },
   {
    "duration": 7,
    "start_time": "2022-03-28T21:38:00.083Z"
   },
   {
    "duration": 13,
    "start_time": "2022-03-28T21:38:00.093Z"
   },
   {
    "duration": 40,
    "start_time": "2022-03-28T21:38:00.109Z"
   },
   {
    "duration": 20,
    "start_time": "2022-03-28T21:38:00.152Z"
   },
   {
    "duration": 4,
    "start_time": "2022-03-28T21:38:00.173Z"
   },
   {
    "duration": 1171,
    "start_time": "2022-03-28T21:38:00.179Z"
   },
   {
    "duration": 139515,
    "start_time": "2022-03-28T21:38:01.352Z"
   },
   {
    "duration": 74,
    "start_time": "2022-03-28T21:40:20.871Z"
   },
   {
    "duration": 98,
    "start_time": "2022-03-28T21:40:20.947Z"
   },
   {
    "duration": 98,
    "start_time": "2022-03-28T21:40:21.048Z"
   },
   {
    "duration": 95,
    "start_time": "2022-03-28T21:40:21.149Z"
   },
   {
    "duration": 115,
    "start_time": "2022-03-28T21:40:21.247Z"
   },
   {
    "duration": 627,
    "start_time": "2022-03-28T21:40:21.365Z"
   },
   {
    "duration": 195555,
    "start_time": "2022-03-28T21:40:21.995Z"
   },
   {
    "duration": 67,
    "start_time": "2022-03-28T21:43:37.552Z"
   },
   {
    "duration": 1150,
    "start_time": "2022-03-28T21:43:37.621Z"
   },
   {
    "duration": 8,
    "start_time": "2022-03-28T21:47:08.976Z"
   },
   {
    "duration": 7,
    "start_time": "2022-03-28T21:47:14.950Z"
   },
   {
    "duration": 10,
    "start_time": "2022-03-28T21:47:25.505Z"
   },
   {
    "duration": 1566,
    "start_time": "2022-03-29T07:44:16.759Z"
   },
   {
    "duration": 45,
    "start_time": "2022-03-29T07:44:18.328Z"
   },
   {
    "duration": 29,
    "start_time": "2022-03-29T07:44:18.382Z"
   },
   {
    "duration": 6,
    "start_time": "2022-03-29T07:44:18.416Z"
   },
   {
    "duration": 9,
    "start_time": "2022-03-29T07:44:18.425Z"
   },
   {
    "duration": 828,
    "start_time": "2022-03-29T07:44:18.436Z"
   },
   {
    "duration": 17,
    "start_time": "2022-03-29T07:44:19.266Z"
   },
   {
    "duration": 10,
    "start_time": "2022-03-29T07:44:19.285Z"
   },
   {
    "duration": 25,
    "start_time": "2022-03-29T07:44:19.298Z"
   },
   {
    "duration": 15,
    "start_time": "2022-03-29T07:44:19.327Z"
   },
   {
    "duration": 4,
    "start_time": "2022-03-29T07:44:19.344Z"
   },
   {
    "duration": 1135,
    "start_time": "2022-03-29T07:44:19.383Z"
   },
   {
    "duration": 139310,
    "start_time": "2022-03-29T07:44:20.521Z"
   },
   {
    "duration": 250,
    "start_time": "2022-03-29T07:46:39.834Z"
   },
   {
    "duration": 248,
    "start_time": "2022-03-29T07:46:40.088Z"
   },
   {
    "duration": 0,
    "start_time": "2022-03-29T07:46:40.339Z"
   },
   {
    "duration": 0,
    "start_time": "2022-03-29T07:46:40.341Z"
   },
   {
    "duration": 0,
    "start_time": "2022-03-29T07:46:40.343Z"
   },
   {
    "duration": 0,
    "start_time": "2022-03-29T07:46:40.345Z"
   },
   {
    "duration": 0,
    "start_time": "2022-03-29T07:46:40.347Z"
   },
   {
    "duration": 0,
    "start_time": "2022-03-29T07:46:40.349Z"
   },
   {
    "duration": 0,
    "start_time": "2022-03-29T07:46:40.350Z"
   },
   {
    "duration": 1466,
    "start_time": "2022-03-29T07:48:12.211Z"
   },
   {
    "duration": 48,
    "start_time": "2022-03-29T07:48:13.682Z"
   },
   {
    "duration": 32,
    "start_time": "2022-03-29T07:48:13.732Z"
   },
   {
    "duration": 20,
    "start_time": "2022-03-29T07:48:13.766Z"
   },
   {
    "duration": 7,
    "start_time": "2022-03-29T07:48:13.789Z"
   },
   {
    "duration": 527,
    "start_time": "2022-03-29T07:48:13.798Z"
   },
   {
    "duration": 6,
    "start_time": "2022-03-29T07:48:14.327Z"
   },
   {
    "duration": 9,
    "start_time": "2022-03-29T07:48:14.336Z"
   },
   {
    "duration": 48,
    "start_time": "2022-03-29T07:48:14.347Z"
   },
   {
    "duration": 18,
    "start_time": "2022-03-29T07:48:14.397Z"
   },
   {
    "duration": 4,
    "start_time": "2022-03-29T07:48:14.417Z"
   },
   {
    "duration": 1146,
    "start_time": "2022-03-29T07:48:14.423Z"
   },
   {
    "duration": 30664,
    "start_time": "2022-03-29T07:48:15.572Z"
   },
   {
    "duration": 0,
    "start_time": "2022-03-29T07:48:46.239Z"
   },
   {
    "duration": 0,
    "start_time": "2022-03-29T07:48:46.241Z"
   },
   {
    "duration": 0,
    "start_time": "2022-03-29T07:48:46.243Z"
   },
   {
    "duration": 0,
    "start_time": "2022-03-29T07:48:46.245Z"
   },
   {
    "duration": 0,
    "start_time": "2022-03-29T07:48:46.246Z"
   },
   {
    "duration": 0,
    "start_time": "2022-03-29T07:48:46.248Z"
   },
   {
    "duration": 1,
    "start_time": "2022-03-29T07:48:46.250Z"
   },
   {
    "duration": 0,
    "start_time": "2022-03-29T07:48:46.252Z"
   },
   {
    "duration": 0,
    "start_time": "2022-03-29T07:48:46.253Z"
   },
   {
    "duration": 1600,
    "start_time": "2022-03-29T07:50:41.351Z"
   },
   {
    "duration": 53,
    "start_time": "2022-03-29T07:50:42.954Z"
   },
   {
    "duration": 29,
    "start_time": "2022-03-29T07:50:43.009Z"
   },
   {
    "duration": 8,
    "start_time": "2022-03-29T07:50:43.040Z"
   },
   {
    "duration": 34,
    "start_time": "2022-03-29T07:50:43.051Z"
   },
   {
    "duration": 617,
    "start_time": "2022-03-29T07:50:43.088Z"
   },
   {
    "duration": 6,
    "start_time": "2022-03-29T07:50:43.707Z"
   },
   {
    "duration": 9,
    "start_time": "2022-03-29T07:50:43.715Z"
   },
   {
    "duration": 56,
    "start_time": "2022-03-29T07:50:43.727Z"
   },
   {
    "duration": 19,
    "start_time": "2022-03-29T07:50:43.785Z"
   },
   {
    "duration": 3,
    "start_time": "2022-03-29T07:50:43.806Z"
   },
   {
    "duration": 1247,
    "start_time": "2022-03-29T07:50:43.811Z"
   },
   {
    "duration": 146075,
    "start_time": "2022-03-29T07:50:45.061Z"
   },
   {
    "duration": 141,
    "start_time": "2022-03-29T07:53:11.141Z"
   },
   {
    "duration": 10,
    "start_time": "2022-03-29T07:53:11.286Z"
   },
   {
    "duration": 10,
    "start_time": "2022-03-29T07:53:11.383Z"
   },
   {
    "duration": 112,
    "start_time": "2022-03-29T07:53:11.396Z"
   },
   {
    "duration": 107,
    "start_time": "2022-03-29T07:53:11.584Z"
   },
   {
    "duration": 889,
    "start_time": "2022-03-29T07:53:11.695Z"
   },
   {
    "duration": 227575,
    "start_time": "2022-03-29T07:53:12.588Z"
   },
   {
    "duration": 140,
    "start_time": "2022-03-29T07:57:00.165Z"
   },
   {
    "duration": 1221,
    "start_time": "2022-03-29T07:57:00.307Z"
   },
   {
    "duration": 1594,
    "start_time": "2022-03-29T08:19:24.751Z"
   },
   {
    "duration": 52,
    "start_time": "2022-03-29T08:19:26.348Z"
   },
   {
    "duration": 30,
    "start_time": "2022-03-29T08:19:26.403Z"
   },
   {
    "duration": 6,
    "start_time": "2022-03-29T08:19:26.436Z"
   },
   {
    "duration": 9,
    "start_time": "2022-03-29T08:19:26.444Z"
   },
   {
    "duration": 985,
    "start_time": "2022-03-29T08:19:26.483Z"
   },
   {
    "duration": 13,
    "start_time": "2022-03-29T08:19:27.470Z"
   },
   {
    "duration": 10,
    "start_time": "2022-03-29T08:19:27.485Z"
   },
   {
    "duration": 33,
    "start_time": "2022-03-29T08:19:27.497Z"
   },
   {
    "duration": 16,
    "start_time": "2022-03-29T08:19:27.533Z"
   },
   {
    "duration": 4,
    "start_time": "2022-03-29T08:19:27.551Z"
   },
   {
    "duration": 1272,
    "start_time": "2022-03-29T08:19:27.557Z"
   },
   {
    "duration": 155176,
    "start_time": "2022-03-29T08:19:28.832Z"
   },
   {
    "duration": 277,
    "start_time": "2022-03-29T08:22:04.011Z"
   },
   {
    "duration": 95,
    "start_time": "2022-03-29T08:22:04.291Z"
   },
   {
    "duration": 9,
    "start_time": "2022-03-29T08:22:04.389Z"
   },
   {
    "duration": 383,
    "start_time": "2022-03-29T08:22:04.401Z"
   },
   {
    "duration": 22,
    "start_time": "2022-03-29T08:22:04.786Z"
   },
   {
    "duration": 223715,
    "start_time": "2022-03-29T08:22:04.811Z"
   },
   {
    "duration": 1539,
    "start_time": "2022-03-29T08:25:48.529Z"
   },
   {
    "duration": 217,
    "start_time": "2022-03-29T08:25:50.071Z"
   },
   {
    "duration": 86,
    "start_time": "2022-03-29T08:26:51.520Z"
   },
   {
    "duration": 2345,
    "start_time": "2022-03-29T08:36:07.081Z"
   },
   {
    "duration": 55,
    "start_time": "2022-03-29T08:36:09.431Z"
   },
   {
    "duration": 34,
    "start_time": "2022-03-29T08:36:09.488Z"
   },
   {
    "duration": 8,
    "start_time": "2022-03-29T08:36:09.525Z"
   },
   {
    "duration": 13,
    "start_time": "2022-03-29T08:36:09.537Z"
   },
   {
    "duration": 731,
    "start_time": "2022-03-29T08:36:09.585Z"
   },
   {
    "duration": 6,
    "start_time": "2022-03-29T08:36:10.319Z"
   },
   {
    "duration": 18,
    "start_time": "2022-03-29T08:36:10.328Z"
   },
   {
    "duration": 49,
    "start_time": "2022-03-29T08:36:10.349Z"
   },
   {
    "duration": 24,
    "start_time": "2022-03-29T08:36:10.401Z"
   },
   {
    "duration": 5,
    "start_time": "2022-03-29T08:36:10.428Z"
   },
   {
    "duration": 1660,
    "start_time": "2022-03-29T08:36:10.435Z"
   },
   {
    "duration": 156611,
    "start_time": "2022-03-29T08:36:12.098Z"
   },
   {
    "duration": 180,
    "start_time": "2022-03-29T08:38:48.714Z"
   },
   {
    "duration": 89,
    "start_time": "2022-03-29T08:38:48.897Z"
   },
   {
    "duration": 15,
    "start_time": "2022-03-29T08:38:48.988Z"
   },
   {
    "duration": 183,
    "start_time": "2022-03-29T08:38:49.005Z"
   },
   {
    "duration": 168,
    "start_time": "2022-03-29T08:38:49.191Z"
   },
   {
    "duration": 0,
    "start_time": "2022-03-29T08:38:49.362Z"
   },
   {
    "duration": 1,
    "start_time": "2022-03-29T08:38:49.363Z"
   },
   {
    "duration": 0,
    "start_time": "2022-03-29T08:38:49.366Z"
   },
   {
    "duration": 0,
    "start_time": "2022-03-29T08:38:49.367Z"
   },
   {
    "duration": 1593,
    "start_time": "2022-03-29T08:39:27.991Z"
   },
   {
    "duration": 53,
    "start_time": "2022-03-29T08:39:29.588Z"
   },
   {
    "duration": 41,
    "start_time": "2022-03-29T08:39:29.644Z"
   },
   {
    "duration": 7,
    "start_time": "2022-03-29T08:39:29.688Z"
   },
   {
    "duration": 9,
    "start_time": "2022-03-29T08:39:29.700Z"
   },
   {
    "duration": 573,
    "start_time": "2022-03-29T08:39:29.712Z"
   },
   {
    "duration": 7,
    "start_time": "2022-03-29T08:39:30.288Z"
   },
   {
    "duration": 19,
    "start_time": "2022-03-29T08:39:30.298Z"
   },
   {
    "duration": 66,
    "start_time": "2022-03-29T08:39:30.320Z"
   },
   {
    "duration": 25,
    "start_time": "2022-03-29T08:39:30.388Z"
   },
   {
    "duration": 7,
    "start_time": "2022-03-29T08:39:30.416Z"
   },
   {
    "duration": 1265,
    "start_time": "2022-03-29T08:39:30.426Z"
   },
   {
    "duration": 154738,
    "start_time": "2022-03-29T08:39:31.694Z"
   },
   {
    "duration": 253,
    "start_time": "2022-03-29T08:42:06.436Z"
   },
   {
    "duration": 97,
    "start_time": "2022-03-29T08:42:06.692Z"
   },
   {
    "duration": 13,
    "start_time": "2022-03-29T08:42:06.792Z"
   },
   {
    "duration": 280,
    "start_time": "2022-03-29T08:42:06.808Z"
   },
   {
    "duration": 189056,
    "start_time": "2022-03-29T08:42:07.092Z"
   },
   {
    "duration": 40,
    "start_time": "2022-03-29T08:45:16.151Z"
   },
   {
    "duration": 283000,
    "start_time": "2022-03-29T08:45:16.194Z"
   },
   {
    "duration": 1128,
    "start_time": "2022-03-29T08:49:59.197Z"
   },
   {
    "duration": 100,
    "start_time": "2022-03-29T08:50:00.328Z"
   },
   {
    "duration": 1530,
    "start_time": "2022-03-29T09:03:29.610Z"
   },
   {
    "duration": 46,
    "start_time": "2022-03-29T09:03:31.143Z"
   },
   {
    "duration": 32,
    "start_time": "2022-03-29T09:03:31.192Z"
   },
   {
    "duration": 7,
    "start_time": "2022-03-29T09:03:31.228Z"
   },
   {
    "duration": 25,
    "start_time": "2022-03-29T09:03:31.237Z"
   },
   {
    "duration": 592,
    "start_time": "2022-03-29T09:03:31.265Z"
   },
   {
    "duration": 7,
    "start_time": "2022-03-29T09:03:31.859Z"
   },
   {
    "duration": 12,
    "start_time": "2022-03-29T09:03:31.883Z"
   },
   {
    "duration": 27,
    "start_time": "2022-03-29T09:03:31.900Z"
   },
   {
    "duration": 20,
    "start_time": "2022-03-29T09:03:31.934Z"
   },
   {
    "duration": 31,
    "start_time": "2022-03-29T09:03:31.957Z"
   },
   {
    "duration": 1249,
    "start_time": "2022-03-29T09:03:31.991Z"
   },
   {
    "duration": 163898,
    "start_time": "2022-03-29T09:03:33.243Z"
   },
   {
    "duration": 440,
    "start_time": "2022-03-29T09:06:17.144Z"
   },
   {
    "duration": 10,
    "start_time": "2022-03-29T09:06:17.587Z"
   },
   {
    "duration": 9,
    "start_time": "2022-03-29T09:06:17.600Z"
   },
   {
    "duration": 29,
    "start_time": "2022-03-29T09:06:17.612Z"
   },
   {
    "duration": 5,
    "start_time": "2022-03-29T09:06:17.644Z"
   },
   {
    "duration": 2006,
    "start_time": "2022-03-29T09:06:17.652Z"
   },
   {
    "duration": 1559,
    "start_time": "2022-03-29T09:06:19.661Z"
   },
   {
    "duration": 174275,
    "start_time": "2022-03-29T09:06:21.222Z"
   },
   {
    "duration": 239389,
    "start_time": "2022-03-29T09:09:15.500Z"
   },
   {
    "duration": 195,
    "start_time": "2022-03-29T09:13:14.891Z"
   },
   {
    "duration": 300,
    "start_time": "2022-03-29T09:13:15.089Z"
   },
   {
    "duration": 94,
    "start_time": "2022-03-29T09:13:15.392Z"
   },
   {
    "duration": 1168,
    "start_time": "2022-03-29T09:13:15.488Z"
   },
   {
    "duration": 104,
    "start_time": "2022-03-29T09:13:16.659Z"
   },
   {
    "duration": 2043,
    "start_time": "2022-03-29T09:36:03.254Z"
   },
   {
    "duration": 47,
    "start_time": "2022-03-29T09:36:05.301Z"
   },
   {
    "duration": 62,
    "start_time": "2022-03-29T09:36:05.352Z"
   },
   {
    "duration": 9,
    "start_time": "2022-03-29T09:36:05.417Z"
   },
   {
    "duration": 29,
    "start_time": "2022-03-29T09:36:05.431Z"
   },
   {
    "duration": 614,
    "start_time": "2022-03-29T09:36:05.462Z"
   },
   {
    "duration": 7,
    "start_time": "2022-03-29T09:36:06.079Z"
   },
   {
    "duration": 13,
    "start_time": "2022-03-29T09:36:06.089Z"
   },
   {
    "duration": 31,
    "start_time": "2022-03-29T09:36:06.105Z"
   },
   {
    "duration": 46,
    "start_time": "2022-03-29T09:36:06.139Z"
   },
   {
    "duration": 4,
    "start_time": "2022-03-29T09:36:06.187Z"
   },
   {
    "duration": 1281,
    "start_time": "2022-03-29T09:36:06.194Z"
   },
   {
    "duration": 166313,
    "start_time": "2022-03-29T09:36:07.488Z"
   },
   {
    "duration": 88,
    "start_time": "2022-03-29T09:38:53.805Z"
   },
   {
    "duration": 97,
    "start_time": "2022-03-29T09:38:53.989Z"
   },
   {
    "duration": 8,
    "start_time": "2022-03-29T09:38:54.089Z"
   },
   {
    "duration": 22,
    "start_time": "2022-03-29T09:38:54.099Z"
   },
   {
    "duration": 4,
    "start_time": "2022-03-29T09:38:54.123Z"
   },
   {
    "duration": 1341,
    "start_time": "2022-03-29T09:38:54.129Z"
   },
   {
    "duration": 1671,
    "start_time": "2022-03-29T09:38:55.472Z"
   },
   {
    "duration": 194749,
    "start_time": "2022-03-29T09:38:57.146Z"
   },
   {
    "duration": 234975,
    "start_time": "2022-03-29T09:42:11.898Z"
   },
   {
    "duration": 119,
    "start_time": "2022-03-29T09:46:06.876Z"
   },
   {
    "duration": 296,
    "start_time": "2022-03-29T09:46:06.997Z"
   },
   {
    "duration": 9,
    "start_time": "2022-03-29T09:46:07.384Z"
   },
   {
    "duration": 1039,
    "start_time": "2022-03-29T09:46:07.396Z"
   },
   {
    "duration": 113,
    "start_time": "2022-03-29T09:46:08.438Z"
   },
   {
    "duration": 50,
    "start_time": "2022-03-29T10:19:07.757Z"
   },
   {
    "duration": 1303,
    "start_time": "2022-03-29T10:20:27.828Z"
   },
   {
    "duration": 43,
    "start_time": "2022-03-29T10:20:29.133Z"
   },
   {
    "duration": 20,
    "start_time": "2022-03-29T10:20:29.177Z"
   },
   {
    "duration": 5,
    "start_time": "2022-03-29T10:20:29.199Z"
   },
   {
    "duration": 7,
    "start_time": "2022-03-29T10:20:29.206Z"
   },
   {
    "duration": 641,
    "start_time": "2022-03-29T10:20:29.215Z"
   },
   {
    "duration": 5,
    "start_time": "2022-03-29T10:20:29.858Z"
   },
   {
    "duration": 8,
    "start_time": "2022-03-29T10:20:29.865Z"
   },
   {
    "duration": 22,
    "start_time": "2022-03-29T10:20:29.875Z"
   },
   {
    "duration": 34,
    "start_time": "2022-03-29T10:20:29.899Z"
   },
   {
    "duration": 3,
    "start_time": "2022-03-29T10:20:29.935Z"
   },
   {
    "duration": 919,
    "start_time": "2022-03-29T10:20:29.939Z"
   },
   {
    "duration": 112611,
    "start_time": "2022-03-29T10:20:30.860Z"
   },
   {
    "duration": 167,
    "start_time": "2022-03-29T10:22:23.474Z"
   },
   {
    "duration": 93,
    "start_time": "2022-03-29T10:22:23.643Z"
   },
   {
    "duration": 149,
    "start_time": "2022-03-29T10:22:23.739Z"
   },
   {
    "duration": 19,
    "start_time": "2022-03-29T10:22:23.890Z"
   },
   {
    "duration": 3,
    "start_time": "2022-03-29T10:22:23.911Z"
   },
   {
    "duration": 994,
    "start_time": "2022-03-29T10:22:23.916Z"
   },
   {
    "duration": 1156,
    "start_time": "2022-03-29T10:22:24.912Z"
   },
   {
    "duration": 113653,
    "start_time": "2022-03-29T10:22:26.070Z"
   },
   {
    "duration": 154918,
    "start_time": "2022-03-29T10:24:19.726Z"
   },
   {
    "duration": 100,
    "start_time": "2022-03-29T10:26:54.645Z"
   },
   {
    "duration": 204,
    "start_time": "2022-03-29T10:26:54.834Z"
   },
   {
    "duration": 93,
    "start_time": "2022-03-29T10:26:55.041Z"
   },
   {
    "duration": 665,
    "start_time": "2022-03-29T10:26:55.136Z"
   },
   {
    "duration": 101,
    "start_time": "2022-03-29T10:26:55.803Z"
   },
   {
    "duration": 300,
    "start_time": "2022-03-29T10:36:21.285Z"
   },
   {
    "duration": 219,
    "start_time": "2022-03-29T10:37:01.814Z"
   },
   {
    "duration": 1843,
    "start_time": "2022-03-30T13:20:06.800Z"
   },
   {
    "duration": 60,
    "start_time": "2022-03-30T13:20:08.645Z"
   },
   {
    "duration": 29,
    "start_time": "2022-03-30T13:20:08.707Z"
   },
   {
    "duration": 12,
    "start_time": "2022-03-30T13:20:08.738Z"
   },
   {
    "duration": 18,
    "start_time": "2022-03-30T13:20:08.753Z"
   },
   {
    "duration": 1012,
    "start_time": "2022-03-30T13:20:08.774Z"
   },
   {
    "duration": 7,
    "start_time": "2022-03-30T13:20:09.789Z"
   },
   {
    "duration": 26,
    "start_time": "2022-03-30T13:20:09.798Z"
   },
   {
    "duration": 35,
    "start_time": "2022-03-30T13:20:09.826Z"
   },
   {
    "duration": 17,
    "start_time": "2022-03-30T13:20:09.863Z"
   },
   {
    "duration": 5,
    "start_time": "2022-03-30T13:20:09.882Z"
   },
   {
    "duration": 1191,
    "start_time": "2022-03-30T13:20:09.890Z"
   },
   {
    "duration": 147451,
    "start_time": "2022-03-30T13:20:11.083Z"
   },
   {
    "duration": 207,
    "start_time": "2022-03-30T13:22:38.544Z"
   },
   {
    "duration": 93,
    "start_time": "2022-03-30T13:22:38.755Z"
   },
   {
    "duration": 9,
    "start_time": "2022-03-30T13:22:38.850Z"
   },
   {
    "duration": 22,
    "start_time": "2022-03-30T13:22:38.861Z"
   },
   {
    "duration": 4,
    "start_time": "2022-03-30T13:22:38.886Z"
   },
   {
    "duration": 1270,
    "start_time": "2022-03-30T13:22:38.893Z"
   },
   {
    "duration": 1504,
    "start_time": "2022-03-30T13:22:40.166Z"
   },
   {
    "duration": 232,
    "start_time": "2022-03-30T13:22:41.672Z"
   },
   {
    "duration": 0,
    "start_time": "2022-03-30T13:22:41.907Z"
   },
   {
    "duration": 0,
    "start_time": "2022-03-30T13:22:41.909Z"
   },
   {
    "duration": 0,
    "start_time": "2022-03-30T13:22:41.912Z"
   },
   {
    "duration": 0,
    "start_time": "2022-03-30T13:22:41.914Z"
   },
   {
    "duration": 0,
    "start_time": "2022-03-30T13:22:41.916Z"
   },
   {
    "duration": 0,
    "start_time": "2022-03-30T13:22:41.918Z"
   },
   {
    "duration": 0,
    "start_time": "2022-03-30T13:22:41.943Z"
   },
   {
    "duration": 1660,
    "start_time": "2022-03-30T13:24:41.706Z"
   },
   {
    "duration": 51,
    "start_time": "2022-03-30T13:24:43.368Z"
   },
   {
    "duration": 36,
    "start_time": "2022-03-30T13:24:43.422Z"
   },
   {
    "duration": 6,
    "start_time": "2022-03-30T13:24:43.460Z"
   },
   {
    "duration": 6,
    "start_time": "2022-03-30T13:24:43.469Z"
   },
   {
    "duration": 704,
    "start_time": "2022-03-30T13:24:43.477Z"
   },
   {
    "duration": 6,
    "start_time": "2022-03-30T13:24:44.184Z"
   },
   {
    "duration": 10,
    "start_time": "2022-03-30T13:24:44.192Z"
   },
   {
    "duration": 66,
    "start_time": "2022-03-30T13:24:44.205Z"
   },
   {
    "duration": 16,
    "start_time": "2022-03-30T13:24:44.273Z"
   },
   {
    "duration": 4,
    "start_time": "2022-03-30T13:24:44.291Z"
   },
   {
    "duration": 1227,
    "start_time": "2022-03-30T13:24:44.297Z"
   },
   {
    "duration": 10233,
    "start_time": "2022-03-30T13:24:45.527Z"
   },
   {
    "duration": 0,
    "start_time": "2022-03-30T13:24:55.765Z"
   },
   {
    "duration": 0,
    "start_time": "2022-03-30T13:24:55.766Z"
   },
   {
    "duration": 0,
    "start_time": "2022-03-30T13:24:55.769Z"
   },
   {
    "duration": 0,
    "start_time": "2022-03-30T13:24:55.771Z"
   },
   {
    "duration": 0,
    "start_time": "2022-03-30T13:24:55.773Z"
   },
   {
    "duration": 0,
    "start_time": "2022-03-30T13:24:55.775Z"
   },
   {
    "duration": 0,
    "start_time": "2022-03-30T13:24:55.777Z"
   },
   {
    "duration": 0,
    "start_time": "2022-03-30T13:24:55.779Z"
   },
   {
    "duration": 0,
    "start_time": "2022-03-30T13:24:55.781Z"
   },
   {
    "duration": 0,
    "start_time": "2022-03-30T13:24:55.784Z"
   },
   {
    "duration": 0,
    "start_time": "2022-03-30T13:24:55.786Z"
   },
   {
    "duration": 0,
    "start_time": "2022-03-30T13:24:55.788Z"
   },
   {
    "duration": 0,
    "start_time": "2022-03-30T13:24:55.790Z"
   },
   {
    "duration": 0,
    "start_time": "2022-03-30T13:24:55.793Z"
   },
   {
    "duration": 0,
    "start_time": "2022-03-30T13:24:55.843Z"
   },
   {
    "duration": 1806,
    "start_time": "2022-03-30T13:26:04.700Z"
   },
   {
    "duration": 64,
    "start_time": "2022-03-30T13:26:06.509Z"
   },
   {
    "duration": 29,
    "start_time": "2022-03-30T13:26:06.574Z"
   },
   {
    "duration": 10,
    "start_time": "2022-03-30T13:26:06.605Z"
   },
   {
    "duration": 25,
    "start_time": "2022-03-30T13:26:06.619Z"
   },
   {
    "duration": 588,
    "start_time": "2022-03-30T13:26:06.646Z"
   },
   {
    "duration": 9,
    "start_time": "2022-03-30T13:26:07.236Z"
   },
   {
    "duration": 30,
    "start_time": "2022-03-30T13:26:07.247Z"
   },
   {
    "duration": 48,
    "start_time": "2022-03-30T13:26:07.279Z"
   },
   {
    "duration": 22,
    "start_time": "2022-03-30T13:26:07.330Z"
   },
   {
    "duration": 5,
    "start_time": "2022-03-30T13:26:07.355Z"
   },
   {
    "duration": 1254,
    "start_time": "2022-03-30T13:26:07.362Z"
   },
   {
    "duration": 159994,
    "start_time": "2022-03-30T13:26:08.618Z"
   },
   {
    "duration": 139,
    "start_time": "2022-03-30T13:28:48.616Z"
   },
   {
    "duration": 90,
    "start_time": "2022-03-30T13:28:48.758Z"
   },
   {
    "duration": 10,
    "start_time": "2022-03-30T13:28:48.851Z"
   },
   {
    "duration": 24,
    "start_time": "2022-03-30T13:28:48.863Z"
   },
   {
    "duration": 4,
    "start_time": "2022-03-30T13:28:48.889Z"
   },
   {
    "duration": 1281,
    "start_time": "2022-03-30T13:28:48.895Z"
   },
   {
    "duration": 1569,
    "start_time": "2022-03-30T13:28:50.179Z"
   },
   {
    "duration": 108,
    "start_time": "2022-03-30T13:28:51.751Z"
   },
   {
    "duration": 167859,
    "start_time": "2022-03-30T13:28:51.862Z"
   },
   {
    "duration": 209463,
    "start_time": "2022-03-30T13:31:39.723Z"
   },
   {
    "duration": 157,
    "start_time": "2022-03-30T13:35:09.188Z"
   },
   {
    "duration": 205,
    "start_time": "2022-03-30T13:35:09.348Z"
   },
   {
    "duration": 11,
    "start_time": "2022-03-30T13:35:09.642Z"
   },
   {
    "duration": 988,
    "start_time": "2022-03-30T13:35:09.655Z"
   },
   {
    "duration": 105,
    "start_time": "2022-03-30T13:35:10.645Z"
   }
  ],
  "kernelspec": {
   "display_name": "Python 3 (ipykernel)",
   "language": "python",
   "name": "python3"
  },
  "language_info": {
   "codemirror_mode": {
    "name": "ipython",
    "version": 3
   },
   "file_extension": ".py",
   "mimetype": "text/x-python",
   "name": "python",
   "nbconvert_exporter": "python",
   "pygments_lexer": "ipython3",
   "version": "3.9.7"
  },
  "toc": {
   "base_numbering": 1,
   "nav_menu": {},
   "number_sections": true,
   "sideBar": true,
   "skip_h1_title": true,
   "title_cell": "Содержание",
   "title_sidebar": "Contents",
   "toc_cell": true,
   "toc_position": {
    "height": "calc(100% - 180px)",
    "left": "10px",
    "top": "150px",
    "width": "323.903px"
   },
   "toc_section_display": true,
   "toc_window_display": true
  }
 },
 "nbformat": 4,
 "nbformat_minor": 2
}
