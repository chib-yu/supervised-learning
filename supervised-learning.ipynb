{
 "cells": [
  {
   "cell_type": "markdown",
   "metadata": {
    "toc": true
   },
   "source": [
    "<h1>Содержание<span class=\"tocSkip\"></span></h1>\n",
    "<div class=\"toc\"><ul class=\"toc-item\"><li><span><a href=\"#Подготовка-данных\" data-toc-modified-id=\"Подготовка-данных-1\"><span class=\"toc-item-num\">1&nbsp;&nbsp;</span>Подготовка данных</a></span><ul class=\"toc-item\"><li><span><a href=\"#Открытие-файла-и-изучение-данных\" data-toc-modified-id=\"Открытие-файла-и-изучение-данных-1.1\"><span class=\"toc-item-num\">1.1&nbsp;&nbsp;</span>Открытие файла и изучение данных</a></span></li><li><span><a href=\"#Подготовка-признаков\" data-toc-modified-id=\"Подготовка-признаков-1.2\"><span class=\"toc-item-num\">1.2&nbsp;&nbsp;</span>Подготовка признаков</a></span></li><li><span><a href=\"#Создание-обучающей,-валидационной-и-тестовой-выборок\" data-toc-modified-id=\"Создание-обучающей,-валидационной-и-тестовой-выборок-1.3\"><span class=\"toc-item-num\">1.3&nbsp;&nbsp;</span>Создание обучающей, валидационной и тестовой выборок</a></span></li><li><span><a href=\"#Выводы-по-п.-1\" data-toc-modified-id=\"Выводы-по-п.-1-1.4\"><span class=\"toc-item-num\">1.4&nbsp;&nbsp;</span>Выводы по п. 1</a></span></li></ul></li><li><span><a href=\"#Исследование-задачи\" data-toc-modified-id=\"Исследование-задачи-2\"><span class=\"toc-item-num\">2&nbsp;&nbsp;</span>Исследование задачи</a></span><ul class=\"toc-item\"><li><span><a href=\"#Модель-решающего-дерева\" data-toc-modified-id=\"Модель-решающего-дерева-2.1\"><span class=\"toc-item-num\">2.1&nbsp;&nbsp;</span>Модель решающего дерева</a></span></li><li><span><a href=\"#Модель-случайного-леса\" data-toc-modified-id=\"Модель-случайного-леса-2.2\"><span class=\"toc-item-num\">2.2&nbsp;&nbsp;</span>Модель случайного леса</a></span></li><li><span><a href=\"#Логистическая-регрессия\" data-toc-modified-id=\"Логистическая-регрессия-2.3\"><span class=\"toc-item-num\">2.3&nbsp;&nbsp;</span>Логистическая регрессия</a></span></li><li><span><a href=\"#Сравнение-моделей-разного-типа\" data-toc-modified-id=\"Сравнение-моделей-разного-типа-2.4\"><span class=\"toc-item-num\">2.4&nbsp;&nbsp;</span>Сравнение моделей разного типа</a></span></li><li><span><a href=\"#Выводы-по-п.-2\" data-toc-modified-id=\"Выводы-по-п.-2-2.5\"><span class=\"toc-item-num\">2.5&nbsp;&nbsp;</span>Выводы по п. 2</a></span></li></ul></li><li><span><a href=\"#Борьба-с-дисбалансом\" data-toc-modified-id=\"Борьба-с-дисбалансом-3\"><span class=\"toc-item-num\">3&nbsp;&nbsp;</span>Борьба с дисбалансом</a></span><ul class=\"toc-item\"><li><span><a href=\"#Выводы-по-п.-3\" data-toc-modified-id=\"Выводы-по-п.-3-3.1\"><span class=\"toc-item-num\">3.1&nbsp;&nbsp;</span>Выводы по п. 3</a></span></li></ul></li><li><span><a href=\"#Тестирование-модели\" data-toc-modified-id=\"Тестирование-модели-4\"><span class=\"toc-item-num\">4&nbsp;&nbsp;</span>Тестирование модели</a></span><ul class=\"toc-item\"><li><span><a href=\"#Выводы-по-п.-4\" data-toc-modified-id=\"Выводы-по-п.-4-4.1\"><span class=\"toc-item-num\">4.1&nbsp;&nbsp;</span>Выводы по п. 4</a></span></li></ul></li><li><span><a href=\"#Выводы-по-проекту\" data-toc-modified-id=\"Выводы-по-проекту-5\"><span class=\"toc-item-num\">5&nbsp;&nbsp;</span>Выводы по проекту</a></span></li><li><span><a href=\"#Чек-лист-готовности-проекта\" data-toc-modified-id=\"Чек-лист-готовности-проекта-6\"><span class=\"toc-item-num\">6&nbsp;&nbsp;</span>Чек-лист готовности проекта</a></span></li></ul></div>"
   ]
  },
  {
   "cell_type": "markdown",
   "metadata": {},
   "source": [
    "# Исследование: Отток клиентов"
   ]
  },
  {
   "cell_type": "markdown",
   "metadata": {},
   "source": [
    "**Задача:** Спрогнозировать, уйдёт клиент из банка в ближайшее время или нет. \n",
    "\n",
    "**Данные:** Исторические данные о поведении клиентов и расторжении договоров с банком. Источник данных: [https://www.kaggle.com/barelydedicated/bank-customer-churn-modeling](https://www.kaggle.com/barelydedicated/bank-customer-churn-modeling)\n",
    "\n",
    "**Цель:** Построить модель с предельно большим значением *F1*-меры. Довести метрику до 0.59. Проверить *F1*-меру на тестовой выборке, дополнительно измерить *AUC-ROC*, сравнить её значение с *F1*-мерой."
   ]
  },
  {
   "cell_type": "markdown",
   "metadata": {},
   "source": [
    "## Подготовка данных"
   ]
  },
  {
   "cell_type": "markdown",
   "metadata": {},
   "source": [
    "### Открытие файла и изучение данных"
   ]
  },
  {
   "cell_type": "code",
   "execution_count": 15,
   "metadata": {
    "scrolled": true
   },
   "outputs": [],
   "source": [
    "import pandas as pd\n",
    "from sklearn.tree import DecisionTreeClassifier\n",
    "from sklearn.ensemble import RandomForestClassifier\n",
    "from sklearn.linear_model import LogisticRegression\n",
    "from sklearn.metrics import f1_score\n",
    "from sklearn.metrics import roc_auc_score\n",
    "from sklearn.model_selection import train_test_split\n",
    "from sklearn.utils import shuffle"
   ]
  },
  {
   "cell_type": "code",
   "execution_count": 16,
   "metadata": {
    "scrolled": true
   },
   "outputs": [
    {
     "name": "stdout",
     "output_type": "stream",
     "text": [
      "<class 'pandas.core.frame.DataFrame'>\n",
      "RangeIndex: 10000 entries, 0 to 9999\n",
      "Data columns (total 14 columns):\n",
      " #   Column           Non-Null Count  Dtype  \n",
      "---  ------           --------------  -----  \n",
      " 0   RowNumber        10000 non-null  int64  \n",
      " 1   CustomerId       10000 non-null  int64  \n",
      " 2   Surname          10000 non-null  object \n",
      " 3   CreditScore      10000 non-null  int64  \n",
      " 4   Geography        10000 non-null  object \n",
      " 5   Gender           10000 non-null  object \n",
      " 6   Age              10000 non-null  int64  \n",
      " 7   Tenure           9091 non-null   float64\n",
      " 8   Balance          10000 non-null  float64\n",
      " 9   NumOfProducts    10000 non-null  int64  \n",
      " 10  HasCrCard        10000 non-null  int64  \n",
      " 11  IsActiveMember   10000 non-null  int64  \n",
      " 12  EstimatedSalary  10000 non-null  float64\n",
      " 13  Exited           10000 non-null  int64  \n",
      "dtypes: float64(3), int64(8), object(3)\n",
      "memory usage: 1.1+ MB\n"
     ]
    }
   ],
   "source": [
    "try:\n",
    "    df = pd.read_csv('/datasets/Churn.csv') # server path\n",
    "except:\n",
    "    df = pd.read_csv('C:/Users/datasets/Churn.csv') # local path\n",
    "\n",
    "df.info()"
   ]
  },
  {
   "cell_type": "markdown",
   "metadata": {},
   "source": [
    "**Описание данных**\n",
    "\n",
    "Признаки:\n",
    "- RowNumber — индекс строки в данных\n",
    "- CustomerId — уникальный идентификатор клиента\n",
    "- Surname — фамилия\n",
    "- CreditScore — кредитный рейтинг\n",
    "- Geography — страна проживания\n",
    "- Gender — пол\n",
    "- Age — возраст\n",
    "- Tenure — сколько лет человек является клиентом банка\n",
    "- Balance — баланс на счёте\n",
    "- NumOfProducts — количество продуктов банка, используемых клиентом\n",
    "- HasCrCard — наличие кредитной карты\n",
    "- IsActiveMember — активность клиента\n",
    "- EstimatedSalary — предполагаемая зарплата\n",
    "\n",
    "Целевой признак:\n",
    "- Exited — факт ухода клиента"
   ]
  },
  {
   "cell_type": "code",
   "execution_count": 4,
   "metadata": {
    "scrolled": true
   },
   "outputs": [
    {
     "data": {
      "text/html": [
       "<div>\n",
       "<style scoped>\n",
       "    .dataframe tbody tr th:only-of-type {\n",
       "        vertical-align: middle;\n",
       "    }\n",
       "\n",
       "    .dataframe tbody tr th {\n",
       "        vertical-align: top;\n",
       "    }\n",
       "\n",
       "    .dataframe thead th {\n",
       "        text-align: right;\n",
       "    }\n",
       "</style>\n",
       "<table border=\"1\" class=\"dataframe\">\n",
       "  <thead>\n",
       "    <tr style=\"text-align: right;\">\n",
       "      <th></th>\n",
       "      <th>RowNumber</th>\n",
       "      <th>CustomerId</th>\n",
       "      <th>Surname</th>\n",
       "      <th>CreditScore</th>\n",
       "      <th>Geography</th>\n",
       "      <th>Gender</th>\n",
       "      <th>Age</th>\n",
       "      <th>Tenure</th>\n",
       "      <th>Balance</th>\n",
       "      <th>NumOfProducts</th>\n",
       "      <th>HasCrCard</th>\n",
       "      <th>IsActiveMember</th>\n",
       "      <th>EstimatedSalary</th>\n",
       "      <th>Exited</th>\n",
       "    </tr>\n",
       "  </thead>\n",
       "  <tbody>\n",
       "    <tr>\n",
       "      <th>0</th>\n",
       "      <td>1</td>\n",
       "      <td>15634602</td>\n",
       "      <td>Hargrave</td>\n",
       "      <td>619</td>\n",
       "      <td>France</td>\n",
       "      <td>Female</td>\n",
       "      <td>42</td>\n",
       "      <td>2.0</td>\n",
       "      <td>0.00</td>\n",
       "      <td>1</td>\n",
       "      <td>1</td>\n",
       "      <td>1</td>\n",
       "      <td>101348.88</td>\n",
       "      <td>1</td>\n",
       "    </tr>\n",
       "    <tr>\n",
       "      <th>1</th>\n",
       "      <td>2</td>\n",
       "      <td>15647311</td>\n",
       "      <td>Hill</td>\n",
       "      <td>608</td>\n",
       "      <td>Spain</td>\n",
       "      <td>Female</td>\n",
       "      <td>41</td>\n",
       "      <td>1.0</td>\n",
       "      <td>83807.86</td>\n",
       "      <td>1</td>\n",
       "      <td>0</td>\n",
       "      <td>1</td>\n",
       "      <td>112542.58</td>\n",
       "      <td>0</td>\n",
       "    </tr>\n",
       "    <tr>\n",
       "      <th>2</th>\n",
       "      <td>3</td>\n",
       "      <td>15619304</td>\n",
       "      <td>Onio</td>\n",
       "      <td>502</td>\n",
       "      <td>France</td>\n",
       "      <td>Female</td>\n",
       "      <td>42</td>\n",
       "      <td>8.0</td>\n",
       "      <td>159660.80</td>\n",
       "      <td>3</td>\n",
       "      <td>1</td>\n",
       "      <td>0</td>\n",
       "      <td>113931.57</td>\n",
       "      <td>1</td>\n",
       "    </tr>\n",
       "    <tr>\n",
       "      <th>3</th>\n",
       "      <td>4</td>\n",
       "      <td>15701354</td>\n",
       "      <td>Boni</td>\n",
       "      <td>699</td>\n",
       "      <td>France</td>\n",
       "      <td>Female</td>\n",
       "      <td>39</td>\n",
       "      <td>1.0</td>\n",
       "      <td>0.00</td>\n",
       "      <td>2</td>\n",
       "      <td>0</td>\n",
       "      <td>0</td>\n",
       "      <td>93826.63</td>\n",
       "      <td>0</td>\n",
       "    </tr>\n",
       "    <tr>\n",
       "      <th>4</th>\n",
       "      <td>5</td>\n",
       "      <td>15737888</td>\n",
       "      <td>Mitchell</td>\n",
       "      <td>850</td>\n",
       "      <td>Spain</td>\n",
       "      <td>Female</td>\n",
       "      <td>43</td>\n",
       "      <td>2.0</td>\n",
       "      <td>125510.82</td>\n",
       "      <td>1</td>\n",
       "      <td>1</td>\n",
       "      <td>1</td>\n",
       "      <td>79084.10</td>\n",
       "      <td>0</td>\n",
       "    </tr>\n",
       "  </tbody>\n",
       "</table>\n",
       "</div>"
      ],
      "text/plain": [
       "   RowNumber  CustomerId   Surname  CreditScore Geography  Gender  Age  \\\n",
       "0          1    15634602  Hargrave          619    France  Female   42   \n",
       "1          2    15647311      Hill          608     Spain  Female   41   \n",
       "2          3    15619304      Onio          502    France  Female   42   \n",
       "3          4    15701354      Boni          699    France  Female   39   \n",
       "4          5    15737888  Mitchell          850     Spain  Female   43   \n",
       "\n",
       "   Tenure    Balance  NumOfProducts  HasCrCard  IsActiveMember  \\\n",
       "0     2.0       0.00              1          1               1   \n",
       "1     1.0   83807.86              1          0               1   \n",
       "2     8.0  159660.80              3          1               0   \n",
       "3     1.0       0.00              2          0               0   \n",
       "4     2.0  125510.82              1          1               1   \n",
       "\n",
       "   EstimatedSalary  Exited  \n",
       "0        101348.88       1  \n",
       "1        112542.58       0  \n",
       "2        113931.57       1  \n",
       "3         93826.63       0  \n",
       "4         79084.10       0  "
      ]
     },
     "execution_count": 4,
     "metadata": {},
     "output_type": "execute_result"
    }
   ],
   "source": [
    "df.head(n=5)"
   ]
  },
  {
   "cell_type": "markdown",
   "metadata": {},
   "source": [
    "Датафрейм содержит 10000 записей. \n",
    "\n",
    "Есть пропуски в столбце 'Tenure'. Кроме того, данные в нем, вероятно, следует преобразовать в целочисленный тип.\n",
    "\n",
    "Данные в столбцах 'RowNumber', 'CustomerId' и 'Surname' не связаны с целевым признаком и, вероятно, будут мешать проведению обучения.\n",
    "\n",
    "Имеются столбцы с категориальными признаками:\n",
    "- Geography — страна проживания;\n",
    "- Gender — пол."
   ]
  },
  {
   "cell_type": "markdown",
   "metadata": {},
   "source": [
    "### Подготовка признаков"
   ]
  },
  {
   "cell_type": "code",
   "execution_count": 5,
   "metadata": {},
   "outputs": [
    {
     "data": {
      "text/plain": [
       "909"
      ]
     },
     "execution_count": 5,
     "metadata": {},
     "output_type": "execute_result"
    }
   ],
   "source": [
    "df['Tenure'].isna().sum()"
   ]
  },
  {
   "cell_type": "code",
   "execution_count": 9,
   "metadata": {
    "scrolled": true
   },
   "outputs": [
    {
     "data": {
      "text/plain": [
       "array([ 2.,  1.,  8.,  7.,  4.,  6.,  3., 10.,  5.,  9.,  0., nan])"
      ]
     },
     "execution_count": 9,
     "metadata": {},
     "output_type": "execute_result"
    }
   ],
   "source": [
    "df['Tenure'].unique()"
   ]
  },
  {
   "cell_type": "code",
   "execution_count": 7,
   "metadata": {},
   "outputs": [
    {
     "data": {
      "text/plain": [
       "<AxesSubplot:>"
      ]
     },
     "execution_count": 7,
     "metadata": {},
     "output_type": "execute_result"
    },
    {
     "data": {
      "image/png": "[encoded data removed]",
      "text/plain": [
       "<Figure size 432x288 with 1 Axes>"
      ]
     },
     "metadata": {
      "needs_background": "light"
     },
     "output_type": "display_data"
    }
   ],
   "source": [
    "df['Tenure'].hist(bins=11)"
   ]
  },
  {
   "cell_type": "markdown",
   "metadata": {},
   "source": [
    "В столбце 'Tenure' 909 пропущенных значений, при этом необычно мало значений, равных 0. Скорее всего, пропущенные значения соответствуют нулям.\n",
    "\n",
    "Все не пропущенные значения являются целочисленными."
   ]
  },
  {
   "cell_type": "code",
   "execution_count": 17,
   "metadata": {},
   "outputs": [],
   "source": [
    "df['Tenure'] = df['Tenure'].fillna(0).astype('int')"
   ]
  },
  {
   "cell_type": "markdown",
   "metadata": {},
   "source": [
    "Проведено заполнение нулями пропущенных значений в столбце 'Tenure' и замена его типа на целочисленный."
   ]
  },
  {
   "cell_type": "code",
   "execution_count": 18,
   "metadata": {},
   "outputs": [],
   "source": [
    "df = df.drop(['RowNumber', 'CustomerId', 'Surname'], axis=1)"
   ]
  },
  {
   "cell_type": "markdown",
   "metadata": {},
   "source": [
    "Из данных удалены неинформативные признаки, которые могут помешать проведению обучения:\n",
    "- RowNumber — индекс строки в данных;\n",
    "- CustomerId — уникальный идентификатор клиента;\n",
    "- Surname — фамилия."
   ]
  },
  {
   "cell_type": "code",
   "execution_count": 19,
   "metadata": {
    "scrolled": true
   },
   "outputs": [
    {
     "data": {
      "text/html": [
       "<div>\n",
       "<style scoped>\n",
       "    .dataframe tbody tr th:only-of-type {\n",
       "        vertical-align: middle;\n",
       "    }\n",
       "\n",
       "    .dataframe tbody tr th {\n",
       "        vertical-align: top;\n",
       "    }\n",
       "\n",
       "    .dataframe thead th {\n",
       "        text-align: right;\n",
       "    }\n",
       "</style>\n",
       "<table border=\"1\" class=\"dataframe\">\n",
       "  <thead>\n",
       "    <tr style=\"text-align: right;\">\n",
       "      <th></th>\n",
       "      <th>CreditScore</th>\n",
       "      <th>Age</th>\n",
       "      <th>Tenure</th>\n",
       "      <th>Balance</th>\n",
       "      <th>NumOfProducts</th>\n",
       "      <th>HasCrCard</th>\n",
       "      <th>IsActiveMember</th>\n",
       "      <th>EstimatedSalary</th>\n",
       "      <th>Exited</th>\n",
       "      <th>Geography_Germany</th>\n",
       "      <th>Geography_Spain</th>\n",
       "      <th>Gender_Male</th>\n",
       "    </tr>\n",
       "  </thead>\n",
       "  <tbody>\n",
       "    <tr>\n",
       "      <th>0</th>\n",
       "      <td>619</td>\n",
       "      <td>42</td>\n",
       "      <td>2</td>\n",
       "      <td>0.00</td>\n",
       "      <td>1</td>\n",
       "      <td>1</td>\n",
       "      <td>1</td>\n",
       "      <td>101348.88</td>\n",
       "      <td>1</td>\n",
       "      <td>0</td>\n",
       "      <td>0</td>\n",
       "      <td>0</td>\n",
       "    </tr>\n",
       "    <tr>\n",
       "      <th>1</th>\n",
       "      <td>608</td>\n",
       "      <td>41</td>\n",
       "      <td>1</td>\n",
       "      <td>83807.86</td>\n",
       "      <td>1</td>\n",
       "      <td>0</td>\n",
       "      <td>1</td>\n",
       "      <td>112542.58</td>\n",
       "      <td>0</td>\n",
       "      <td>0</td>\n",
       "      <td>1</td>\n",
       "      <td>0</td>\n",
       "    </tr>\n",
       "    <tr>\n",
       "      <th>2</th>\n",
       "      <td>502</td>\n",
       "      <td>42</td>\n",
       "      <td>8</td>\n",
       "      <td>159660.80</td>\n",
       "      <td>3</td>\n",
       "      <td>1</td>\n",
       "      <td>0</td>\n",
       "      <td>113931.57</td>\n",
       "      <td>1</td>\n",
       "      <td>0</td>\n",
       "      <td>0</td>\n",
       "      <td>0</td>\n",
       "    </tr>\n",
       "    <tr>\n",
       "      <th>3</th>\n",
       "      <td>699</td>\n",
       "      <td>39</td>\n",
       "      <td>1</td>\n",
       "      <td>0.00</td>\n",
       "      <td>2</td>\n",
       "      <td>0</td>\n",
       "      <td>0</td>\n",
       "      <td>93826.63</td>\n",
       "      <td>0</td>\n",
       "      <td>0</td>\n",
       "      <td>0</td>\n",
       "      <td>0</td>\n",
       "    </tr>\n",
       "    <tr>\n",
       "      <th>4</th>\n",
       "      <td>850</td>\n",
       "      <td>43</td>\n",
       "      <td>2</td>\n",
       "      <td>125510.82</td>\n",
       "      <td>1</td>\n",
       "      <td>1</td>\n",
       "      <td>1</td>\n",
       "      <td>79084.10</td>\n",
       "      <td>0</td>\n",
       "      <td>0</td>\n",
       "      <td>1</td>\n",
       "      <td>0</td>\n",
       "    </tr>\n",
       "  </tbody>\n",
       "</table>\n",
       "</div>"
      ],
      "text/plain": [
       "   CreditScore  Age  Tenure    Balance  NumOfProducts  HasCrCard  \\\n",
       "0          619   42       2       0.00              1          1   \n",
       "1          608   41       1   83807.86              1          0   \n",
       "2          502   42       8  159660.80              3          1   \n",
       "3          699   39       1       0.00              2          0   \n",
       "4          850   43       2  125510.82              1          1   \n",
       "\n",
       "   IsActiveMember  EstimatedSalary  Exited  Geography_Germany  \\\n",
       "0               1        101348.88       1                  0   \n",
       "1               1        112542.58       0                  0   \n",
       "2               0        113931.57       1                  0   \n",
       "3               0         93826.63       0                  0   \n",
       "4               1         79084.10       0                  0   \n",
       "\n",
       "   Geography_Spain  Gender_Male  \n",
       "0                0            0  \n",
       "1                1            0  \n",
       "2                0            0  \n",
       "3                0            0  \n",
       "4                1            0  "
      ]
     },
     "execution_count": 19,
     "metadata": {},
     "output_type": "execute_result"
    }
   ],
   "source": [
    "df = pd.get_dummies(df, columns=['Geography', 'Gender'], drop_first=True)\n",
    "df.head()"
   ]
  },
  {
   "cell_type": "markdown",
   "metadata": {},
   "source": [
    "Выполнено One-Hot Encoding категориальных признаков:\n",
    "- Geography — страна проживания;\n",
    "- Gender — пол."
   ]
  },
  {
   "cell_type": "markdown",
   "metadata": {},
   "source": [
    "### Создание обучающей, валидационной и тестовой выборок"
   ]
  },
  {
   "cell_type": "code",
   "execution_count": 20,
   "metadata": {},
   "outputs": [
    {
     "name": "stdout",
     "output_type": "stream",
     "text": [
      "features_train.shape: (6000, 11)\n",
      "features_valid.shape: (2000, 11)\n",
      "features_test.shape: (2000, 11)\n"
     ]
    }
   ],
   "source": [
    "features = df.drop(['Exited'], axis=1)\n",
    "target = df['Exited']\n",
    "\n",
    "features_train_valid, features_test, target_train_valid, target_test = train_test_split(\n",
    "    features, target, test_size=0.2, random_state=12345)\n",
    "\n",
    "features_train, features_valid, target_train, target_valid = train_test_split(\n",
    "    features_train_valid, target_train_valid, test_size=0.25, random_state=12345)\n",
    "\n",
    "print(\"features_train.shape:\", features_train.shape)\n",
    "print(\"features_valid.shape:\", features_valid.shape)\n",
    "print(\"features_test.shape:\", features_test.shape)"
   ]
  },
  {
   "cell_type": "markdown",
   "metadata": {},
   "source": [
    "Данные разделены на целевые признаки (факт ухода клиента) и признаки (все остальное). \n",
    "\n",
    "Выборка случайным образом разделена на\n",
    "- обучающую (60% - 6000 записей);\n",
    "- валидационную (20% - 2000 записей);\n",
    "- тестовую (20% - 2000 записей)."
   ]
  },
  {
   "cell_type": "markdown",
   "metadata": {},
   "source": [
    "### Выводы по п. 1\n",
    "\n",
    "Загружен файл с данными о 10 000 клиентах банка. \n",
    "\n",
    "Пропуски в столбце Tenure заполнены нулями, его тип заменен на целочисленный.\n",
    "\n",
    "Из данных удалены неинформативные признаки, которые могут помешать проведению обучения: RowNumber, CustomerId, Surname.\n",
    "\n",
    "Выполнено One-Hot Encoding категориальных признаков Geography, Gender.\n",
    "\n",
    "Данные разделены на целевые признаки (факт ухода клиента) и признаки (все остальное). \n",
    "\n",
    "Выборка случайным образом разделена на обучающую (60%), валидационную (20%), тестовую (20%)."
   ]
  },
  {
   "cell_type": "markdown",
   "metadata": {},
   "source": [
    "## Исследование задачи"
   ]
  },
  {
   "cell_type": "code",
   "execution_count": 21,
   "metadata": {},
   "outputs": [],
   "source": [
    "best_models = []\n",
    "best_results = []\n",
    "best_roc_aucs = []"
   ]
  },
  {
   "cell_type": "markdown",
   "metadata": {},
   "source": [
    "Подготовлены списки для сохранения лучших моделей каждого типа."
   ]
  },
  {
   "cell_type": "markdown",
   "metadata": {},
   "source": [
    "### Модель решающего дерева"
   ]
  },
  {
   "cell_type": "code",
   "execution_count": 22,
   "metadata": {},
   "outputs": [
    {
     "name": "stdout",
     "output_type": "stream",
     "text": [
      "F1-мера лучшей модели решающего дерева на валидационной выборке: 0.5488958990536277\n",
      "ROC AUC мера лучшей модели решающего дерева на валидационной выборке: 0.7010645044896117\n",
      "Глубина лучшей модели решающего дерева: 7\n"
     ]
    }
   ],
   "source": [
    "best_model = None\n",
    "best_result = 0\n",
    "best_roc_auc = 0\n",
    "best_depth = None\n",
    "\n",
    "\n",
    "for depth in range(1, 31):\n",
    "    \n",
    "    model = DecisionTreeClassifier(random_state=12345, max_depth=depth) # обучение модели с заданной глубиной дерева\n",
    "    model.fit(features_train, target_train) # обучение модели\n",
    "    predicted_valid = model.predict(features_valid) # получение предсказания модели\n",
    "    result = f1_score(target_valid, predicted_valid) # подсчет качества модели на валидационной выборке\n",
    "    roc_auc = roc_auc_score(target_valid, predicted_valid)\n",
    "    if result > best_result:\n",
    "        best_model = model # сохранение наилучшей модели\n",
    "        best_result = result # сохранение наилучшего значения F1-меры на валидационных данных\n",
    "        best_roc_auc = roc_auc # сохранение значения ROC AUC наилучшей модели\n",
    "        best_depth = depth # сохранение параметра max_depth наилучшей модели\n",
    "        \n",
    "best_models.append(best_model)\n",
    "best_results.append(best_result)\n",
    "best_roc_aucs.append(best_roc_auc)\n",
    "\n",
    "print(\"F1-мера лучшей модели решающего дерева на валидационной выборке:\", best_result)\n",
    "print(\"ROC AUC мера лучшей модели решающего дерева на валидационной выборке:\", best_roc_auc)\n",
    "print(\"Глубина лучшей модели решающего дерева:\", best_depth)"
   ]
  },
  {
   "cell_type": "markdown",
   "metadata": {},
   "source": [
    "### Модель случайного леса"
   ]
  },
  {
   "cell_type": "code",
   "execution_count": 26,
   "metadata": {
    "scrolled": true
   },
   "outputs": [
    {
     "name": "stdout",
     "output_type": "stream",
     "text": [
      "F1-мера наилучшей модели случайного леса на валидационной выборке: 0.5736925515055468\n",
      "ROC AUC мера лучшей модели случайного леса на валидационной выборке: 0.6794414093359126\n",
      "Число деревьев лучшей модели случайного леса: 40\n",
      "Глубина деревьев лучшей модели случайного леса: 23\n"
     ]
    }
   ],
   "source": [
    "best_model = None\n",
    "best_result = 0\n",
    "best_roc_auc = 0\n",
    "best_depth = None\n",
    "best_est = None\n",
    "\n",
    "for est in range(10, 101, 10):\n",
    "    for depth in range(1, 31):\n",
    "        model = RandomForestClassifier(random_state=12345, n_estimators=est, max_depth=depth) # обучение модели с заданным количеством деревьев\n",
    "        model.fit(features_train, target_train) # обучение модели на тренировочной выборке\n",
    "        predicted_valid = model.predict(features_valid) # получение предсказания модели\n",
    "        result = f1_score(target_valid, predicted_valid) # подсчет качества модели на валидационной выборке\n",
    "        if result > best_result:\n",
    "            best_model = model # сохранение наилучшей модели\n",
    "            best_result = result # сохранение наилучшего значения F1-меры на валидационных данных\n",
    "            best_roc_auc = roc_auc # сохранение значения ROC AUC наилучшей модели\n",
    "            best_est = est # сохранение параметра n_estimators наилучшей модели\n",
    "            best_depth = depth # сохранение параметра max_depth наилучшей модели\n",
    "        \n",
    "best_models.append(best_model)\n",
    "best_results.append(best_result)\n",
    "best_roc_aucs.append(best_roc_auc)\n",
    "\n",
    "print(\"F1-мера наилучшей модели случайного леса на валидационной выборке:\", best_result)\n",
    "print(\"ROC AUC мера лучшей модели случайного леса на валидационной выборке:\", best_roc_auc)\n",
    "print(\"Число деревьев лучшей модели случайного леса:\", best_est)\n",
    "print(\"Глубина деревьев лучшей модели случайного леса:\", best_depth)"
   ]
  },
  {
   "cell_type": "markdown",
   "metadata": {},
   "source": [
    "### Логистическая регрессия"
   ]
  },
  {
   "cell_type": "code",
   "execution_count": 27,
   "metadata": {
    "scrolled": true
   },
   "outputs": [
    {
     "name": "stdout",
     "output_type": "stream",
     "text": [
      "F1-мера модели логистической регрессии на валидационной выборке: 0.10290827740492169\n",
      "ROC AUC мера модели логистической регрессии на валидационной выборке: 0.519156948049574\n"
     ]
    }
   ],
   "source": [
    "model = LogisticRegression(random_state=12345, solver='liblinear')\n",
    "model.fit(features_train, target_train) # обучение модели на тренировочной выборке\n",
    "predicted_valid = model.predict(features_valid) # получение предсказания модели\n",
    "result = f1_score(target_valid, predicted_valid) # F1-мера качества модели на валидационной выборке\n",
    "roc_auc = roc_auc_score(target_valid, predicted_valid) # ROC AUC мера качества модели на валидационной выборке\n",
    "\n",
    "best_models.append(model)\n",
    "best_results.append(result)\n",
    "best_roc_aucs.append(roc_auc)\n",
    "\n",
    "print(\"F1-мера модели логистической регрессии на валидационной выборке:\", result)\n",
    "print(\"ROC AUC мера модели логистической регрессии на валидационной выборке:\", roc_auc)"
   ]
  },
  {
   "cell_type": "markdown",
   "metadata": {},
   "source": [
    "### Сравнение моделей разного типа"
   ]
  },
  {
   "cell_type": "code",
   "execution_count": 28,
   "metadata": {
    "scrolled": true
   },
   "outputs": [
    {
     "name": "stdout",
     "output_type": "stream",
     "text": [
      "Наилучшая из опробованных моделей: RandomForestClassifier(max_depth=23, n_estimators=40, random_state=12345) \n",
      "ее F1-мера - 0.5736925515055468 \n",
      "ее ROC AUC мера - 0.6794414093359126\n"
     ]
    }
   ],
   "source": [
    "very_best_result = max(best_results)\n",
    "very_best_model = best_models[best_results.index(very_best_result)]\n",
    "very_best_roc_auc = best_roc_aucs[best_results.index(very_best_result)]\n",
    "print('Наилучшая из опробованных моделей:', very_best_model, \n",
    "      '\\nее F1-мера -', very_best_result, \n",
    "      '\\nее ROC AUC мера -', very_best_roc_auc)"
   ]
  },
  {
   "cell_type": "markdown",
   "metadata": {},
   "source": [
    "### Выводы по п. 2\n",
    "\n",
    "Были обучены 3 типа моделей с различными гиперпараметрами\n",
    "- решающее дерево глубиной от 1 до 30;\n",
    "- модель случайного леса с числом оценщиков от 10 до 100 с шагом 10 и максимальной глубиной 30;\n",
    "- модель логистической регрессии.\n",
    "\n",
    "Наилучшее значение F1-меры на валидационной выборке дала модель случайного леса с 40 деревьями и максимальной глубиной 23. Ее F1-score = 0.5737, ROC AUC мера - 0.6794. Целевое значение F1-меры 0.59 не достигнуто."
   ]
  },
  {
   "cell_type": "markdown",
   "metadata": {},
   "source": [
    "## Борьба с дисбалансом"
   ]
  },
  {
   "cell_type": "code",
   "execution_count": 29,
   "metadata": {
    "scrolled": false
   },
   "outputs": [
    {
     "data": {
      "text/plain": [
       "0    7963\n",
       "1    2037\n",
       "Name: Exited, dtype: int64"
      ]
     },
     "execution_count": 29,
     "metadata": {},
     "output_type": "execute_result"
    }
   ],
   "source": [
    "df['Exited'].value_counts()"
   ]
  },
  {
   "cell_type": "markdown",
   "metadata": {},
   "source": [
    "Имеется дисбаланс в данных - в целевом столбце единица встречается в 4 раза реже, чем 0. Решено провести upsampling данных с единицей в целевом столбце."
   ]
  },
  {
   "cell_type": "code",
   "execution_count": 41,
   "metadata": {},
   "outputs": [
    {
     "name": "stdout",
     "output_type": "stream",
     "text": [
      "F1: 0.4754521963824289\n",
      "ROC AUC: 0.6994296786458525\n"
     ]
    }
   ],
   "source": [
    "model = LogisticRegression(random_state=12345, solver='liblinear', class_weight='balanced')\n",
    "model.fit(features_train, target_train)\n",
    "predicted_valid = model.predict(features_valid)\n",
    "print(\"F1:\", f1_score(target_valid, predicted_valid))\n",
    "print(\"ROC AUC:\", roc_auc_score(target_valid, predicted_valid))"
   ]
  },
  {
   "cell_type": "markdown",
   "metadata": {},
   "source": [
    "У модели логистической регрессии с параметром class_weight='balanced' существенно повысилось значение F1-меры, однако оно все равно не достигает целевого значения 0.59."
   ]
  },
  {
   "cell_type": "code",
   "execution_count": 31,
   "metadata": {},
   "outputs": [],
   "source": [
    "def upsample(features, target, repeat):\n",
    "    features_zeros = features[target == 0]\n",
    "    features_ones = features[target == 1]\n",
    "    target_zeros = target[target == 0]\n",
    "    target_ones = target[target == 1]\n",
    "\n",
    "    features_upsampled = pd.concat([features_zeros] + [features_ones] * repeat)\n",
    "    target_upsampled = pd.concat([target_zeros] + [target_ones] * repeat)\n",
    "    features_upsampled, target_upsampled = shuffle(\n",
    "        features_upsampled, target_upsampled, random_state=12345)\n",
    "    return features_upsampled, target_upsampled\n",
    "\n",
    "features_upsampled, target_upsampled = upsample(features_train, target_train, 4)"
   ]
  },
  {
   "cell_type": "markdown",
   "metadata": {},
   "source": [
    "### Выводы по п. 3\n",
    "- Имеется дисбаланс в данных - в целевом столбце единица встречается в 4 раза реже, чем 0. \n",
    "- У модели логистической регрессии с параметром class_weight='balanced' существенно повысилось значение F1-меры, однако оно все равно не достигает целевого значения 0.59.\n",
    "- Проведен upsampling данных с единицей в целевом столбце. Решено исследовать модель случайного леса, лучше всего показавшую себя на исходных данных."
   ]
  },
  {
   "cell_type": "markdown",
   "metadata": {},
   "source": [
    "## Тестирование модели"
   ]
  },
  {
   "cell_type": "code",
   "execution_count": 32,
   "metadata": {},
   "outputs": [
    {
     "name": "stdout",
     "output_type": "stream",
     "text": [
      "F1-мера наилучшей модели случайного леса после переобучения на сбалансированной выборке: 0.5859154929577465\n",
      "ROC AUC мера наилучшей модели случайного леса после переобучения на сбалансированной выборке: 0.7314911805238754\n"
     ]
    }
   ],
   "source": [
    "very_best_model.fit(features_upsampled, target_upsampled) # обучение модели на тренировочной выборке\n",
    "predicted_valid = very_best_model.predict(features_valid) # получение предсказания модели\n",
    "result = f1_score(target_valid, predicted_valid) # подсчет качества модели на валидационной выборке \n",
    "roc_auc = roc_auc_score(target_valid, predicted_valid) # подсчет ROC AUC меры модели на валидационной выборке \n",
    "\n",
    "print(\"F1-мера наилучшей модели случайного леса после переобучения на сбалансированной выборке:\", result)\n",
    "print(\"ROC AUC мера наилучшей модели случайного леса после переобучения на сбалансированной выборке:\", roc_auc)"
   ]
  },
  {
   "cell_type": "markdown",
   "metadata": {},
   "source": [
    "F1-мера модели случайного леса с гиперпараметрами, давшими наилучший результат на исходной тестовой выборке, после обучения на сбалансированной выборке увеличилась с 0.5737 до 0.5859, но не достигла целевого значения 0.59.\n",
    "\n",
    "Решено оставить модель случайного леса, но заново провести подбор гиперпараметров."
   ]
  },
  {
   "cell_type": "code",
   "execution_count": 33,
   "metadata": {
    "scrolled": false
   },
   "outputs": [
    {
     "name": "stdout",
     "output_type": "stream",
     "text": [
      "F1-мера наилучшей модели случайного леса на валидационной выборке: 0.6040268456375838\n",
      "ROC AUC мера лучшей модели случайного леса на валидационной выборке: 0.7314911805238754\n",
      "Число деревьев лучшей модели случайного леса: 60\n",
      "Глубина деревьев лучшей модели случайного леса: 15\n"
     ]
    }
   ],
   "source": [
    "best_model = None\n",
    "best_result = 0\n",
    "best_roc_auc = 0\n",
    "best_depth = None\n",
    "best_est = None\n",
    "\n",
    "for est in range(10, 101, 10):\n",
    "    for depth in range(1, 31):\n",
    "        model = RandomForestClassifier(random_state=12345, n_estimators=est, max_depth=depth) # обучение модели с заданным количеством деревьев\n",
    "        model.fit(features_upsampled, target_upsampled) # обучение модели на тренировочной выборке\n",
    "        predicted_valid = model.predict(features_valid) # получение предсказания модели\n",
    "        result = f1_score(target_valid, predicted_valid) # подсчет качества модели на валидационной выборке\n",
    "        if result > best_result:\n",
    "            best_model = model # сохранение наилучшей модели\n",
    "            best_result = result # сохранение наилучшего значения F1-меры на валидационных данных\n",
    "            best_roc_auc = roc_auc # сохранение значения ROC AUC наилучшей модели\n",
    "            best_est = est # сохранение параметра n_estimators наилучшей модели\n",
    "            best_depth = depth # сохранение параметра max_depth наилучшей модели\n",
    "        \n",
    "print(\"F1-мера наилучшей модели случайного леса на валидационной выборке:\", best_result)\n",
    "print(\"ROC AUC мера лучшей модели случайного леса на валидационной выборке:\", best_roc_auc)\n",
    "print(\"Число деревьев лучшей модели случайного леса:\", best_est)\n",
    "print(\"Глубина деревьев лучшей модели случайного леса:\", best_depth)"
   ]
  },
  {
   "cell_type": "markdown",
   "metadata": {},
   "source": [
    "Наилучшее значение F1-меры на валидационной выборке (0.6040) получено с помощью модели случайного леса с числом деревьев 60 и максимальной глубиной 15."
   ]
  },
  {
   "cell_type": "code",
   "execution_count": 35,
   "metadata": {
    "scrolled": true
   },
   "outputs": [
    {
     "name": "stdout",
     "output_type": "stream",
     "text": [
      "F1-мера лучшей модели случайного леса на тестовой выборке: 0.5947368421052632\n",
      "ROC AUC мера лучшей модели случайного леса на тестовой выборке: 0.7306255592395683\n"
     ]
    }
   ],
   "source": [
    "predicted_test = model.predict(features_test) # получение предсказания модели\n",
    "result = f1_score(target_test, predicted_test) # подсчет качества модели на тестовой выборке\n",
    "roc_auc = roc_auc_score(target_test, predicted_test) # подсчет ROC AUC меры на тестовой выборке\n",
    "print(\"F1-мера лучшей модели случайного леса на тестовой выборке:\", result)\n",
    "print(\"ROC AUC мера лучшей модели случайного леса на тестовой выборке:\", roc_auc)"
   ]
  },
  {
   "cell_type": "markdown",
   "metadata": {},
   "source": [
    "Значение F1-меры полученной модели на тестовой выборке равно 0.5947 и превосходит целевое значение 0.59.\n",
    "Значение ROC AUC меры полученной модели на тестовой выборке равно 0.7306."
   ]
  },
  {
   "cell_type": "code",
   "execution_count": 38,
   "metadata": {},
   "outputs": [
    {
     "name": "stdout",
     "output_type": "stream",
     "text": [
      "F1-мера модели случайного леса на тестовой выборке: 0.5770308123249299\n",
      "ROC AUC мера модели случайного леса на тестовой выборке: 0.7306255592395683\n"
     ]
    }
   ],
   "source": [
    "features_train_valid_upsampled, target_train_valid_upsampled = upsample(features_train_valid, target_train_valid, 4)\n",
    "\n",
    "new_model = RandomForestClassifier(random_state=12345, n_estimators=60, max_depth=15) # обучение модели с заданным количеством деревьев\n",
    "new_model.fit(features_train_valid_upsampled, target_train_valid_upsampled) # обучение модели на тренировочной выборке\n",
    "new_predicted_valid = model.predict(features_valid) # получение предсказания модели\n",
    "result = f1_score(target_valid, predicted_valid) # подсчет качества модели на валидационной выборке\n",
    "\n",
    "print(\"F1-мера модели случайного леса на тестовой выборке:\", result)\n",
    "print(\"ROC AUC мера модели случайного леса на тестовой выборке:\", roc_auc)"
   ]
  },
  {
   "cell_type": "markdown",
   "metadata": {},
   "source": [
    "Модель с наилучшими гиперпараметрами была обучена на объединении тестовых и валидационных данных, подвергнутых upsampling. F1-мера данной модели (0.5770) оказалась ниже, чем у модели, обученной на тестовой выборке. Возможно, это произошло из-за влияния случайных факторов в ходе создания выборки."
   ]
  },
  {
   "cell_type": "markdown",
   "metadata": {},
   "source": [
    "### Выводы по п. 4\n",
    "- F1-мера модели случайного леса с гиперпараметрами, давшими наилучший результат на исходной тестовой выборке, после обучения на сбалансированной выборке увеличилась, но не достигла целевого значения 0.59. Решено оставить модель случайного леса, но заново провести подбор гиперпараметров.\n",
    "- С помощью валидационной выборки опрелены наилучшие гиперпараметры модели случайного леса: число деревьев 60, максимальная глубина 15.\n",
    "- Значение F1-меры данной модели на тестовой выборке равно 0.5947 и превосходит целевое значение 0.59.\n",
    "Значение ROC AUC меры полученной модели на тестовой выборке равно 0.7306.\n",
    "- Модель с наилучшими гиперпараметрами была обучена на сбалансированном объединении обучающих и валидационных данных. F1-мера данной модели (0.5770) оказалась ниже, чем у модели, обученной на тестовой выборке. Возможно, это произошло из-за влияния случайных факторов в ходе создания выборки."
   ]
  },
  {
   "cell_type": "markdown",
   "metadata": {},
   "source": [
    "## Выводы по проекту\n",
    "\n",
    "- Загружен файл с данными о 10 000 клиентах банка.\n",
    "- В столбце Tenure заполнены нулями пропуски, его тип заменен на целочисленный.\n",
    "- Удалены неинформативные признаки, которые могут помешать проведению обучения: RowNumber, CustomerId, Surname.\n",
    "- Выполнено One-Hot Encoding категориальных признаков Geography, Gender.\n",
    "- Данные разделены на целевые признаки (факт ухода клиента) и признаки (все остальное). \n",
    "- Выборка разделена на обучающую (60%), валидационную (20%), тестовую (20%).\n",
    "- Обучены 3 типа моделей с различными гиперпараметрами: решающее дерево глубиной, модель случайного леса, модель логистической регрессии.\n",
    "- Наилучшее значение F1-меры на валидационной выборке дала модель случайного леса с 40 деревьями и максимальной глубиной 23. Целевое значение F1-меры 0.59 не достигнуто.\n",
    "- Обнаружен дисбаланс классов - в целевом столбце единица встречается в 4 раза реже, чем 0. \n",
    "- У модели логистической регрессии с параметром class_weight='balanced' существенно повысилось значение F1-меры, однако оно все равно не достигает целевого значения 0.59.\n",
    "- Проведен upsampling данных с единицей в целевом столбце. Решено исследовать модель случайного леса, лучше всего показавшую себя на исходных данных.\n",
    "- С помощью сбалансированной валидационной выборки опрелены наилучшие гиперпараметры модели случайного леса: число деревьев 60, максимальная глубина 15.\n",
    "- Значение F1-меры данной модели на тестовой выборке равно 0.5947 и превосходит целевое значение 0.59.\n",
    "Значение ROC AUC меры полученной модели на тестовой выборке равно 0.7306.\n",
    "- Для всех исследованных случаев значение ROC AUC меры оказывалось несколько выше значения F1-меры."
   ]
  },
  {
   "cell_type": "markdown",
   "metadata": {},
   "source": [
    "## Чек-лист готовности проекта"
   ]
  },
  {
   "cell_type": "markdown",
   "metadata": {},
   "source": [
    "Поставьте 'x' в выполненных пунктах. Далее нажмите Shift+Enter."
   ]
  },
  {
   "cell_type": "markdown",
   "metadata": {},
   "source": [
    "- [x]  Jupyter Notebook открыт\n",
    "- [x]  Весь код выполняется без ошибок\n",
    "- [x]  Ячейки с кодом расположены в порядке исполнения\n",
    "- [x]  Выполнен шаг 1: данные подготовлены\n",
    "- [x]  Выполнен шаг 2: задача исследована\n",
    "    - [x]  Исследован баланс классов\n",
    "    - [x]  Изучены модели без учёта дисбаланса\n",
    "    - [x]  Написаны выводы по результатам исследования\n",
    "- [x]  Выполнен шаг 3: учтён дисбаланс\n",
    "    - [x]  Применено несколько способов борьбы с дисбалансом\n",
    "    - [x]  Написаны выводы по результатам исследования\n",
    "- [x]  Выполнен шаг 4: проведено тестирование\n",
    "- [x]  Удалось достичь *F1*-меры не менее 0.59\n",
    "- [x]  Исследована метрика *AUC-ROC*"
   ]
  }
 ],
 "metadata": {
  "ExecuteTimeLog": [
   {
    "duration": 1471,
    "start_time": "2022-03-27T12:31:36.322Z"
   },
   {
    "duration": 4,
    "start_time": "2022-03-27T12:33:08.089Z"
   },
   {
    "duration": 44,
    "start_time": "2022-03-27T12:33:09.984Z"
   },
   {
    "duration": 152,
    "start_time": "2022-03-27T12:33:25.209Z"
   },
   {
    "duration": 29,
    "start_time": "2022-03-27T12:34:42.319Z"
   },
   {
    "duration": 15,
    "start_time": "2022-03-27T12:35:03.807Z"
   },
   {
    "duration": 20,
    "start_time": "2022-03-27T12:36:04.351Z"
   },
   {
    "duration": 30,
    "start_time": "2022-03-27T12:36:08.326Z"
   },
   {
    "duration": 18,
    "start_time": "2022-03-27T12:36:24.228Z"
   },
   {
    "duration": 7,
    "start_time": "2022-03-27T12:37:12.590Z"
   },
   {
    "duration": 8,
    "start_time": "2022-03-27T12:37:21.355Z"
   },
   {
    "duration": 8,
    "start_time": "2022-03-27T12:37:36.291Z"
   },
   {
    "duration": 8,
    "start_time": "2022-03-27T12:38:49.322Z"
   },
   {
    "duration": 8,
    "start_time": "2022-03-27T12:39:33.224Z"
   },
   {
    "duration": 7,
    "start_time": "2022-03-27T12:39:49.808Z"
   },
   {
    "duration": 8,
    "start_time": "2022-03-27T12:45:37.193Z"
   },
   {
    "duration": 6,
    "start_time": "2022-03-27T12:45:46.816Z"
   },
   {
    "duration": 25,
    "start_time": "2022-03-27T12:46:15.248Z"
   },
   {
    "duration": 18,
    "start_time": "2022-03-27T12:46:29.311Z"
   },
   {
    "duration": 14,
    "start_time": "2022-03-27T12:49:32.853Z"
   },
   {
    "duration": 14,
    "start_time": "2022-03-27T12:54:04.999Z"
   },
   {
    "duration": 19,
    "start_time": "2022-03-27T12:54:11.140Z"
   },
   {
    "duration": 1492,
    "start_time": "2022-03-27T12:54:45.774Z"
   },
   {
    "duration": 47,
    "start_time": "2022-03-27T12:54:47.268Z"
   },
   {
    "duration": 29,
    "start_time": "2022-03-27T12:54:47.317Z"
   },
   {
    "duration": 24,
    "start_time": "2022-03-27T12:54:47.348Z"
   },
   {
    "duration": 55,
    "start_time": "2022-03-27T12:54:47.375Z"
   },
   {
    "duration": 28,
    "start_time": "2022-03-27T12:54:47.432Z"
   },
   {
    "duration": 33,
    "start_time": "2022-03-27T12:54:47.463Z"
   },
   {
    "duration": 1566,
    "start_time": "2022-03-27T12:55:21.989Z"
   },
   {
    "duration": 47,
    "start_time": "2022-03-27T12:55:23.557Z"
   },
   {
    "duration": 29,
    "start_time": "2022-03-27T12:55:23.607Z"
   },
   {
    "duration": 6,
    "start_time": "2022-03-27T12:55:23.638Z"
   },
   {
    "duration": 41,
    "start_time": "2022-03-27T12:55:23.647Z"
   },
   {
    "duration": 16,
    "start_time": "2022-03-27T12:55:23.690Z"
   },
   {
    "duration": 8,
    "start_time": "2022-03-27T12:55:23.708Z"
   },
   {
    "duration": 17,
    "start_time": "2022-03-27T13:02:38.460Z"
   },
   {
    "duration": 154,
    "start_time": "2022-03-27T13:07:52.255Z"
   },
   {
    "duration": 163,
    "start_time": "2022-03-27T13:31:51.070Z"
   },
   {
    "duration": 6,
    "start_time": "2022-03-27T13:32:01.552Z"
   },
   {
    "duration": 9,
    "start_time": "2022-03-27T13:33:11.164Z"
   },
   {
    "duration": 9,
    "start_time": "2022-03-27T13:35:20.978Z"
   },
   {
    "duration": 2364,
    "start_time": "2022-03-27T13:36:56.320Z"
   },
   {
    "duration": 1584,
    "start_time": "2022-03-27T13:37:14.262Z"
   },
   {
    "duration": 46,
    "start_time": "2022-03-27T13:37:15.849Z"
   },
   {
    "duration": 14,
    "start_time": "2022-03-27T13:37:15.897Z"
   },
   {
    "duration": 20,
    "start_time": "2022-03-27T13:37:15.914Z"
   },
   {
    "duration": 7,
    "start_time": "2022-03-27T13:37:15.937Z"
   },
   {
    "duration": 39,
    "start_time": "2022-03-27T13:37:15.947Z"
   },
   {
    "duration": 9,
    "start_time": "2022-03-27T13:37:15.989Z"
   },
   {
    "duration": 37,
    "start_time": "2022-03-27T13:37:16.001Z"
   },
   {
    "duration": 42,
    "start_time": "2022-03-27T13:37:16.041Z"
   },
   {
    "duration": 3,
    "start_time": "2022-03-27T13:37:16.087Z"
   },
   {
    "duration": 627,
    "start_time": "2022-03-27T13:37:16.092Z"
   },
   {
    "duration": 128,
    "start_time": "2022-03-27T13:37:16.722Z"
   },
   {
    "duration": 0,
    "start_time": "2022-03-27T13:37:16.852Z"
   },
   {
    "duration": 0,
    "start_time": "2022-03-27T13:37:16.854Z"
   },
   {
    "duration": 7,
    "start_time": "2022-03-27T13:37:48.484Z"
   },
   {
    "duration": 1497,
    "start_time": "2022-03-27T13:37:55.590Z"
   },
   {
    "duration": 46,
    "start_time": "2022-03-27T13:37:57.090Z"
   },
   {
    "duration": 14,
    "start_time": "2022-03-27T13:37:57.138Z"
   },
   {
    "duration": 43,
    "start_time": "2022-03-27T13:37:57.154Z"
   },
   {
    "duration": 13,
    "start_time": "2022-03-27T13:37:57.201Z"
   },
   {
    "duration": 5,
    "start_time": "2022-03-27T13:37:57.216Z"
   },
   {
    "duration": 8,
    "start_time": "2022-03-27T13:37:57.224Z"
   },
   {
    "duration": 50,
    "start_time": "2022-03-27T13:37:57.234Z"
   },
   {
    "duration": 17,
    "start_time": "2022-03-27T13:37:57.286Z"
   },
   {
    "duration": 3,
    "start_time": "2022-03-27T13:37:57.305Z"
   },
   {
    "duration": 660,
    "start_time": "2022-03-27T13:37:57.310Z"
   },
   {
    "duration": 130,
    "start_time": "2022-03-27T13:37:57.972Z"
   },
   {
    "duration": 0,
    "start_time": "2022-03-27T13:37:58.105Z"
   },
   {
    "duration": 0,
    "start_time": "2022-03-27T13:37:58.107Z"
   },
   {
    "duration": 1428,
    "start_time": "2022-03-27T13:40:45.519Z"
   },
   {
    "duration": 47,
    "start_time": "2022-03-27T13:40:46.950Z"
   },
   {
    "duration": 28,
    "start_time": "2022-03-27T13:40:46.999Z"
   },
   {
    "duration": 6,
    "start_time": "2022-03-27T13:40:47.029Z"
   },
   {
    "duration": 8,
    "start_time": "2022-03-27T13:40:47.038Z"
   },
   {
    "duration": 38,
    "start_time": "2022-03-27T13:40:47.048Z"
   },
   {
    "duration": 10,
    "start_time": "2022-03-27T13:40:47.088Z"
   },
   {
    "duration": 26,
    "start_time": "2022-03-27T13:40:47.100Z"
   },
   {
    "duration": 17,
    "start_time": "2022-03-27T13:40:47.128Z"
   },
   {
    "duration": 3,
    "start_time": "2022-03-27T13:40:47.147Z"
   },
   {
    "duration": 603,
    "start_time": "2022-03-27T13:40:47.183Z"
   },
   {
    "duration": 149,
    "start_time": "2022-03-27T13:40:47.788Z"
   },
   {
    "duration": 0,
    "start_time": "2022-03-27T13:40:47.939Z"
   },
   {
    "duration": 0,
    "start_time": "2022-03-27T13:40:47.941Z"
   },
   {
    "duration": 1508,
    "start_time": "2022-03-27T13:42:20.427Z"
   },
   {
    "duration": 51,
    "start_time": "2022-03-27T13:42:21.938Z"
   },
   {
    "duration": 32,
    "start_time": "2022-03-27T13:42:21.992Z"
   },
   {
    "duration": 17,
    "start_time": "2022-03-27T13:42:22.027Z"
   },
   {
    "duration": 40,
    "start_time": "2022-03-27T13:42:22.046Z"
   },
   {
    "duration": 46,
    "start_time": "2022-03-27T13:42:22.088Z"
   },
   {
    "duration": 35,
    "start_time": "2022-03-27T13:42:22.137Z"
   },
   {
    "duration": 61,
    "start_time": "2022-03-27T13:42:22.175Z"
   },
   {
    "duration": 43,
    "start_time": "2022-03-27T13:42:22.239Z"
   },
   {
    "duration": 38,
    "start_time": "2022-03-27T13:42:22.288Z"
   },
   {
    "duration": 709,
    "start_time": "2022-03-27T13:42:22.329Z"
   },
   {
    "duration": 176,
    "start_time": "2022-03-27T13:42:23.040Z"
   },
   {
    "duration": 0,
    "start_time": "2022-03-27T13:42:23.219Z"
   },
   {
    "duration": 0,
    "start_time": "2022-03-27T13:42:23.220Z"
   },
   {
    "duration": 150,
    "start_time": "2022-03-27T13:44:09.185Z"
   },
   {
    "duration": 29089,
    "start_time": "2022-03-27T13:44:19.448Z"
   },
   {
    "duration": 28218,
    "start_time": "2022-03-27T13:45:47.183Z"
   },
   {
    "duration": 28955,
    "start_time": "2022-03-27T13:47:32.460Z"
   },
   {
    "duration": 70690,
    "start_time": "2022-03-27T13:49:02.874Z"
   },
   {
    "duration": 102,
    "start_time": "2022-03-27T13:52:24.582Z"
   },
   {
    "duration": 8,
    "start_time": "2022-03-27T13:52:39.669Z"
   },
   {
    "duration": 96872,
    "start_time": "2022-03-27T14:03:09.113Z"
   },
   {
    "duration": 8,
    "start_time": "2022-03-27T14:05:35.029Z"
   },
   {
    "duration": 8,
    "start_time": "2022-03-27T14:05:49.213Z"
   },
   {
    "duration": 6,
    "start_time": "2022-03-27T14:06:07.860Z"
   },
   {
    "duration": 298,
    "start_time": "2022-03-27T14:08:23.522Z"
   },
   {
    "duration": 12,
    "start_time": "2022-03-27T14:08:45.280Z"
   },
   {
    "duration": 31,
    "start_time": "2022-03-27T14:08:48.455Z"
   },
   {
    "duration": 5,
    "start_time": "2022-03-27T14:09:17.487Z"
   },
   {
    "duration": 18,
    "start_time": "2022-03-27T14:09:23.072Z"
   },
   {
    "duration": 406,
    "start_time": "2022-03-27T14:09:27.127Z"
   },
   {
    "duration": 403,
    "start_time": "2022-03-27T14:09:56.407Z"
   },
   {
    "duration": 110015,
    "start_time": "2022-03-27T14:11:24.261Z"
   },
   {
    "duration": 158516,
    "start_time": "2022-03-27T14:14:04.969Z"
   },
   {
    "duration": 60,
    "start_time": "2022-03-27T14:18:36.762Z"
   },
   {
    "duration": 1148,
    "start_time": "2022-03-27T19:23:50.978Z"
   },
   {
    "duration": 40,
    "start_time": "2022-03-27T19:23:52.128Z"
   },
   {
    "duration": 20,
    "start_time": "2022-03-27T19:23:52.169Z"
   },
   {
    "duration": 5,
    "start_time": "2022-03-27T19:23:52.192Z"
   },
   {
    "duration": 10,
    "start_time": "2022-03-27T19:23:52.199Z"
   },
   {
    "duration": 4,
    "start_time": "2022-03-27T19:23:52.211Z"
   },
   {
    "duration": 13,
    "start_time": "2022-03-27T19:23:52.217Z"
   },
   {
    "duration": 18,
    "start_time": "2022-03-27T19:23:52.231Z"
   },
   {
    "duration": 12,
    "start_time": "2022-03-27T19:23:52.250Z"
   },
   {
    "duration": 2,
    "start_time": "2022-03-27T19:23:52.265Z"
   },
   {
    "duration": 529,
    "start_time": "2022-03-27T19:23:52.270Z"
   },
   {
    "duration": 56516,
    "start_time": "2022-03-27T19:23:52.801Z"
   },
   {
    "duration": 100,
    "start_time": "2022-03-27T19:24:49.319Z"
   },
   {
    "duration": 92,
    "start_time": "2022-03-27T19:24:49.422Z"
   },
   {
    "duration": 7,
    "start_time": "2022-03-27T19:24:49.516Z"
   },
   {
    "duration": 18,
    "start_time": "2022-03-27T19:24:49.525Z"
   },
   {
    "duration": 379,
    "start_time": "2022-03-27T19:24:49.545Z"
   },
   {
    "duration": 75685,
    "start_time": "2022-03-27T19:24:49.926Z"
   },
   {
    "duration": 1266,
    "start_time": "2022-03-27T19:26:05.612Z"
   },
   {
    "duration": 76,
    "start_time": "2022-03-27T19:26:06.880Z"
   },
   {
    "duration": 63,
    "start_time": "2022-03-27T19:26:54.075Z"
   },
   {
    "duration": 1201,
    "start_time": "2022-03-27T19:28:13.463Z"
   },
   {
    "duration": 37,
    "start_time": "2022-03-27T19:28:14.667Z"
   },
   {
    "duration": 31,
    "start_time": "2022-03-27T19:28:14.706Z"
   },
   {
    "duration": 6,
    "start_time": "2022-03-27T19:28:14.739Z"
   },
   {
    "duration": 9,
    "start_time": "2022-03-27T19:28:14.749Z"
   },
   {
    "duration": 4,
    "start_time": "2022-03-27T19:28:14.760Z"
   },
   {
    "duration": 6,
    "start_time": "2022-03-27T19:28:14.765Z"
   },
   {
    "duration": 52,
    "start_time": "2022-03-27T19:28:14.773Z"
   },
   {
    "duration": 16,
    "start_time": "2022-03-27T19:28:14.827Z"
   },
   {
    "duration": 3,
    "start_time": "2022-03-27T19:28:14.845Z"
   },
   {
    "duration": 547,
    "start_time": "2022-03-27T19:28:14.850Z"
   },
   {
    "duration": 56688,
    "start_time": "2022-03-27T19:28:15.399Z"
   },
   {
    "duration": 121,
    "start_time": "2022-03-27T19:29:12.089Z"
   },
   {
    "duration": 94,
    "start_time": "2022-03-27T19:29:12.218Z"
   },
   {
    "duration": 5,
    "start_time": "2022-03-27T19:29:12.314Z"
   },
   {
    "duration": 14,
    "start_time": "2022-03-27T19:29:12.321Z"
   },
   {
    "duration": 343,
    "start_time": "2022-03-27T19:29:12.337Z"
   },
   {
    "duration": 76335,
    "start_time": "2022-03-27T19:29:12.682Z"
   },
   {
    "duration": 2,
    "start_time": "2022-03-27T19:30:29.019Z"
   },
   {
    "duration": 62,
    "start_time": "2022-03-27T19:30:29.022Z"
   },
   {
    "duration": 44,
    "start_time": "2022-03-28T06:17:01.953Z"
   },
   {
    "duration": 1175,
    "start_time": "2022-03-28T06:17:09.349Z"
   },
   {
    "duration": 35,
    "start_time": "2022-03-28T06:17:11.373Z"
   },
   {
    "duration": 19,
    "start_time": "2022-03-28T06:17:14.974Z"
   },
   {
    "duration": 4,
    "start_time": "2022-03-28T06:17:17.541Z"
   },
   {
    "duration": 6,
    "start_time": "2022-03-28T06:17:19.437Z"
   },
   {
    "duration": 554,
    "start_time": "2022-03-28T06:17:21.285Z"
   },
   {
    "duration": 68,
    "start_time": "2022-03-28T06:18:07.876Z"
   },
   {
    "duration": 5,
    "start_time": "2022-03-28T06:18:15.756Z"
   },
   {
    "duration": 5,
    "start_time": "2022-03-28T06:19:55.146Z"
   },
   {
    "duration": 18,
    "start_time": "2022-03-28T06:19:59.970Z"
   },
   {
    "duration": 12,
    "start_time": "2022-03-28T06:20:03.729Z"
   },
   {
    "duration": 2,
    "start_time": "2022-03-28T06:20:23.225Z"
   },
   {
    "duration": 21,
    "start_time": "2022-03-28T06:21:19.064Z"
   },
   {
    "duration": 3,
    "start_time": "2022-03-28T06:21:31.727Z"
   },
   {
    "duration": 35,
    "start_time": "2022-03-28T06:21:33.688Z"
   },
   {
    "duration": 4,
    "start_time": "2022-03-28T06:21:41.551Z"
   },
   {
    "duration": 6,
    "start_time": "2022-03-28T06:21:44.047Z"
   },
   {
    "duration": 17,
    "start_time": "2022-03-28T06:21:46.494Z"
   },
   {
    "duration": 11,
    "start_time": "2022-03-28T06:21:50.926Z"
   },
   {
    "duration": 4,
    "start_time": "2022-03-28T06:21:54.822Z"
   },
   {
    "duration": 711,
    "start_time": "2022-03-28T06:21:57.558Z"
   },
   {
    "duration": 31852,
    "start_time": "2022-03-28T06:22:12.910Z"
   },
   {
    "duration": 55019,
    "start_time": "2022-03-28T06:22:58.318Z"
   },
   {
    "duration": 75013,
    "start_time": "2022-03-28T06:25:14.051Z"
   },
   {
    "duration": 99133,
    "start_time": "2022-03-28T06:26:43.432Z"
   },
   {
    "duration": 94,
    "start_time": "2022-03-28T06:29:37.972Z"
   },
   {
    "duration": 5,
    "start_time": "2022-03-28T06:29:41.420Z"
   },
   {
    "duration": 6,
    "start_time": "2022-03-28T06:30:07.563Z"
   },
   {
    "duration": 53,
    "start_time": "2022-03-28T06:30:15.755Z"
   },
   {
    "duration": 12,
    "start_time": "2022-03-28T06:31:15.066Z"
   },
   {
    "duration": 360,
    "start_time": "2022-03-28T06:31:33.241Z"
   },
   {
    "duration": 125107,
    "start_time": "2022-03-28T06:32:24.224Z"
   },
   {
    "duration": 53,
    "start_time": "2022-03-28T06:35:01.357Z"
   },
   {
    "duration": 49,
    "start_time": "2022-03-28T06:35:47.012Z"
   },
   {
    "duration": 164,
    "start_time": "2022-03-28T06:38:47.736Z"
   },
   {
    "duration": 680,
    "start_time": "2022-03-28T06:38:59.215Z"
   },
   {
    "duration": 734,
    "start_time": "2022-03-28T06:39:23.415Z"
   },
   {
    "duration": 52,
    "start_time": "2022-03-28T07:02:20.033Z"
   },
   {
    "duration": 171,
    "start_time": "2022-03-28T07:03:31.492Z"
   },
   {
    "duration": 212,
    "start_time": "2022-03-28T07:03:42.855Z"
   }
  ],
  "kernelspec": {
   "display_name": "Python 3 (ipykernel)",
   "language": "python",
   "name": "python3"
  },
  "language_info": {
   "codemirror_mode": {
    "name": "ipython",
    "version": 3
   },
   "file_extension": ".py",
   "mimetype": "text/x-python",
   "name": "python",
   "nbconvert_exporter": "python",
   "pygments_lexer": "ipython3",
   "version": "3.9.5"
  },
  "toc": {
   "base_numbering": 1,
   "nav_menu": {},
   "number_sections": true,
   "sideBar": true,
   "skip_h1_title": true,
   "title_cell": "Содержание",
   "title_sidebar": "Contents",
   "toc_cell": true,
   "toc_position": {
    "height": "calc(100% - 180px)",
    "left": "10px",
    "top": "150px",
    "width": "323.903px"
   },
   "toc_section_display": true,
   "toc_window_display": true
  }
 },
 "nbformat": 4,
 "nbformat_minor": 2
}
